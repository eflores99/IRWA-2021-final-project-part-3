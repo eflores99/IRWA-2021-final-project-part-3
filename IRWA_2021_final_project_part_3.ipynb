{
 "cells": [
  {
   "cell_type": "markdown",
   "metadata": {
    "id": "zn03QKZ7eIRQ"
   },
   "source": [
    "# FINAL PROJECT. PART 1. TEXT PROCESSING"
   ]
  },
  {
   "cell_type": "markdown",
   "metadata": {
    "id": "N5aAcZX-eIRT"
   },
   "source": [
    "## Loading the libraries"
   ]
  },
  {
   "cell_type": "code",
   "execution_count": 1,
   "metadata": {
    "id": "8jwAjiqSeIRU",
    "outputId": "90941402-cac6-4a5c-b893-c92377c1e3c5"
   },
   "outputs": [
    {
     "name": "stdout",
     "output_type": "stream",
     "text": [
      "[nltk_data] Downloading package stopwords to\n",
      "[nltk_data]     C:\\Users\\kiree\\AppData\\Roaming\\nltk_data...\n",
      "[nltk_data]   Package stopwords is already up-to-date!\n"
     ]
    },
    {
     "data": {
      "text/plain": [
       "True"
      ]
     },
     "execution_count": 1,
     "metadata": {},
     "output_type": "execute_result"
    }
   ],
   "source": [
    "import nltk\n",
    "nltk.download('stopwords')"
   ]
  },
  {
   "cell_type": "code",
   "execution_count": 2,
   "metadata": {
    "id": "oaH6-UGjeIRV"
   },
   "outputs": [],
   "source": [
    "from collections import defaultdict\n",
    "from array import array\n",
    "from nltk.stem import PorterStemmer\n",
    "from nltk.corpus import stopwords\n",
    "import math\n",
    "import numpy as np\n",
    "import collections\n",
    "from numpy import linalg as la\n",
    "import time\n",
    "import json\n",
    "import re\n",
    "import unidecode\n",
    "import pandas as pd\n",
    "import matplotlib.pyplot as plt\n",
    "import matplotlib.pyplot as plt\n",
    "import matplotlib.cm as cm\n",
    "import multiprocessing\n",
    "from gensim.models import Word2Vec\n",
    "import codecs"
   ]
  },
  {
   "cell_type": "markdown",
   "metadata": {
    "id": "M3jxoCZneIRV"
   },
   "source": [
    "## Transforming the .txt document into .json file"
   ]
  },
  {
   "cell_type": "code",
   "execution_count": 3,
   "metadata": {
    "id": "IaExCYkWeIRV"
   },
   "outputs": [],
   "source": [
    "#Data with original text of the tweet\n",
    "with open('dataset_tweets_WHO.txt') as f:\n",
    "    json_data1 = json.load(f)\n",
    "\n",
    "#Data with the preprocessed text of a tweet\n",
    "with open('dataset_tweets_WHO.txt') as f:\n",
    "    json_data = json.load(f)\n",
    "\n",
    "#Data for evaluation\n",
    "with open('dataset_tweets_WHO.txt') as f:\n",
    "    json_data_evaluation = json.load(f)"
   ]
  },
  {
   "cell_type": "code",
   "execution_count": 4,
   "metadata": {
    "id": "NRp-O6ULUYeg",
    "outputId": "5b8070e0-a70d-4519-ee27-242346fbf991"
   },
   "outputs": [
    {
     "data": {
      "text/plain": [
       "{'created_at': 'Wed Oct 13 09:15:58 +0000 2021',\n",
       " 'id': 1448215930178310144,\n",
       " 'id_str': '1448215930178310144',\n",
       " 'full_text': \"It's International Day for Disaster Risk Reduction\\n\\n#OpenWHO has launched a multi-tiered core curriculum to help equip you with the competencies needed to work within public health emergency response.\\n\\nStart learning today &amp; be #Ready4Response:\\n👉 https://t.co/hBFFOF0xKL https://t.co/fgZY22RWuS\",\n",
       " 'truncated': False,\n",
       " 'display_text_range': [0, 274],\n",
       " 'entities': {'hashtags': [{'text': 'OpenWHO', 'indices': [52, 60]},\n",
       "   {'text': 'Ready4Response', 'indices': [232, 247]}],\n",
       "  'symbols': [],\n",
       "  'user_mentions': [],\n",
       "  'urls': [{'url': 'https://t.co/hBFFOF0xKL',\n",
       "    'expanded_url': 'https://bit.ly/3wCa0Dr',\n",
       "    'display_url': 'bit.ly/3wCa0Dr',\n",
       "    'indices': [251, 274]}],\n",
       "  'media': [{'id': 1448215398814560259,\n",
       "    'id_str': '1448215398814560259',\n",
       "    'indices': [275, 298],\n",
       "    'media_url': 'http://pbs.twimg.com/ext_tw_video_thumb/1448215398814560259/pu/img/0COksfUiCnS3MuNy.jpg',\n",
       "    'media_url_https': 'https://pbs.twimg.com/ext_tw_video_thumb/1448215398814560259/pu/img/0COksfUiCnS3MuNy.jpg',\n",
       "    'url': 'https://t.co/fgZY22RWuS',\n",
       "    'display_url': 'pic.twitter.com/fgZY22RWuS',\n",
       "    'expanded_url': 'https://twitter.com/WHO/status/1448215930178310144/video/1',\n",
       "    'type': 'photo',\n",
       "    'sizes': {'thumb': {'w': 150, 'h': 150, 'resize': 'crop'},\n",
       "     'large': {'w': 1920, 'h': 1080, 'resize': 'fit'},\n",
       "     'medium': {'w': 1200, 'h': 675, 'resize': 'fit'},\n",
       "     'small': {'w': 680, 'h': 383, 'resize': 'fit'}}}]},\n",
       " 'extended_entities': {'media': [{'id': 1448215398814560259,\n",
       "    'id_str': '1448215398814560259',\n",
       "    'indices': [275, 298],\n",
       "    'media_url': 'http://pbs.twimg.com/ext_tw_video_thumb/1448215398814560259/pu/img/0COksfUiCnS3MuNy.jpg',\n",
       "    'media_url_https': 'https://pbs.twimg.com/ext_tw_video_thumb/1448215398814560259/pu/img/0COksfUiCnS3MuNy.jpg',\n",
       "    'url': 'https://t.co/fgZY22RWuS',\n",
       "    'display_url': 'pic.twitter.com/fgZY22RWuS',\n",
       "    'expanded_url': 'https://twitter.com/WHO/status/1448215930178310144/video/1',\n",
       "    'type': 'video',\n",
       "    'sizes': {'thumb': {'w': 150, 'h': 150, 'resize': 'crop'},\n",
       "     'large': {'w': 1920, 'h': 1080, 'resize': 'fit'},\n",
       "     'medium': {'w': 1200, 'h': 675, 'resize': 'fit'},\n",
       "     'small': {'w': 680, 'h': 383, 'resize': 'fit'}},\n",
       "    'video_info': {'aspect_ratio': [16, 9],\n",
       "     'duration_millis': 97639,\n",
       "     'variants': [{'bitrate': 256000,\n",
       "       'content_type': 'video/mp4',\n",
       "       'url': 'https://video.twimg.com/ext_tw_video/1448215398814560259/pu/vid/480x270/izK3M-OCh-xYweXi.mp4?tag=12'},\n",
       "      {'bitrate': 832000,\n",
       "       'content_type': 'video/mp4',\n",
       "       'url': 'https://video.twimg.com/ext_tw_video/1448215398814560259/pu/vid/640x360/deOwD7OuDaJ7uiHk.mp4?tag=12'},\n",
       "      {'bitrate': 2176000,\n",
       "       'content_type': 'video/mp4',\n",
       "       'url': 'https://video.twimg.com/ext_tw_video/1448215398814560259/pu/vid/1280x720/aOPOcEVxPItrZ2RR.mp4?tag=12'},\n",
       "      {'content_type': 'application/x-mpegURL',\n",
       "       'url': 'https://video.twimg.com/ext_tw_video/1448215398814560259/pu/pl/4_kPEePepwPbCe8k.m3u8?tag=12&container=fmp4'}]},\n",
       "    'additional_media_info': {'monetizable': False}}]},\n",
       " 'source': '<a href=\"https://mobile.twitter.com\" rel=\"nofollow\">Twitter Web App</a>',\n",
       " 'in_reply_to_status_id': 1448208458604584960,\n",
       " 'in_reply_to_status_id_str': '1448208458604584960',\n",
       " 'in_reply_to_user_id': 14499829,\n",
       " 'in_reply_to_user_id_str': '14499829',\n",
       " 'in_reply_to_screen_name': 'WHO',\n",
       " 'user': {'id': 14499829,\n",
       "  'id_str': '14499829',\n",
       "  'name': 'World Health Organization (WHO)',\n",
       "  'screen_name': 'WHO',\n",
       "  'location': 'Geneva, Switzerland',\n",
       "  'description': 'We are the #UnitedNations’ health agency - #HealthForAll.\\n▶️ Always check our latest tweets on #COVID19 for updated advice/information.',\n",
       "  'url': 'https://t.co/wVulKuROWG',\n",
       "  'entities': {'url': {'urls': [{'url': 'https://t.co/wVulKuROWG',\n",
       "      'expanded_url': 'http://www.who.int',\n",
       "      'display_url': 'who.int',\n",
       "      'indices': [0, 23]}]},\n",
       "   'description': {'urls': []}},\n",
       "  'protected': False,\n",
       "  'followers_count': 9963586,\n",
       "  'friends_count': 1743,\n",
       "  'listed_count': 34215,\n",
       "  'created_at': 'Wed Apr 23 19:56:27 +0000 2008',\n",
       "  'favourites_count': 11879,\n",
       "  'utc_offset': None,\n",
       "  'time_zone': None,\n",
       "  'geo_enabled': True,\n",
       "  'verified': True,\n",
       "  'statuses_count': 64983,\n",
       "  'lang': None,\n",
       "  'contributors_enabled': False,\n",
       "  'is_translator': False,\n",
       "  'is_translation_enabled': False,\n",
       "  'profile_background_color': 'D0ECF8',\n",
       "  'profile_background_image_url': 'http://abs.twimg.com/images/themes/theme1/bg.png',\n",
       "  'profile_background_image_url_https': 'https://abs.twimg.com/images/themes/theme1/bg.png',\n",
       "  'profile_background_tile': True,\n",
       "  'profile_image_url': 'http://pbs.twimg.com/profile_images/875476478988886016/_l61qZdR_normal.jpg',\n",
       "  'profile_image_url_https': 'https://pbs.twimg.com/profile_images/875476478988886016/_l61qZdR_normal.jpg',\n",
       "  'profile_banner_url': 'https://pbs.twimg.com/profile_banners/14499829/1610970935',\n",
       "  'profile_link_color': '0396DB',\n",
       "  'profile_sidebar_border_color': '8C8C8C',\n",
       "  'profile_sidebar_fill_color': 'D9D9D9',\n",
       "  'profile_text_color': '000000',\n",
       "  'profile_use_background_image': True,\n",
       "  'has_extended_profile': True,\n",
       "  'default_profile': False,\n",
       "  'default_profile_image': False,\n",
       "  'following': False,\n",
       "  'follow_request_sent': False,\n",
       "  'notifications': False,\n",
       "  'translator_type': 'regular',\n",
       "  'withheld_in_countries': []},\n",
       " 'geo': None,\n",
       " 'coordinates': None,\n",
       " 'place': None,\n",
       " 'contributors': None,\n",
       " 'is_quote_status': False,\n",
       " 'retweet_count': 16,\n",
       " 'favorite_count': 52,\n",
       " 'favorited': False,\n",
       " 'retweeted': False,\n",
       " 'possibly_sensitive': False,\n",
       " 'lang': 'en'}"
      ]
     },
     "execution_count": 4,
     "metadata": {},
     "output_type": "execute_result"
    }
   ],
   "source": [
    "json_data['0']"
   ]
  },
  {
   "cell_type": "markdown",
   "metadata": {
    "id": "qe0tpdhReIRW"
   },
   "source": [
    "## Text Processing"
   ]
  },
  {
   "cell_type": "code",
   "execution_count": 5,
   "metadata": {
    "id": "aVu7nKIleIRW"
   },
   "outputs": [],
   "source": [
    "stemmer = PorterStemmer()\n",
    "stop_words = set(stopwords.words(\"english\"))\n",
    "def cleanText(text):\n",
    "    text = unidecode.unidecode(text)\n",
    "    a = text.lower() #put everything in lowercase\n",
    "    result = re.sub(\"(@[A-Za-z0-9]+)|([^0-9A-Za-z \\t])|(\\w+:\\/\\/\\S+)\",\" \",a) #cleaning data\n",
    "    result = result.split() #tokenize\n",
    "    result = [word for word in result if word not in stop_words ] #removing stop words\n",
    "    result = [stemmer.stem(word) for word in result] #stemming (looking for the root)\n",
    "    return result"
   ]
  },
  {
   "cell_type": "markdown",
   "metadata": {
    "id": "DnHQInb7eIRX"
   },
   "source": [
    "## Comparison of the original text with the preprocessed one"
   ]
  },
  {
   "cell_type": "code",
   "execution_count": 6,
   "metadata": {
    "id": "AvDb06r_eIRX",
    "outputId": "3fd79287-4855-49f9-8cdc-effdb515f37c"
   },
   "outputs": [
    {
     "name": "stdout",
     "output_type": "stream",
     "text": [
      "It's International Day for Disaster Risk Reduction\n",
      "\n",
      "#OpenWHO has launched a multi-tiered core curriculum to help equip you with the competencies needed to work within public health emergency response.\n",
      "\n",
      "Start learning today &amp; be #Ready4Response:\n",
      "👉 https://t.co/hBFFOF0xKL https://t.co/fgZY22RWuS\n"
     ]
    }
   ],
   "source": [
    "#Original text\n",
    "print(json_data['0']['full_text'])"
   ]
  },
  {
   "cell_type": "code",
   "execution_count": 7,
   "metadata": {
    "id": "q6riE08JeIRX",
    "outputId": "879e2009-0f40-4d10-d12d-e0150522cc87"
   },
   "outputs": [
    {
     "name": "stdout",
     "output_type": "stream",
     "text": [
      "['intern', 'day', 'disast', 'risk', 'reduct', 'openwho', 'launch', 'multi', 'tier', 'core', 'curriculum', 'help', 'equip', 'compet', 'need', 'work', 'within', 'public', 'health', 'emerg', 'respons', 'start', 'learn', 'today', 'amp', 'ready4respons']\n"
     ]
    }
   ],
   "source": [
    "#Preprocessed text\n",
    "print(cleanText(json_data['0']['full_text']))"
   ]
  },
  {
   "cell_type": "markdown",
   "metadata": {
    "id": "_Blw-ZuAeIRY"
   },
   "source": [
    "## Putting the preprocessed text back into the dictionary"
   ]
  },
  {
   "cell_type": "code",
   "execution_count": 8,
   "metadata": {
    "id": "MdaiCSZEeIRY"
   },
   "outputs": [],
   "source": [
    "for i in json_data.keys():\n",
    "    json_data[i]['full_text'] = cleanText(json_data[i]['full_text'])"
   ]
  },
  {
   "cell_type": "markdown",
   "metadata": {
    "id": "lrIx-r0ZeIRY"
   },
   "source": [
    "# PART 2 Information Retrieval and Web Analytics: index and Evaluation\n",
    "\n",
    "## Rank-Based Metrics\n"
   ]
  },
  {
   "cell_type": "markdown",
   "metadata": {
    "id": "6DIsZVtBUYem"
   },
   "source": [
    "## 1. Create the inverted index"
   ]
  },
  {
   "cell_type": "code",
   "execution_count": 9,
   "metadata": {
    "id": "Ixc7Gd8BeIRZ",
    "outputId": "ac7f358b-e286-4659-c6ed-540ec465eb20"
   },
   "outputs": [
    {
     "name": "stdout",
     "output_type": "stream",
     "text": [
      "['intern', 'day', 'disast', 'risk', 'reduct', 'openwho', 'launch', 'multi', 'tier', 'core', 'curriculum', 'help', 'equip', 'compet', 'need', 'work', 'within', 'public', 'health', 'emerg', 'respons', 'start', 'learn', 'today', 'amp', 'ready4respons']\n"
     ]
    }
   ],
   "source": [
    "#Creating the list of preprocessed tweets\n",
    "all_tweets = []\n",
    "for i in json_data.keys():\n",
    "     all_tweets.append(json_data[i]['full_text'])\n",
    "print(all_tweets[0])    "
   ]
  },
  {
   "cell_type": "code",
   "execution_count": 10,
   "metadata": {
    "id": "hFIPRdwweIRZ"
   },
   "outputs": [],
   "source": [
    "def create_index(lines):\n",
    "    \"\"\"\n",
    "    Implement the inverted index\n",
    "    \n",
    "    Argument:\n",
    "    lines -- collection of tweets\n",
    "    \n",
    "    Returns:\n",
    "    index - the inverted index (implemented through a Python dictionary) containing terms as keys and the corresponding\n",
    "    list of documents where these keys appears in (and the positions) as values.\n",
    "    \"\"\"\n",
    "    index = defaultdict(list)\n",
    "    for i in range(len(lines)):  #lines contain all tweets\n",
    "        page_id = json_data[str(i)]['id']\n",
    "        terms = json_data[str(i)]['full_text']\n",
    "       \n",
    "        ## ===============================================================        \n",
    "        ## create the index for the current page and store it in current_page_index (current_page_index)\n",
    "        ## current_page_index ==> { ‘term1’: [current_doc, [list of positions]], ...,‘term_n’: [current_doc, [list of positions]]}\n",
    "\n",
    "        ## Example: if the curr_doc has id 1 and his text is \n",
    "        ##\"web retrieval information retrieval\":\n",
    "\n",
    "        ## current_page_index ==> { ‘web’: [1, [0]], ‘retrieval’: [1, [1,4]], ‘information’: [1, [2]]}\n",
    "\n",
    "        ## the term ‘web’ appears in document 1 in positions 0, \n",
    "        ## the term ‘retrieval’ appears in document 1 in positions 1 and 4\n",
    "        ## ===============================================================\n",
    "\n",
    "        current_page_index = {}\n",
    "\n",
    "        for position, term in enumerate(terms): # terms contains the tweet text. Loop over all terms\n",
    "            try:\n",
    "                # if the term is already in the index for the current page (current_page_index)\n",
    "                # append the position to the corresponding list\n",
    "                \n",
    "                current_page_index[term][1].append(position)  \n",
    "            except:\n",
    "                # Add the new term as dict key and initialize the array of positions and add the position\n",
    "                current_page_index[term]=[page_id, array('I',[position])] #'I' indicates unsigned int (int in Python)\n",
    "            \n",
    "        #merge the current page index with the main index\n",
    "        for term_page, posting_page in current_page_index.items():\n",
    "            index[term_page].append(posting_page)                   \n",
    "                    \n",
    "    return index"
   ]
  },
  {
   "cell_type": "code",
   "execution_count": 11,
   "metadata": {
    "id": "LXHv1W6ueIRa",
    "outputId": "bd4735e6-a3fa-404e-cef3-0fa5826242ad"
   },
   "outputs": [
    {
     "name": "stdout",
     "output_type": "stream",
     "text": [
      "Total time to create the index: 0.07 seconds\n"
     ]
    }
   ],
   "source": [
    "start_time = time.time()\n",
    "index = create_index(all_tweets)\n",
    "print(\"Total time to create the index: {} seconds\".format(np.round(time.time() - start_time, 2)))"
   ]
  },
  {
   "cell_type": "code",
   "execution_count": 12,
   "metadata": {
    "id": "QPv32-iweIRa",
    "outputId": "deb170ef-b20f-4d6b-efa8-e0f1151c9cee"
   },
   "outputs": [
    {
     "name": "stdout",
     "output_type": "stream",
     "text": [
      "Index results for the term 'researcher': []\n",
      "\n",
      "First 10 Index results for the term 'research': \n",
      "[[1447644123868114950, array('I', [17])], [1446446110411739141, array('I', [21])], [1446114492203429902, array('I', [16])], [1445848161130475520, array('I', [4])], [1445780830765211654, array('I', [6])], [1445780396151476243, array('I', [3])], [1445777658457980935, array('I', [5])], [1442501905935175683, array('I', [12])], [1442498895636955138, array('I', [4])], [1442466033131003908, array('I', [23])]]\n"
     ]
    }
   ],
   "source": [
    "#We applied stemming, that is why the results for researcher are not given\n",
    "print(\"Index results for the term 'researcher': {}\\n\".format(index['researcher']))\n",
    "print(\"First 10 Index results for the term 'research': \\n{}\".format(index['research'][:10]))"
   ]
  },
  {
   "cell_type": "code",
   "execution_count": 13,
   "metadata": {
    "id": "KfqidXo3eIRb"
   },
   "outputs": [],
   "source": [
    "def retrieve_docs(docs, top):\n",
    "    \n",
    "    \"\"\"\n",
    "    Retrieve the documents in the required format\n",
    "    \n",
    "    Argument:\n",
    "    docs -- collection of tweets\n",
    "    top -- the number of tweets to retrieve\n",
    "    \n",
    "    Returns:\n",
    "    doc_info - the collection of top tweets retrieved in the required format\n",
    "    \"\"\"\n",
    "    doc_info = []\n",
    "    for d_id in docs[:top]:\n",
    "        for j in json_data1.keys():\n",
    "            if(d_id == json_data1[j]['id']):\n",
    "                #Check if the tweet has hashtags\n",
    "                if(len(json_data1[j][\"entities\"][\"hashtags\"])!= 0):\n",
    "                    #Check if the tweet has a link (can lack it if the tweet is an answer to the main one)\n",
    "                    if 'media' in json_data1[j]['entities'].keys():\n",
    "                        doc_info.append([[json_data1[j][\"full_text\"]],[json_data1[j][\"user\"]['name']], [json_data1[j][\"created_at\"]],\n",
    "                                 ['#'+ json_data1[j][\"entities\"]['hashtags'][:][i]['text'] for i in range(len(json_data1[j][\"entities\"]['hashtags']))], \n",
    "                                 [str(json_data1[j][\"favorite_count\"])],[str(json_data1[j][\"retweet_count\"])],[json_data1[j][\"entities\"][\"media\"][0]['url']]])\n",
    "                    else:\n",
    "                        doc_info.append([[json_data1[j][\"full_text\"]],[json_data1[j][\"user\"]['name']], [json_data1[j][\"created_at\"]],\n",
    "                                 ['#'+ json_data1[j][\"entities\"]['hashtags'][:][i]['text'] for i in range(len(json_data1[j][\"entities\"]['hashtags']))], \n",
    "                                 [str(json_data1[j][\"favorite_count\"])],[str(json_data1[j][\"retweet_count\"])]])\n",
    "                else:\n",
    "                    if 'media' in json_data1[j]['entities'].keys():\n",
    "                        doc_info.append([[json_data1[j][\"full_text\"]],[json_data1[j][\"user\"]['name']], [json_data1[j][\"created_at\"]],\n",
    "                                [str(json_data1[j][\"favorite_count\"])],[str(json_data1[j][\"retweet_count\"])],[json_data1[j][\"entities\"][\"media\"][0]['url']]])\n",
    "                    else:\n",
    "                        doc_info.append([[json_data1[j][\"full_text\"]],[json_data1[j][\"user\"]['name']], [json_data1[j][\"created_at\"]],\n",
    "                                [str(json_data1[j][\"favorite_count\"])],[str(json_data1[j][\"retweet_count\"])]])\n",
    "\n",
    "\n",
    "\n",
    "    for j in range(len(doc_info)):\n",
    "        for i in range(len(doc_info[j])):\n",
    "            doc_info[j][i] = (' | ').join(doc_info[j][i])\n",
    "        doc_info[j] = (' | ').join(doc_info[j])\n",
    "    return doc_info\n"
   ]
  },
  {
   "cell_type": "code",
   "execution_count": 14,
   "metadata": {
    "id": "EdYs8bzKeIRc"
   },
   "outputs": [],
   "source": [
    "def search(query, index):\n",
    "    \"\"\"\n",
    "    The output is the list of documents that contain all of the query terms. \n",
    "    So, we will get the list of documents for each query term, and take the intersection of them.\n",
    "    \"\"\"\n",
    "    query = cleanText(query)\n",
    "    docs = set([posting[0] for posting in index[query[0]]])\n",
    "    for term in query[1:]:\n",
    "        try:\n",
    "            # store in term_docs the ids of the docs that contain \"term\"                        \n",
    "            term_docs=[posting[0] for posting in index[term]]\n",
    "            # docs = docs Intersection term_docs\n",
    "            docs = docs.intersection(set(term_docs)) \n",
    "        except:\n",
    "            #term is not in index\n",
    "            pass\n",
    "    docs = list(docs)\n",
    "    return docs"
   ]
  },
  {
   "cell_type": "code",
   "execution_count": 15,
   "metadata": {
    "id": "G39U9OHgeIRc",
    "outputId": "25cd17fa-9fae-4ac3-92f9-89f95bd05870"
   },
   "outputs": [
    {
     "name": "stdout",
     "output_type": "stream",
     "text": [
      "Insert your query (i.e.: Computer Science):\n",
      "\n",
      "women in health work\n",
      "\n",
      "======================\n",
      "Sample of 6 results out of 6 for the searched query:\n",
      "\n",
      "Result 1 :\n",
      "\n",
      " @DrTedros @WHOEMRO @WHOAfghanistan @UN_News_Centre @UNNewsArabic WHO is committed to:\n",
      "1) working with partners to invest in the health education of girls &amp; women, &amp; continue training female health workers\n",
      "2) support an extensive trauma programme that includes training, supplies and equipment for 130 hospitals and 67 blood banks\n",
      "#StayAndDeliver https://t.co/4Iiz9TsFXX | World Health Organization (WHO) | Wed Sep 22 09:05:48 +0000 2021 | #StayAndDeliver | 142 | 33 | https://t.co/4Iiz9TsFXX\n",
      "\n",
      "Result 2 :\n",
      "\n",
      " We must #ActForEqual to advance #GenderEquality in healthcare. Men continue to lead in global health while women continue to experience barriers like:\n",
      "\n",
      "🔹 disproportionate burdens of unpaid care work, \n",
      "🔹 wage gaps\n",
      "🔹 harassment \n",
      "🔹 less opportunities for career advancement. https://t.co/xPwj8VF50z | World Health Organization (WHO) | Thu Jul 01 06:43:11 +0000 2021 | #ActForEqual | #GenderEquality | 146 | 44 | https://t.co/xPwj8VF50z\n",
      "\n",
      "Result 3 :\n",
      "\n",
      " Women make up 7⃣0⃣ % of the health workforce but only 2⃣5⃣ % at decision-making level. \n",
      "\n",
      "At the #GenerationEquality Forum this week, WHO joins global leaders and activists in advancing decent and safe work conditions for health and care workers everywhere.\n",
      "https://t.co/52NIwTDRdK https://t.co/zk4Dw4JC9A | World Health Organization (WHO) | Thu Jul 01 08:52:13 +0000 2021 | #GenerationEquality | 210 | 78 | https://t.co/zk4Dw4JC9A\n",
      "\n",
      "Result 4 :\n",
      "\n",
      " @DrTedros @WHOEMRO @WHOAfghanistan @UN_News_Centre @UNNewsArabic WHO particularly emphasizes the need for women to maintain access to education, health care, and to the health workforce. With fewer health facilities operational and less female health workers reporting to work, female patients are hesitant to seek care. \n",
      "https://t.co/UeE7W127sX https://t.co/Naj2e13pJM | World Health Organization (WHO) | Wed Sep 22 09:05:14 +0000 2021 | 103 | 26 | https://t.co/Naj2e13pJM\n",
      "\n",
      "Result 5 :\n",
      "\n",
      " @DrTedros @UNICEF @UN @WFP \"I thank the women and men of WHO’s national and international staff who continue to work every day to protect and promote the health of all #Afghanistan’s people\"-@DrTedros | World Health Organization (WHO) | Mon Sep 13 15:23:06 +0000 2021 | #Afghanistan | 93 | 25\n",
      "\n",
      "Result 6 :\n",
      "\n",
      " \"The Gender Equality Forum presents us with the opportunity not just to acknowledge these challenges &amp; ambitions, but to take action. \n",
      "WHO is committed to advocating for decent &amp; safe work conditions for all health &amp; care workers, esp. women.\"-@DrTedros at #GenerationEquality | World Health Organization (WHO) | Thu Jul 01 14:35:42 +0000 2021 | #GenerationEquality | 91 | 26\n",
      "\n"
     ]
    }
   ],
   "source": [
    "#An example of an output with a query\n",
    "print(\"Insert your query (i.e.: Computer Science):\\n\")\n",
    "query = input()\n",
    "docs = search(query, index)\n",
    "if len(docs) < 10:\n",
    "    top = len(docs)\n",
    "else:\n",
    "    top = 10\n",
    "\n",
    "print(\"\\n======================\\nSample of {} results out of {} for the searched query:\\n\".format(top, len(docs)))\n",
    "formated = retrieve_docs(docs, top)\n",
    "count = 1\n",
    "for doc in formated:\n",
    "    print('Result', count, ':\\n\\n', doc + '\\n')\n",
    "    count += 1"
   ]
  },
  {
   "cell_type": "markdown",
   "metadata": {
    "id": "lfNn2gm9eIRb"
   },
   "source": [
    "## 2. Make a proposal of 5 queries that will be used to evaluate your search engine (e.g., “covid pandemic”)\n"
   ]
  },
  {
   "cell_type": "code",
   "execution_count": 16,
   "metadata": {
    "id": "Sf9nxcjxZv2z",
    "outputId": "edbafddf-7b50-4b75-86ec-aa1620be2e1d"
   },
   "outputs": [
    {
     "name": "stdout",
     "output_type": "stream",
     "text": [
      "Requirement already satisfied: wordcloud in c:\\users\\kiree\\anaconda3\\lib\\site-packages (1.8.0)\n",
      "Requirement already satisfied: pillow in c:\\users\\kiree\\anaconda3\\lib\\site-packages (from wordcloud) (8.0.0)\n",
      "Requirement already satisfied: matplotlib in c:\\users\\kiree\\anaconda3\\lib\\site-packages (from wordcloud) (3.3.1)\n",
      "Requirement already satisfied: numpy>=1.6.1 in c:\\users\\kiree\\anaconda3\\lib\\site-packages (from wordcloud) (1.19.1)\n",
      "Requirement already satisfied: kiwisolver>=1.0.1 in c:\\users\\kiree\\anaconda3\\lib\\site-packages (from matplotlib->wordcloud) (1.2.0)\n",
      "Requirement already satisfied: pyparsing!=2.0.4,!=2.1.2,!=2.1.6,>=2.0.3 in c:\\users\\kiree\\anaconda3\\lib\\site-packages (from matplotlib->wordcloud) (2.4.7)\n",
      "Requirement already satisfied: python-dateutil>=2.1 in c:\\users\\kiree\\anaconda3\\lib\\site-packages (from matplotlib->wordcloud) (2.8.1)\n",
      "Requirement already satisfied: certifi>=2020.06.20 in c:\\users\\kiree\\anaconda3\\lib\\site-packages (from matplotlib->wordcloud) (2020.6.20)\n",
      "Requirement already satisfied: cycler>=0.10 in c:\\users\\kiree\\anaconda3\\lib\\site-packages (from matplotlib->wordcloud) (0.10.0)\n",
      "Requirement already satisfied: six>=1.5 in c:\\users\\kiree\\anaconda3\\lib\\site-packages (from python-dateutil>=2.1->matplotlib->wordcloud) (1.15.0)\n",
      "Note: you may need to restart the kernel to use updated packages.\n"
     ]
    }
   ],
   "source": [
    "pip install wordcloud"
   ]
  },
  {
   "cell_type": "code",
   "execution_count": 17,
   "metadata": {
    "id": "iBj6hleceIRb",
    "outputId": "2146102a-c305-478b-ca62-4f2c777c1e33"
   },
   "outputs": [
    {
     "data": {
      "image/png": "[encoded data removed]",
      "text/plain": [
       "<Figure size 720x504 with 1 Axes>"
      ]
     },
     "metadata": {
      "needs_background": "light"
     },
     "output_type": "display_data"
    }
   ],
   "source": [
    "from wordcloud import WordCloud\n",
    "\n",
    "#Identifying the most common words (after removing the stop ones) of the tweets\n",
    "\n",
    "all_words = []\n",
    "all_words = [item for sublist in all_tweets for item in sublist]\n",
    "all_words = ' '.join(all_words)\n",
    "\n",
    "wordcloud = WordCloud(width=800, height=500, random_state=21, max_font_size=110).generate(all_words) \n",
    "plt.figure(figsize=(10, 7)) \n",
    "plt.imshow(wordcloud, interpolation=\"bilinear\") \n",
    "plt.axis('off')\n",
    "plt.savefig('wordcloud.png')\n",
    "plt.show()"
   ]
  },
  {
   "cell_type": "code",
   "execution_count": 18,
   "metadata": {
    "id": "Gc7EqPaKZv22"
   },
   "outputs": [],
   "source": [
    "word_counter = collections.Counter(all_words.split() )\n",
    "w =word_counter.most_common(10)"
   ]
  },
  {
   "cell_type": "code",
   "execution_count": 19,
   "metadata": {
    "id": "iPYdiRDTZv22",
    "outputId": "66f8ab80-0e50-43ce-dcef-27a773735571"
   },
   "outputs": [
    {
     "data": {
      "image/png": "[encoded data removed]",
      "text/plain": [
       "<Figure size 432x288 with 1 Axes>"
      ]
     },
     "metadata": {
      "needs_background": "light"
     },
     "output_type": "display_data"
    }
   ],
   "source": [
    "#Plotting the 10 most common words' frequency\n",
    "df = pd.DataFrame(w, columns = ['Word', 'Count'])\n",
    "df.plot.bar(x='Word',y='Count')\n",
    "plt.savefig('barplot.png')\n"
   ]
  },
  {
   "cell_type": "markdown",
   "metadata": {
    "id": "soP-L6jsZv22"
   },
   "source": [
    "### Our proposal of the 5 queries used to evaluate our search engine\n",
    "\n",
    "1 - Vaccine for covid19\n",
    "\n",
    "2 - Countries with more deaths from covid19\n",
    "\n",
    "3 - Mental health support\n",
    "\n",
    "4 - Women in health work\n",
    "\n",
    "5 - Covid19 symptoms"
   ]
  },
  {
   "cell_type": "markdown",
   "metadata": {
    "id": "FbAw7OwEeIRb"
   },
   "source": [
    "## 3. Add Ranking with TF-IDF"
   ]
  },
  {
   "cell_type": "code",
   "execution_count": 20,
   "metadata": {
    "id": "nl_u-g2TeIRc"
   },
   "outputs": [],
   "source": [
    "def create_index_tfidf(lines, num_documents):\n",
    "    \"\"\"\n",
    "    Implement the inverted index and compute tf, df and idf\n",
    "    \n",
    "    Argument:\n",
    "    lines -- collection of Wikipedia articles\n",
    "    num_documents -- total number of documents\n",
    "    \n",
    "    Returns:\n",
    "    index - the inverted index (implemented through a Python dictionary) containing terms as keys and the corresponding\n",
    "    list of document these keys appears in (and the positions) as values.\n",
    "    tf - normalized term frequency for each term in each document\n",
    "    df - number of documents each term appear in\n",
    "    idf - inverse document frequency of each term\n",
    "    \"\"\"\n",
    "\n",
    "    index = defaultdict(list)\n",
    "    tf = defaultdict(list)  #term frequencies of terms in documents (documents in the same order as in the main index)\n",
    "    df = defaultdict(int)  #document frequencies of terms in the corpus\n",
    "    idf = defaultdict(float)\n",
    "\n",
    "    for i in range(len(lines)):  # Remember, lines contain all tweets\n",
    "        page_id = json_data[str(i)]['id']\n",
    "        terms = json_data[str(i)]['full_text']\n",
    "\n",
    "        ## ===============================================================        \n",
    "        ## create the index for the **current page** and store it in current_page_index\n",
    "        ## current_page_index ==> { ‘term1’: [current_doc, [list of positions]], ...,‘term_n’: [current_doc, [list of positions]]}\n",
    "\n",
    "        ## Example: if the curr_doc has id 1 and his text is \n",
    "        ##\"web retrieval information retrieval\":\n",
    "\n",
    "        ## current_page_index ==> { ‘web’: [1, [0]], ‘retrieval’: [1, [1,4]], ‘information’: [1, [2]]}\n",
    "\n",
    "        ## the term ‘web’ appears in document 1 in positions 0, \n",
    "        ## the term ‘retrieval’ appears in document 1 in positions 1 and 4\n",
    "        ## ===============================================================\n",
    "\n",
    "        current_page_index = {}\n",
    "\n",
    "        for position, term in enumerate(terms):  ## terms contains page_title + page_text\n",
    "            try:\n",
    "                # if the term is already in the dict append the position to the corresponding list\n",
    "                current_page_index[term][1].append(position)\n",
    "            except:\n",
    "                # Add the new term as dict key and initialize the array of positions and add the position\n",
    "                current_page_index[term]=[page_id, array('I',[position])] #'I' indicates unsigned int (int in Python)\n",
    "\n",
    "        #normalize term frequencies\n",
    "        # Compute the denominator to normalize term frequencies (formula 2 above)\n",
    "        # norm is the same for all terms of a document.\n",
    "        norm = 0\n",
    "        for term, posting in current_page_index.items():\n",
    "            # posting will contain the list of positions for current term in current document. \n",
    "            # posting ==> [current_doc, [list of positions]] \n",
    "            # you can use it to infer the frequency of current term.\n",
    "            norm += len(posting[1]) ** 2\n",
    "        norm = math.sqrt(norm)\n",
    "\n",
    "        #calculate the tf(dividing the term frequency by the above computed norm) and df weights\n",
    "        for term, posting in current_page_index.items():\n",
    "            # append the tf for current term (tf = term frequency in current doc/norm)\n",
    "            tf[term].append(np.round(len(posting[1])/norm,4)) ## SEE formula (1) above\n",
    "            #increment the document frequency of current term (number of documents containing the current term)\n",
    "            df[term]+=1 # increment DF for current term\n",
    "\n",
    "        #merge the current page index with the main index\n",
    "        for term_page, posting_page in current_page_index.items():\n",
    "            index[term_page].append(posting_page)\n",
    "\n",
    "        # Compute IDF following the formula (3) above. HINT: use np.log\n",
    "        for term in df:\n",
    "            idf[term] = np.round(np.log(float(num_documents/ df[term])), 4)\n",
    "\n",
    "    return index, tf, df, idf\n"
   ]
  },
  {
   "cell_type": "code",
   "execution_count": 21,
   "metadata": {
    "id": "cg7TB4O-eIRc",
    "outputId": "8437f75e-c4c6-4fc0-b757-cb4754baa757"
   },
   "outputs": [
    {
     "name": "stdout",
     "output_type": "stream",
     "text": [
      "Total time to create the index: 76.87 seconds\n"
     ]
    }
   ],
   "source": [
    "start_time = time.time()\n",
    "num_documents = len(all_tweets)\n",
    "index, tf, df, idf = create_index_tfidf(all_tweets, num_documents)\n",
    "print(\"Total time to create the index: {} seconds\" .format(np.round(time.time() - start_time, 2)))"
   ]
  },
  {
   "cell_type": "code",
   "execution_count": 22,
   "metadata": {
    "id": "4dyOalqueIRc"
   },
   "outputs": [],
   "source": [
    "def rank_documents(terms, docs, index, idf, tf):\n",
    "    \"\"\"\n",
    "    Perform the ranking of the results of a search based on the tf-idf weights\n",
    "    \n",
    "    Argument:\n",
    "    terms -- list of query terms\n",
    "    docs -- list of documents, to rank, matching the query\n",
    "    index -- inverted index data structure\n",
    "    idf -- inverted document frequencies\n",
    "    tf -- term frequencies\n",
    "    title_index -- mapping between page id and page title\n",
    "    \n",
    "    Returns:\n",
    "    Print the list of ranked documents\n",
    "    \"\"\"\n",
    "\n",
    "    # We are interested only on the element of the docVector corresponding to the query terms \n",
    "    # The remaining elements would became 0 when multiplied to the query_vector\n",
    "    doc_vectors = defaultdict(lambda: [0] * len(terms)) # We call doc_vectors[k] for a nonexistent key k, the key-value pair (k,[0]*len(terms)) will be automatically added to the dictionary\n",
    "    query_vector = [0] * len(terms)\n",
    "\n",
    "    # compute the norm for the query tf\n",
    "    query_terms_count = collections.Counter(terms)  # get the frequency of each term in the query. \n",
    "    # Example: collections.Counter([\"hello\",\"hello\",\"world\"]) --> Counter({'hello': 2, 'world': 1})\n",
    "    #HINT: use when computing tf for query_vector\n",
    "\n",
    "    query_norm = la.norm(list(query_terms_count.values()))\n",
    "\n",
    "    for termIndex, term in enumerate(terms):  #termIndex is the index of the term in the query\n",
    "        if term not in index:\n",
    "            continue\n",
    "\n",
    "        ## Compute tf*idf(normalize TF as done with documents)\n",
    "        query_vector[termIndex]=query_terms_count[term]/query_norm * idf[term]\n",
    "\n",
    "        # Generate doc_vectors for matching docs\n",
    "        for doc_index, (doc, postings) in enumerate(index[term]):\n",
    "            # Example of [doc_index, (doc, postings)]\n",
    "            # 0 (26, array('I', [1, 4, 12, 15, 22, 28, 32, 43, 51, 68, 333, 337]))\n",
    "            # 1 (33, array('I', [26, 33, 57, 71, 87, 104, 109]))\n",
    "            # term is in doc 26 in positions 1,4, .....\n",
    "            # term is in doc 33 in positions 26,33, .....\n",
    "\n",
    "            #tf[term][0] will contain the tf of the term \"term\" in the doc 26            \n",
    "            if doc in docs:\n",
    "                doc_vectors[doc][termIndex] = tf[term][doc_index] * idf[term]  # TODO: check if multiply for idf\n",
    "\n",
    "    # Calculate the score of each doc \n",
    "    # compute the cosine similarity between queyVector and each docVector:\n",
    "    # HINT: you can use the dot product because in case of normalized vectors it corresponds to the cosine similarity\n",
    "    # see np.dot\n",
    "    \n",
    "    doc_scores=[[np.dot(curDocVec, query_vector), doc] for doc, curDocVec in doc_vectors.items() ]\n",
    "    doc_scores.sort(reverse=True)\n",
    "    result_docs = [x[1] for x in doc_scores]\n",
    "    #print document titles instead if document id's\n",
    "    #result_docs=[ title_index[x] for x in result_docs ]\n",
    "    if len(result_docs) == 0:\n",
    "        print(\"No results found, try again\")\n",
    "        query = input()\n",
    "        docs = search_tf_idf(query, index)\n",
    "    #print ('\\n'.join(result_docs), '\\n')\n",
    "    return result_docs"
   ]
  },
  {
   "cell_type": "code",
   "execution_count": 23,
   "metadata": {
    "id": "5V1PXzDTeIRd"
   },
   "outputs": [],
   "source": [
    "def search_tf_idf(query, index):\n",
    "    \"\"\"\n",
    "    output is the list of documents that contain any of the query terms. \n",
    "    So, we will get the list of documents for each query term, and take the union of them.\n",
    "    \"\"\"\n",
    "    query = cleanText(query)\n",
    "    docs = set([posting[0] for posting in index[query[0]]])\n",
    "    for term in query[1:]:\n",
    "        try:\n",
    "            # store in term_docs the ids of the docs that contain \"term\"                        \n",
    "            term_docs=[posting[0] for posting in index[term]]\n",
    "            \n",
    "            # docs = docs Union term_docs\n",
    "            docs = docs.intersection(set(term_docs))\n",
    "        except:\n",
    "            #term is not in index\n",
    "            pass\n",
    "    docs = list(docs)\n",
    "    ranked_docs = rank_documents(query, docs, index, idf, tf)\n",
    "    return ranked_docs"
   ]
  },
  {
   "cell_type": "code",
   "execution_count": 24,
   "metadata": {
    "id": "yu-aPQM6eIRd",
    "outputId": "4ee6a43d-30d7-4a57-e295-0d0c038e1c88"
   },
   "outputs": [
    {
     "name": "stdout",
     "output_type": "stream",
     "text": [
      "Insert your query (i.e.: Computer Science):\n",
      "\n",
      "women in health work\n",
      "\n",
      "======================\n",
      "Top 6 results out of 6 for the searched query:\n",
      "\n",
      "Result 1 :\n",
      "\n",
      " @DrTedros @UNICEF @UN @WFP \"I thank the women and men of WHO’s national and international staff who continue to work every day to protect and promote the health of all #Afghanistan’s people\"-@DrTedros | World Health Organization (WHO) | Mon Sep 13 15:23:06 +0000 2021 | #Afghanistan | 93 | 25\n",
      "\n",
      "Result 2 :\n",
      "\n",
      " Women make up 7⃣0⃣ % of the health workforce but only 2⃣5⃣ % at decision-making level. \n",
      "\n",
      "At the #GenerationEquality Forum this week, WHO joins global leaders and activists in advancing decent and safe work conditions for health and care workers everywhere.\n",
      "https://t.co/52NIwTDRdK https://t.co/zk4Dw4JC9A | World Health Organization (WHO) | Thu Jul 01 08:52:13 +0000 2021 | #GenerationEquality | 210 | 78 | https://t.co/zk4Dw4JC9A\n",
      "\n",
      "Result 3 :\n",
      "\n",
      " @DrTedros @WHOEMRO @WHOAfghanistan @UN_News_Centre @UNNewsArabic WHO particularly emphasizes the need for women to maintain access to education, health care, and to the health workforce. With fewer health facilities operational and less female health workers reporting to work, female patients are hesitant to seek care. \n",
      "https://t.co/UeE7W127sX https://t.co/Naj2e13pJM | World Health Organization (WHO) | Wed Sep 22 09:05:14 +0000 2021 | 103 | 26 | https://t.co/Naj2e13pJM\n",
      "\n",
      "Result 4 :\n",
      "\n",
      " We must #ActForEqual to advance #GenderEquality in healthcare. Men continue to lead in global health while women continue to experience barriers like:\n",
      "\n",
      "🔹 disproportionate burdens of unpaid care work, \n",
      "🔹 wage gaps\n",
      "🔹 harassment \n",
      "🔹 less opportunities for career advancement. https://t.co/xPwj8VF50z | World Health Organization (WHO) | Thu Jul 01 06:43:11 +0000 2021 | #ActForEqual | #GenderEquality | 146 | 44 | https://t.co/xPwj8VF50z\n",
      "\n",
      "Result 5 :\n",
      "\n",
      " \"The Gender Equality Forum presents us with the opportunity not just to acknowledge these challenges &amp; ambitions, but to take action. \n",
      "WHO is committed to advocating for decent &amp; safe work conditions for all health &amp; care workers, esp. women.\"-@DrTedros at #GenerationEquality | World Health Organization (WHO) | Thu Jul 01 14:35:42 +0000 2021 | #GenerationEquality | 91 | 26\n",
      "\n",
      "Result 6 :\n",
      "\n",
      " @DrTedros @WHOEMRO @WHOAfghanistan @UN_News_Centre @UNNewsArabic WHO is committed to:\n",
      "1) working with partners to invest in the health education of girls &amp; women, &amp; continue training female health workers\n",
      "2) support an extensive trauma programme that includes training, supplies and equipment for 130 hospitals and 67 blood banks\n",
      "#StayAndDeliver https://t.co/4Iiz9TsFXX | World Health Organization (WHO) | Wed Sep 22 09:05:48 +0000 2021 | #StayAndDeliver | 142 | 33 | https://t.co/4Iiz9TsFXX\n",
      "\n"
     ]
    }
   ],
   "source": [
    "#Output of ranked documents related to the query\n",
    "print(\"Insert your query (i.e.: Computer Science):\\n\")\n",
    "query = input()\n",
    "ranked_docs = search_tf_idf(query, index)\n",
    "if len(docs) < 10:\n",
    "    top = len(docs)\n",
    "else:\n",
    "    top = 10\n",
    "\n",
    "print(\"\\n======================\\nTop {} results out of {} for the searched query:\\n\".format(top, len(ranked_docs)))\n",
    "#for d_id in ranked_docs[:top]:\n",
    "    #print(\"page_id= {} \".format(d_id))\n",
    "formated = retrieve_docs(ranked_docs, top)\n",
    "\n",
    "count = 1\n",
    "for doc in formated:\n",
    "    print('Result', count, ':\\n\\n', doc + '\\n')\n",
    "    count += 1"
   ]
  },
  {
   "cell_type": "markdown",
   "metadata": {
    "id": "5QEnAvoXeIRd"
   },
   "source": [
    "## Evaluation\n"
   ]
  },
  {
   "cell_type": "markdown",
   "metadata": {
    "id": "-TwOkIphUYex"
   },
   "source": [
    "## 1. Creating the ground truth for the documents related to the queries"
   ]
  },
  {
   "cell_type": "code",
   "execution_count": 25,
   "metadata": {
    "id": "C-WmJQqtUYex",
    "outputId": "99327010-fb2a-45db-c238-2b270f15ff03"
   },
   "outputs": [
    {
     "data": {
      "text/html": [
       "<div>\n",
       "<style scoped>\n",
       "    .dataframe tbody tr th:only-of-type {\n",
       "        vertical-align: middle;\n",
       "    }\n",
       "\n",
       "    .dataframe tbody tr th {\n",
       "        vertical-align: top;\n",
       "    }\n",
       "\n",
       "    .dataframe thead th {\n",
       "        text-align: right;\n",
       "    }\n",
       "</style>\n",
       "<table border=\"1\" class=\"dataframe\">\n",
       "  <thead>\n",
       "    <tr style=\"text-align: right;\">\n",
       "      <th></th>\n",
       "      <th>q_id</th>\n",
       "      <th>doc_id</th>\n",
       "      <th>y_true</th>\n",
       "      <th>y_true_ideal</th>\n",
       "    </tr>\n",
       "  </thead>\n",
       "  <tbody>\n",
       "    <tr>\n",
       "      <th>0</th>\n",
       "      <td>1</td>\n",
       "      <td>1418489081026154497</td>\n",
       "      <td>4</td>\n",
       "      <td>4.0</td>\n",
       "    </tr>\n",
       "    <tr>\n",
       "      <th>1</th>\n",
       "      <td>1</td>\n",
       "      <td>1426206173225787392</td>\n",
       "      <td>0</td>\n",
       "      <td>4.0</td>\n",
       "    </tr>\n",
       "    <tr>\n",
       "      <th>2</th>\n",
       "      <td>1</td>\n",
       "      <td>1439194751538974723</td>\n",
       "      <td>0</td>\n",
       "      <td>3.0</td>\n",
       "    </tr>\n",
       "    <tr>\n",
       "      <th>3</th>\n",
       "      <td>1</td>\n",
       "      <td>1432284372690866186</td>\n",
       "      <td>1</td>\n",
       "      <td>2.0</td>\n",
       "    </tr>\n",
       "    <tr>\n",
       "      <th>4</th>\n",
       "      <td>1</td>\n",
       "      <td>1418545630494924805</td>\n",
       "      <td>0</td>\n",
       "      <td>1.0</td>\n",
       "    </tr>\n",
       "    <tr>\n",
       "      <th>5</th>\n",
       "      <td>1</td>\n",
       "      <td>1408416636084707335</td>\n",
       "      <td>0</td>\n",
       "      <td>1.0</td>\n",
       "    </tr>\n",
       "    <tr>\n",
       "      <th>6</th>\n",
       "      <td>1</td>\n",
       "      <td>1430183353638998018</td>\n",
       "      <td>1</td>\n",
       "      <td>0.0</td>\n",
       "    </tr>\n",
       "    <tr>\n",
       "      <th>7</th>\n",
       "      <td>1</td>\n",
       "      <td>1437865493118005248</td>\n",
       "      <td>2</td>\n",
       "      <td>0.0</td>\n",
       "    </tr>\n",
       "    <tr>\n",
       "      <th>8</th>\n",
       "      <td>1</td>\n",
       "      <td>1418480188682211330</td>\n",
       "      <td>3</td>\n",
       "      <td>0.0</td>\n",
       "    </tr>\n",
       "    <tr>\n",
       "      <th>9</th>\n",
       "      <td>1</td>\n",
       "      <td>1435321728197177347</td>\n",
       "      <td>4</td>\n",
       "      <td>0.0</td>\n",
       "    </tr>\n",
       "    <tr>\n",
       "      <th>10</th>\n",
       "      <td>2</td>\n",
       "      <td>1410200562927288325</td>\n",
       "      <td>1</td>\n",
       "      <td>3.0</td>\n",
       "    </tr>\n",
       "    <tr>\n",
       "      <th>11</th>\n",
       "      <td>2</td>\n",
       "      <td>1426509340744327170</td>\n",
       "      <td>0</td>\n",
       "      <td>3.0</td>\n",
       "    </tr>\n",
       "    <tr>\n",
       "      <th>12</th>\n",
       "      <td>2</td>\n",
       "      <td>1433083987405287425</td>\n",
       "      <td>1</td>\n",
       "      <td>1.0</td>\n",
       "    </tr>\n",
       "    <tr>\n",
       "      <th>13</th>\n",
       "      <td>2</td>\n",
       "      <td>1426192442722766854</td>\n",
       "      <td>0</td>\n",
       "      <td>1.0</td>\n",
       "    </tr>\n",
       "    <tr>\n",
       "      <th>14</th>\n",
       "      <td>2</td>\n",
       "      <td>1435612558824775680</td>\n",
       "      <td>3</td>\n",
       "      <td>0.0</td>\n",
       "    </tr>\n",
       "    <tr>\n",
       "      <th>15</th>\n",
       "      <td>2</td>\n",
       "      <td>1430549732531884033</td>\n",
       "      <td>0</td>\n",
       "      <td>0.0</td>\n",
       "    </tr>\n",
       "    <tr>\n",
       "      <th>16</th>\n",
       "      <td>2</td>\n",
       "      <td>1435612665725034496</td>\n",
       "      <td>0</td>\n",
       "      <td>0.0</td>\n",
       "    </tr>\n",
       "    <tr>\n",
       "      <th>17</th>\n",
       "      <td>2</td>\n",
       "      <td>1427990339491598339</td>\n",
       "      <td>0</td>\n",
       "      <td>0.0</td>\n",
       "    </tr>\n",
       "    <tr>\n",
       "      <th>18</th>\n",
       "      <td>2</td>\n",
       "      <td>1414595274652147717</td>\n",
       "      <td>3</td>\n",
       "      <td>0.0</td>\n",
       "    </tr>\n",
       "    <tr>\n",
       "      <th>19</th>\n",
       "      <td>2</td>\n",
       "      <td>1444751108040232960</td>\n",
       "      <td>0</td>\n",
       "      <td>0.0</td>\n",
       "    </tr>\n",
       "    <tr>\n",
       "      <th>20</th>\n",
       "      <td>3</td>\n",
       "      <td>1409514036232953856</td>\n",
       "      <td>0</td>\n",
       "      <td>3.0</td>\n",
       "    </tr>\n",
       "    <tr>\n",
       "      <th>21</th>\n",
       "      <td>3</td>\n",
       "      <td>1447422457837760520</td>\n",
       "      <td>1</td>\n",
       "      <td>2.0</td>\n",
       "    </tr>\n",
       "    <tr>\n",
       "      <th>22</th>\n",
       "      <td>3</td>\n",
       "      <td>1409892080537776134</td>\n",
       "      <td>3</td>\n",
       "      <td>1.0</td>\n",
       "    </tr>\n",
       "    <tr>\n",
       "      <th>23</th>\n",
       "      <td>3</td>\n",
       "      <td>1447294032179351557</td>\n",
       "      <td>2</td>\n",
       "      <td>0.0</td>\n",
       "    </tr>\n",
       "    <tr>\n",
       "      <th>24</th>\n",
       "      <td>4</td>\n",
       "      <td>1437436684023615495</td>\n",
       "      <td>3</td>\n",
       "      <td>4.0</td>\n",
       "    </tr>\n",
       "    <tr>\n",
       "      <th>25</th>\n",
       "      <td>4</td>\n",
       "      <td>1410521611418144771</td>\n",
       "      <td>4</td>\n",
       "      <td>4.0</td>\n",
       "    </tr>\n",
       "    <tr>\n",
       "      <th>26</th>\n",
       "      <td>4</td>\n",
       "      <td>1440603081264144389</td>\n",
       "      <td>3</td>\n",
       "      <td>3.0</td>\n",
       "    </tr>\n",
       "    <tr>\n",
       "      <th>27</th>\n",
       "      <td>4</td>\n",
       "      <td>1410489140874035200</td>\n",
       "      <td>4</td>\n",
       "      <td>3.0</td>\n",
       "    </tr>\n",
       "    <tr>\n",
       "      <th>28</th>\n",
       "      <td>4</td>\n",
       "      <td>1410608055016775690</td>\n",
       "      <td>2</td>\n",
       "      <td>2.0</td>\n",
       "    </tr>\n",
       "    <tr>\n",
       "      <th>29</th>\n",
       "      <td>4</td>\n",
       "      <td>1440603226257035264</td>\n",
       "      <td>1</td>\n",
       "      <td>1.0</td>\n",
       "    </tr>\n",
       "    <tr>\n",
       "      <th>30</th>\n",
       "      <td>5</td>\n",
       "      <td>1438842873630404609</td>\n",
       "      <td>0</td>\n",
       "      <td>4.0</td>\n",
       "    </tr>\n",
       "    <tr>\n",
       "      <th>31</th>\n",
       "      <td>5</td>\n",
       "      <td>1446114372057587712</td>\n",
       "      <td>4</td>\n",
       "      <td>2.0</td>\n",
       "    </tr>\n",
       "    <tr>\n",
       "      <th>32</th>\n",
       "      <td>5</td>\n",
       "      <td>1446101365558808577</td>\n",
       "      <td>2</td>\n",
       "      <td>2.0</td>\n",
       "    </tr>\n",
       "    <tr>\n",
       "      <th>33</th>\n",
       "      <td>5</td>\n",
       "      <td>1422159909957869572</td>\n",
       "      <td>0</td>\n",
       "      <td>1.0</td>\n",
       "    </tr>\n",
       "    <tr>\n",
       "      <th>34</th>\n",
       "      <td>5</td>\n",
       "      <td>1423635686981136389</td>\n",
       "      <td>1</td>\n",
       "      <td>0.0</td>\n",
       "    </tr>\n",
       "    <tr>\n",
       "      <th>35</th>\n",
       "      <td>5</td>\n",
       "      <td>1433748965003038723</td>\n",
       "      <td>0</td>\n",
       "      <td>0.0</td>\n",
       "    </tr>\n",
       "    <tr>\n",
       "      <th>36</th>\n",
       "      <td>5</td>\n",
       "      <td>1446114284778319878</td>\n",
       "      <td>2</td>\n",
       "      <td>0.0</td>\n",
       "    </tr>\n",
       "  </tbody>\n",
       "</table>\n",
       "</div>"
      ],
      "text/plain": [
       "   q_id               doc_id y_true  y_true_ideal\n",
       "0     1  1418489081026154497      4           4.0\n",
       "1     1  1426206173225787392      0           4.0\n",
       "2     1  1439194751538974723      0           3.0\n",
       "3     1  1432284372690866186      1           2.0\n",
       "4     1  1418545630494924805      0           1.0\n",
       "5     1  1408416636084707335      0           1.0\n",
       "6     1  1430183353638998018      1           0.0\n",
       "7     1  1437865493118005248      2           0.0\n",
       "8     1  1418480188682211330      3           0.0\n",
       "9     1  1435321728197177347      4           0.0\n",
       "10    2  1410200562927288325      1           3.0\n",
       "11    2  1426509340744327170      0           3.0\n",
       "12    2  1433083987405287425      1           1.0\n",
       "13    2  1426192442722766854      0           1.0\n",
       "14    2  1435612558824775680      3           0.0\n",
       "15    2  1430549732531884033      0           0.0\n",
       "16    2  1435612665725034496      0           0.0\n",
       "17    2  1427990339491598339      0           0.0\n",
       "18    2  1414595274652147717      3           0.0\n",
       "19    2  1444751108040232960      0           0.0\n",
       "20    3  1409514036232953856      0           3.0\n",
       "21    3  1447422457837760520      1           2.0\n",
       "22    3  1409892080537776134      3           1.0\n",
       "23    3  1447294032179351557      2           0.0\n",
       "24    4  1437436684023615495      3           4.0\n",
       "25    4  1410521611418144771      4           4.0\n",
       "26    4  1440603081264144389      3           3.0\n",
       "27    4  1410489140874035200      4           3.0\n",
       "28    4  1410608055016775690      2           2.0\n",
       "29    4  1440603226257035264      1           1.0\n",
       "30    5  1438842873630404609      0           4.0\n",
       "31    5  1446114372057587712      4           2.0\n",
       "32    5  1446101365558808577      2           2.0\n",
       "33    5  1422159909957869572      0           1.0\n",
       "34    5  1423635686981136389      1           0.0\n",
       "35    5  1433748965003038723      0           0.0\n",
       "36    5  1446114284778319878      2           0.0"
      ]
     },
     "execution_count": 25,
     "metadata": {},
     "output_type": "execute_result"
    }
   ],
   "source": [
    "df_ground_truth = pd.DataFrame(columns=['q_id', 'doc_id', 'y_true'])\n",
    "\n",
    "#Creating the list of queries ids\n",
    "query1 = 'Vaccine for covid19'\n",
    "query2 = 'Countries with more deaths from covid19'\n",
    "query3 = 'Mental health support'\n",
    "query4 = 'Women in health work'\n",
    "query5 = 'Covid19 symptoms'\n",
    "queries = [1,2,3,4,5]\n",
    "\n",
    "#Creating the list of the top 10 ranked documents for each query\n",
    "ranked_docs1 = search_tf_idf(query1, index)[:10]\n",
    "ranked_docs2 = search_tf_idf(query2, index)[:10]\n",
    "ranked_docs3 = search_tf_idf(query3, index)[:10]\n",
    "ranked_docs4 = search_tf_idf(query4, index)[:10]\n",
    "ranked_docs5 = search_tf_idf(query5, index)[:10]\n",
    "ranked_docs_all = [ranked_docs1, ranked_docs2, ranked_docs3, ranked_docs4, ranked_docs5]\n",
    "\n",
    "#Creating the list of labels indicating the relevance of documents (0 - not relevant, 4 - very relevant)\n",
    "y_true1 = [4,0,0,1,0,0,1,2,3,4]\n",
    "y_true2 = [1,0,1,0,3,0,0,0,3,0]\n",
    "y_true3 = [0,1,3,2]\n",
    "y_true4 = [3,4,3,4,2,1]\n",
    "y_true5 = [0,4,2,0,1,0,2]\n",
    "y_true_all = [y_true1, y_true2, y_true3, y_true4, y_true5]\n",
    "\n",
    "#Creating the list of ranked documents ideally ordered by relevance\n",
    "y_true1_ideal = y_true1.copy()\n",
    "y_true2_ideal = y_true2.copy()\n",
    "y_true3_ideal = y_true3.copy()\n",
    "y_true4_ideal = y_true4.copy()\n",
    "y_true5_ideal = y_true5.copy()\n",
    "\n",
    "y_true1_ideal.sort(reverse=True)\n",
    "y_true2_ideal.sort(reverse=True)\n",
    "y_true3_ideal.sort(reverse=True)\n",
    "y_true4_ideal.sort(reverse=True)\n",
    "y_true5_ideal.sort(reverse=True)\n",
    "y_true_ideal_all = [y_true1_ideal, y_true2_ideal, y_true3_ideal, y_true4_ideal, y_true5_ideal]\n",
    "\n",
    "\n",
    "for i in range(len(queries)):\n",
    "    for row in range(len(ranked_docs_all[i])):\n",
    "        newRow = {\n",
    "            \"q_id\": queries[i],\n",
    "            \"doc_id\": ranked_docs_all[i][row] ,\n",
    "            \"y_true\": y_true_all[i][row],\n",
    "            \"y_true_ideal\": y_true_ideal_all[i][row]\n",
    "        }\n",
    "        \n",
    "        df_ground_truth = df_ground_truth.append(newRow, ignore_index=True, sort=False)\n",
    "\n",
    "df_ground_truth "
   ]
  },
  {
   "cell_type": "code",
   "execution_count": 26,
   "metadata": {
    "id": "fZiFeO75eIRd",
    "outputId": "618bd2fd-ca84-4ae2-a0aa-b34e0ebcd798"
   },
   "outputs": [
    {
     "name": "stdout",
     "output_type": "stream",
     "text": [
      "The ground truth of our dataset is composed of 5 Relevance Levels: [0, 1, 2, 3, 4]\n"
     ]
    }
   ],
   "source": [
    "print(\"The ground truth of our dataset is composed of {} Relevance Levels: {}\" .format(len(df_ground_truth[\"y_true\"].unique()), sorted(df_ground_truth[\"y_true\"].unique())))"
   ]
  },
  {
   "cell_type": "code",
   "execution_count": 27,
   "metadata": {
    "id": "ru8OrG3BUYex",
    "outputId": "ede2b2f2-3209-422a-c8ca-5adcdba1b9dd"
   },
   "outputs": [
    {
     "data": {
      "text/html": [
       "<div>\n",
       "<style scoped>\n",
       "    .dataframe tbody tr th:only-of-type {\n",
       "        vertical-align: middle;\n",
       "    }\n",
       "\n",
       "    .dataframe tbody tr th {\n",
       "        vertical-align: top;\n",
       "    }\n",
       "\n",
       "    .dataframe thead th {\n",
       "        text-align: right;\n",
       "    }\n",
       "</style>\n",
       "<table border=\"1\" class=\"dataframe\">\n",
       "  <thead>\n",
       "    <tr style=\"text-align: right;\">\n",
       "      <th></th>\n",
       "      <th>q_id</th>\n",
       "      <th>doc_id</th>\n",
       "      <th>y_true</th>\n",
       "      <th>y_true_ideal</th>\n",
       "      <th>bin_y_true</th>\n",
       "    </tr>\n",
       "  </thead>\n",
       "  <tbody>\n",
       "    <tr>\n",
       "      <th>0</th>\n",
       "      <td>1</td>\n",
       "      <td>1418489081026154497</td>\n",
       "      <td>4</td>\n",
       "      <td>4.0</td>\n",
       "      <td>1</td>\n",
       "    </tr>\n",
       "    <tr>\n",
       "      <th>1</th>\n",
       "      <td>1</td>\n",
       "      <td>1426206173225787392</td>\n",
       "      <td>0</td>\n",
       "      <td>4.0</td>\n",
       "      <td>0</td>\n",
       "    </tr>\n",
       "    <tr>\n",
       "      <th>2</th>\n",
       "      <td>1</td>\n",
       "      <td>1439194751538974723</td>\n",
       "      <td>0</td>\n",
       "      <td>3.0</td>\n",
       "      <td>0</td>\n",
       "    </tr>\n",
       "    <tr>\n",
       "      <th>3</th>\n",
       "      <td>1</td>\n",
       "      <td>1432284372690866186</td>\n",
       "      <td>1</td>\n",
       "      <td>2.0</td>\n",
       "      <td>0</td>\n",
       "    </tr>\n",
       "    <tr>\n",
       "      <th>4</th>\n",
       "      <td>1</td>\n",
       "      <td>1418545630494924805</td>\n",
       "      <td>0</td>\n",
       "      <td>1.0</td>\n",
       "      <td>0</td>\n",
       "    </tr>\n",
       "  </tbody>\n",
       "</table>\n",
       "</div>"
      ],
      "text/plain": [
       "  q_id               doc_id y_true  y_true_ideal  bin_y_true\n",
       "0    1  1418489081026154497      4           4.0           1\n",
       "1    1  1426206173225787392      0           4.0           0\n",
       "2    1  1439194751538974723      0           3.0           0\n",
       "3    1  1432284372690866186      1           2.0           0\n",
       "4    1  1418545630494924805      0           1.0           0"
      ]
     },
     "execution_count": 27,
     "metadata": {},
     "output_type": "execute_result"
    }
   ],
   "source": [
    "#Adding a binary value indicating 1 - relevance, 0 - non-relevance\n",
    "df_ground_truth[\"bin_y_true\"] = df_ground_truth['y_true'].apply(lambda y: 1 if y >= 2 else 0)\n",
    "df_ground_truth.head()"
   ]
  },
  {
   "cell_type": "markdown",
   "metadata": {
    "id": "zwJ4Yr0zUYey"
   },
   "source": [
    "## 2. Evaluation of the search engine using different evaluation techniques"
   ]
  },
  {
   "cell_type": "markdown",
   "metadata": {
    "id": "3nfEbRnsUYey"
   },
   "source": [
    "### 2.1. Precision@K (P@K"
   ]
  },
  {
   "cell_type": "code",
   "execution_count": 28,
   "metadata": {
    "id": "ncsBX8pBZv3C"
   },
   "outputs": [],
   "source": [
    "def precision_at_k (y_true, k):\n",
    "    '''    \n",
    "    Parameters\n",
    "    ----------\n",
    "    y_true: Ground truth (true relevance labels).\n",
    "    k : number of doc to consider.\n",
    "    \n",
    "    Returns\n",
    "    -------\n",
    "    precision @k : float\n",
    "    \n",
    "    '''    \n",
    "    relevant = sum(y_true[:k] == 1)\n",
    "    return relevant/k"
   ]
  },
  {
   "cell_type": "code",
   "execution_count": 29,
   "metadata": {
    "id": "J5e2FJe3Zv3C",
    "outputId": "1897a5d1-3c39-4bbc-e033-6d7aff2d956f"
   },
   "outputs": [
    {
     "name": "stdout",
     "output_type": "stream",
     "text": [
      "==> Precision@3: 0.3333333333333333\n",
      "\n",
      "==> Precision@10: 0.4\n",
      "\n"
     ]
    }
   ],
   "source": [
    "# Check for query 1\n",
    "\n",
    "current_query = 1\n",
    "current_query_res1 = df_ground_truth[df_ground_truth[\"q_id\"] == current_query] \n",
    "k=3\n",
    "\n",
    "print(\"==> Precision@{}: {}\\n\".format(k,\n",
    "                                precision_at_k(current_query_res1[\"bin_y_true\"], k)))\n",
    "\n",
    "\n",
    "k=len(y_true1)\n",
    "print(\"==> Precision@{}: {}\\n\".format(k,\n",
    "                                precision_at_k(current_query_res1[\"bin_y_true\"], k)))"
   ]
  },
  {
   "cell_type": "code",
   "execution_count": 30,
   "metadata": {
    "id": "hGdTMMzBUYey",
    "outputId": "f0b55f80-c478-4a5c-845e-52a0d3fe3f57"
   },
   "outputs": [
    {
     "name": "stdout",
     "output_type": "stream",
     "text": [
      "==> Precision@3: 0.0\n",
      "\n",
      "==> Precision@10: 0.2\n",
      "\n"
     ]
    }
   ],
   "source": [
    "# Check for query 2\n",
    "\n",
    "current_query = 2\n",
    "current_query_res2 = df_ground_truth[df_ground_truth[\"q_id\"] == current_query] \n",
    "k=3\n",
    "\n",
    "print(\"==> Precision@{}: {}\\n\".format(k,\n",
    "                                precision_at_k(current_query_res2[\"bin_y_true\"], k)))\n",
    "\n",
    "\n",
    "k=len(y_true2)\n",
    "print(\"==> Precision@{}: {}\\n\".format(k,\n",
    "                                precision_at_k(current_query_res2[\"bin_y_true\"], k)))"
   ]
  },
  {
   "cell_type": "code",
   "execution_count": 31,
   "metadata": {
    "id": "GQR3fb5wUYez",
    "outputId": "7732dd88-c455-42f8-9588-a19921281eda"
   },
   "outputs": [
    {
     "name": "stdout",
     "output_type": "stream",
     "text": [
      "==> Precision@3: 0.3333333333333333\n",
      "\n",
      "==> Precision@4: 0.5\n",
      "\n"
     ]
    }
   ],
   "source": [
    "# Check for query 3\n",
    "\n",
    "current_query = 3\n",
    "current_query_res3 = df_ground_truth[df_ground_truth[\"q_id\"] == current_query] \n",
    "k=3\n",
    "\n",
    "print(\"==> Precision@{}: {}\\n\".format(k,\n",
    "                                precision_at_k(current_query_res3[\"bin_y_true\"], k)))\n",
    "\n",
    "\n",
    "k=len(y_true3)\n",
    "print(\"==> Precision@{}: {}\\n\".format(k,\n",
    "                                precision_at_k(current_query_res3[\"bin_y_true\"], k)))"
   ]
  },
  {
   "cell_type": "code",
   "execution_count": 32,
   "metadata": {
    "id": "vzJlRqehUYez",
    "outputId": "98b4c91d-0249-4c57-b912-52fc6ceaf81a"
   },
   "outputs": [
    {
     "name": "stdout",
     "output_type": "stream",
     "text": [
      "==> Precision@3: 1.0\n",
      "\n",
      "==> Precision@6: 0.8333333333333334\n",
      "\n"
     ]
    }
   ],
   "source": [
    "# Check for query 4\n",
    "\n",
    "current_query = 4\n",
    "current_query_res4 = df_ground_truth[df_ground_truth[\"q_id\"] == current_query] \n",
    "k=3\n",
    "\n",
    "print(\"==> Precision@{}: {}\\n\".format(k,\n",
    "                                precision_at_k(current_query_res4[\"bin_y_true\"], k)))\n",
    "\n",
    "\n",
    "k=len(y_true4)\n",
    "print(\"==> Precision@{}: {}\\n\".format(k,\n",
    "                                precision_at_k(current_query_res4[\"bin_y_true\"], k)))"
   ]
  },
  {
   "cell_type": "code",
   "execution_count": 33,
   "metadata": {
    "id": "YqOzsNPgUYez",
    "outputId": "080beea5-71c3-480f-db27-8f63ded91cd6"
   },
   "outputs": [
    {
     "name": "stdout",
     "output_type": "stream",
     "text": [
      "==> Precision@3: 0.6666666666666666\n",
      "\n",
      "==> Precision@7: 0.42857142857142855\n",
      "\n"
     ]
    }
   ],
   "source": [
    "# Check for query 5\n",
    "\n",
    "current_query = 5\n",
    "current_query_res5 = df_ground_truth[df_ground_truth[\"q_id\"] == current_query] \n",
    "k=3\n",
    "\n",
    "print(\"==> Precision@{}: {}\\n\".format(k,\n",
    "                                precision_at_k(current_query_res5[\"bin_y_true\"], k)))\n",
    "\n",
    "\n",
    "k=len(y_true5)\n",
    "print(\"==> Precision@{}: {}\\n\".format(k,\n",
    "                                precision_at_k(current_query_res5[\"bin_y_true\"], k)))"
   ]
  },
  {
   "cell_type": "markdown",
   "metadata": {
    "id": "hCcZXk-AUYez"
   },
   "source": [
    "### 1.3. Average Precision@k - AP@K"
   ]
  },
  {
   "cell_type": "code",
   "execution_count": 34,
   "metadata": {
    "id": "LrzTUHnDZv3D"
   },
   "outputs": [],
   "source": [
    "def avg_precision_at_k(y_true, k=10):\n",
    "    \n",
    "    '''\n",
    "    Parameters\n",
    "    ----------\n",
    "    y_true: Ground truth (true relevance labels).\n",
    "    k : number of doc to consider.\n",
    "    \n",
    "    Returns\n",
    "    -------\n",
    "    average precision @k : float\n",
    "    '''\n",
    "    \n",
    "    gtp = np.sum(y_true[:k] == 1) #Know how many true positives do we have (grand though positives)       \n",
    "\n",
    "    ## if all docs are not relevant\n",
    "    if gtp==0:\n",
    "        return 0\n",
    "    n_relevant_at_i = 0\n",
    "    prec_at_i = 0\n",
    "    for i in range(len(y_true)):\n",
    "        if y_true[i] == 1:\n",
    "            n_relevant_at_i += 1 #we want to keep summing all the relevant values\n",
    "            prec_at_i += n_relevant_at_i/(i+1) #Calculate precision at k\n",
    "    return prec_at_i/gtp"
   ]
  },
  {
   "cell_type": "code",
   "execution_count": 35,
   "metadata": {
    "id": "gOzdW1LbZv3D",
    "outputId": "91d5aeeb-fca7-4f9f-8d28-40f44c662bed"
   },
   "outputs": [
    {
     "data": {
      "text/plain": [
       "0.49583333333333335"
      ]
     },
     "execution_count": 35,
     "metadata": {},
     "output_type": "execute_result"
    }
   ],
   "source": [
    "#Query 1\n",
    "avg_precision_at_k(np.array(current_query_res1[\"bin_y_true\"]), k=len(y_true1))"
   ]
  },
  {
   "cell_type": "code",
   "execution_count": 36,
   "metadata": {
    "id": "7IpXOL3JUYe0",
    "outputId": "4e394cd0-1b67-4044-8223-246610586a4d"
   },
   "outputs": [
    {
     "data": {
      "text/plain": [
       "0.2111111111111111"
      ]
     },
     "execution_count": 36,
     "metadata": {},
     "output_type": "execute_result"
    }
   ],
   "source": [
    "#Query 2\n",
    "avg_precision_at_k(np.array(current_query_res2[\"bin_y_true\"]), k=len(y_true2))"
   ]
  },
  {
   "cell_type": "code",
   "execution_count": 37,
   "metadata": {
    "id": "zY7r0wvxUYe0",
    "outputId": "58e7fe12-2de4-45b3-ec1c-f7170e20bd40"
   },
   "outputs": [
    {
     "data": {
      "text/plain": [
       "0.41666666666666663"
      ]
     },
     "execution_count": 37,
     "metadata": {},
     "output_type": "execute_result"
    }
   ],
   "source": [
    "#Query 3\n",
    "avg_precision_at_k(np.array(current_query_res3[\"bin_y_true\"]), k=len(y_true3))"
   ]
  },
  {
   "cell_type": "code",
   "execution_count": 38,
   "metadata": {
    "id": "rNJXvLnJUYe0",
    "outputId": "d982ad83-19a1-4ba8-a859-cc7b9e8d8ef2"
   },
   "outputs": [
    {
     "data": {
      "text/plain": [
       "1.0"
      ]
     },
     "execution_count": 38,
     "metadata": {},
     "output_type": "execute_result"
    }
   ],
   "source": [
    "#Query 4\n",
    "avg_precision_at_k(np.array(current_query_res4[\"bin_y_true\"]), k=len(y_true4))"
   ]
  },
  {
   "cell_type": "code",
   "execution_count": 39,
   "metadata": {
    "id": "FW_MVINiUYe1",
    "outputId": "1633220f-785d-4f67-e9fe-ba9a9bcc8316"
   },
   "outputs": [
    {
     "data": {
      "text/plain": [
       "0.5317460317460317"
      ]
     },
     "execution_count": 39,
     "metadata": {},
     "output_type": "execute_result"
    }
   ],
   "source": [
    "#Query 5\n",
    "avg_precision_at_k(np.array(current_query_res5[\"bin_y_true\"]), k=len(y_true5))"
   ]
  },
  {
   "cell_type": "code",
   "execution_count": 40,
   "metadata": {
    "id": "LPi_LnFoZv3E",
    "outputId": "8ae0578e-0c2a-457b-9980-e7f312b88973"
   },
   "outputs": [
    {
     "data": {
      "text/plain": [
       "0.49583333333333335"
      ]
     },
     "execution_count": 40,
     "metadata": {},
     "output_type": "execute_result"
    }
   ],
   "source": [
    "# Proof of accuracy of our calculation regarding the in/built library for the Query 1\n",
    "from sklearn.metrics import average_precision_score\n",
    "k = len(y_true1)\n",
    "temp = current_query_res1\n",
    "indices = [10,9,8,7,6,5,4,3,2,1]\n",
    "average_precision_score(np.array(temp[\"bin_y_true\"]), indices)"
   ]
  },
  {
   "cell_type": "code",
   "execution_count": 41,
   "metadata": {
    "id": "N-XUcaORZv3E"
   },
   "outputs": [],
   "source": [
    "# Check with average_precision_score of sklearn for Query 1\n",
    "assert(average_precision_score(np.array(temp[\"bin_y_true\"]), indices) == avg_precision_at_k(temp[\"bin_y_true\"],k))"
   ]
  },
  {
   "cell_type": "markdown",
   "metadata": {
    "id": "A8J355zaUYe1"
   },
   "source": [
    "### 1.4. Mean Average Precision (MAP)"
   ]
  },
  {
   "cell_type": "code",
   "execution_count": 42,
   "metadata": {
    "id": "GHdmVtJsZv3G"
   },
   "outputs": [],
   "source": [
    "def map_at_k(search_res, k):\n",
    "    '''\n",
    "    Parameters\n",
    "    ----------\n",
    "    search_res: search results dataset containing:\n",
    "        q_id: query id.\n",
    "        doc_id: document id.\n",
    "        y_true: actual score of the document for the query (ground truth).\n",
    "    \n",
    "    Returns\n",
    "    -------\n",
    "    mean average precision @k : float\n",
    "    '''\n",
    "    avp = []\n",
    "    for q in search_res['q_id'].unique(): #loop over all query id\n",
    "        curr_data = search_res[search_res[\"q_id\"] == q] # select data for current query (we want to take the results for only one query)\n",
    "        avp.append(avg_precision_at_k(np.array(curr_data[\"bin_y_true\"]), k)) #append average precision for current query\n",
    "    return np.sum(avp)/len(avp) # return mean average precision"
   ]
  },
  {
   "cell_type": "code",
   "execution_count": 43,
   "metadata": {
    "id": "grM5n0iTZv3G",
    "outputId": "defb96e3-dd71-42ed-d441-f7a55ce04f46"
   },
   "outputs": [
    {
     "data": {
      "text/plain": [
       "0.5310714285714285"
      ]
     },
     "execution_count": 43,
     "metadata": {},
     "output_type": "execute_result"
    }
   ],
   "source": [
    "#Computing mAP@10 for all queries of the dataset\n",
    "map_k = map_at_k(df_ground_truth, 10)\n",
    "map_k"
   ]
  },
  {
   "cell_type": "markdown",
   "metadata": {
    "id": "B-NJFNJZUYe2"
   },
   "source": [
    "### 1.5. Mean Reciprocal Rank (MRR)"
   ]
  },
  {
   "cell_type": "code",
   "execution_count": 44,
   "metadata": {
    "id": "0S2k2ywOZv3H"
   },
   "outputs": [],
   "source": [
    "def rr_at_k(y_true, k=10):\n",
    "    '''\n",
    "    Parameters\n",
    "    ----------\n",
    "    y_true: Ground truth (true relevance labels).\n",
    "    k : number of doc to consider.\n",
    "    \n",
    "    Returns\n",
    "    -------\n",
    "    Reciprocal Rank for qurrent query\n",
    "    '''\n",
    "    if np.sum(y_true[:k]) == 0: # if there are not relevant document return 0\n",
    "        return 0\n",
    "    return 1/(np.argmax(y_true[:k] == 1) + 1 ) \n",
    "\n"
   ]
  },
  {
   "cell_type": "markdown",
   "metadata": {
    "id": "Yc_q9D_-UYe2"
   },
   "source": [
    "Checking for Query 1"
   ]
  },
  {
   "cell_type": "code",
   "execution_count": 45,
   "metadata": {
    "id": "TMsF47tTZv3I",
    "outputId": "3569f82f-54a6-41ac-ecf6-9200463cb689"
   },
   "outputs": [
    {
     "data": {
      "text/html": [
       "<div>\n",
       "<style scoped>\n",
       "    .dataframe tbody tr th:only-of-type {\n",
       "        vertical-align: middle;\n",
       "    }\n",
       "\n",
       "    .dataframe tbody tr th {\n",
       "        vertical-align: top;\n",
       "    }\n",
       "\n",
       "    .dataframe thead th {\n",
       "        text-align: right;\n",
       "    }\n",
       "</style>\n",
       "<table border=\"1\" class=\"dataframe\">\n",
       "  <thead>\n",
       "    <tr style=\"text-align: right;\">\n",
       "      <th></th>\n",
       "      <th>q_id</th>\n",
       "      <th>doc_id</th>\n",
       "      <th>y_true</th>\n",
       "      <th>y_true_ideal</th>\n",
       "      <th>bin_y_true</th>\n",
       "    </tr>\n",
       "  </thead>\n",
       "  <tbody>\n",
       "    <tr>\n",
       "      <th>0</th>\n",
       "      <td>1</td>\n",
       "      <td>1418489081026154497</td>\n",
       "      <td>4</td>\n",
       "      <td>4.0</td>\n",
       "      <td>1</td>\n",
       "    </tr>\n",
       "    <tr>\n",
       "      <th>1</th>\n",
       "      <td>1</td>\n",
       "      <td>1426206173225787392</td>\n",
       "      <td>0</td>\n",
       "      <td>4.0</td>\n",
       "      <td>0</td>\n",
       "    </tr>\n",
       "    <tr>\n",
       "      <th>2</th>\n",
       "      <td>1</td>\n",
       "      <td>1439194751538974723</td>\n",
       "      <td>0</td>\n",
       "      <td>3.0</td>\n",
       "      <td>0</td>\n",
       "    </tr>\n",
       "    <tr>\n",
       "      <th>3</th>\n",
       "      <td>1</td>\n",
       "      <td>1432284372690866186</td>\n",
       "      <td>1</td>\n",
       "      <td>2.0</td>\n",
       "      <td>0</td>\n",
       "    </tr>\n",
       "    <tr>\n",
       "      <th>4</th>\n",
       "      <td>1</td>\n",
       "      <td>1418545630494924805</td>\n",
       "      <td>0</td>\n",
       "      <td>1.0</td>\n",
       "      <td>0</td>\n",
       "    </tr>\n",
       "    <tr>\n",
       "      <th>5</th>\n",
       "      <td>1</td>\n",
       "      <td>1408416636084707335</td>\n",
       "      <td>0</td>\n",
       "      <td>1.0</td>\n",
       "      <td>0</td>\n",
       "    </tr>\n",
       "    <tr>\n",
       "      <th>6</th>\n",
       "      <td>1</td>\n",
       "      <td>1430183353638998018</td>\n",
       "      <td>1</td>\n",
       "      <td>0.0</td>\n",
       "      <td>0</td>\n",
       "    </tr>\n",
       "    <tr>\n",
       "      <th>7</th>\n",
       "      <td>1</td>\n",
       "      <td>1437865493118005248</td>\n",
       "      <td>2</td>\n",
       "      <td>0.0</td>\n",
       "      <td>1</td>\n",
       "    </tr>\n",
       "    <tr>\n",
       "      <th>8</th>\n",
       "      <td>1</td>\n",
       "      <td>1418480188682211330</td>\n",
       "      <td>3</td>\n",
       "      <td>0.0</td>\n",
       "      <td>1</td>\n",
       "    </tr>\n",
       "    <tr>\n",
       "      <th>9</th>\n",
       "      <td>1</td>\n",
       "      <td>1435321728197177347</td>\n",
       "      <td>4</td>\n",
       "      <td>0.0</td>\n",
       "      <td>1</td>\n",
       "    </tr>\n",
       "  </tbody>\n",
       "</table>\n",
       "</div>"
      ],
      "text/plain": [
       "  q_id               doc_id y_true  y_true_ideal  bin_y_true\n",
       "0    1  1418489081026154497      4           4.0           1\n",
       "1    1  1426206173225787392      0           4.0           0\n",
       "2    1  1439194751538974723      0           3.0           0\n",
       "3    1  1432284372690866186      1           2.0           0\n",
       "4    1  1418545630494924805      0           1.0           0\n",
       "5    1  1408416636084707335      0           1.0           0\n",
       "6    1  1430183353638998018      1           0.0           0\n",
       "7    1  1437865493118005248      2           0.0           1\n",
       "8    1  1418480188682211330      3           0.0           1\n",
       "9    1  1435321728197177347      4           0.0           1"
      ]
     },
     "execution_count": 45,
     "metadata": {},
     "output_type": "execute_result"
    }
   ],
   "source": [
    "current_query = 1\n",
    "current_query_res = df_ground_truth[df_ground_truth[\"q_id\"] == current_query] \n",
    "current_query_res"
   ]
  },
  {
   "cell_type": "code",
   "execution_count": 46,
   "metadata": {
    "id": "7zH4WE0UZv3I",
    "outputId": "7756375e-4d7d-4a25-b985-30025cd625f3"
   },
   "outputs": [
    {
     "data": {
      "text/plain": [
       "1.0"
      ]
     },
     "execution_count": 46,
     "metadata": {},
     "output_type": "execute_result"
    }
   ],
   "source": [
    "labels = np.array(df_ground_truth[df_ground_truth['q_id'] == 1][\"bin_y_true\"])\n",
    "np.round(rr_at_k(labels, 10),4)"
   ]
  },
  {
   "cell_type": "markdown",
   "metadata": {
    "id": "TfqNMKQMZv3J"
   },
   "source": [
    "Compute the MRR@K for k=3,5,and 10."
   ]
  },
  {
   "cell_type": "code",
   "execution_count": 47,
   "metadata": {
    "id": "Vjf9vaGIZv3J"
   },
   "outputs": [],
   "source": [
    "mrr = {}\n",
    "for k in [3,5,10]:\n",
    "    RRs = []\n",
    "    for q in df_ground_truth[\"q_id\"].unique(): # loop over all query ids\n",
    "        labels = np.array(df_ground_truth[df_ground_truth[\"q_id\"] == q][\"bin_y_true\"]) # get labels for current query\n",
    "        RRs.append(rr_at_k(labels, k)) # append RR for current query\n",
    "    mrr[k] = np.round(float(sum(RRs)/len(RRs)),4) # Mean RR at current k"
   ]
  },
  {
   "cell_type": "code",
   "execution_count": 48,
   "metadata": {
    "id": "ORBLM3xFZv3J",
    "outputId": "4491dd6a-bbbe-40e7-930c-727854fd3242"
   },
   "outputs": [
    {
     "data": {
      "text/plain": [
       "{3: 0.5667, 5: 0.6067, 10: 0.6067}"
      ]
     },
     "execution_count": 48,
     "metadata": {},
     "output_type": "execute_result"
    }
   ],
   "source": [
    "mrr"
   ]
  },
  {
   "cell_type": "markdown",
   "metadata": {
    "id": "q3iuQfwxUYe3"
   },
   "source": [
    "### 1.6. NDCG - Normalized Discounted Cumulative Gain"
   ]
  },
  {
   "cell_type": "code",
   "execution_count": 49,
   "metadata": {
    "id": "-g8VAeWvZv3K"
   },
   "outputs": [],
   "source": [
    "def dcg_at_k(y_true, k=10):\n",
    "    gain = 2 ** np.array(y_true[:k])-1 # Compute gain\n",
    "    discounts = np.log2(np.arange(len(y_true[:k]))+2) # Compute denominator\n",
    "    return np.sum(gain / discounts) #return dcg@k\n",
    "\n",
    "\n",
    "def ndcg_at_k(y_true, y_score, k=10):    \n",
    "    dcg_max = dcg_at_k(y_score, k) # Ideal dcg\n",
    "    if not dcg_max:\n",
    "        return 0\n",
    "    return np.round(dcg_at_k(y_true, k)/dcg_max , 4)  # Our dcg"
   ]
  },
  {
   "cell_type": "code",
   "execution_count": 50,
   "metadata": {
    "id": "Syujf6SnUYe3",
    "outputId": "5395b05d-8f31-4154-f830-555f6cf6189a"
   },
   "outputs": [
    {
     "data": {
      "text/plain": [
       "23.1535868861801"
      ]
     },
     "execution_count": 50,
     "metadata": {},
     "output_type": "execute_result"
    }
   ],
   "source": [
    "#DCG for Query 1 and k = 10\n",
    "q_id = 1\n",
    "k = 10\n",
    "\n",
    "labels = np.array(df_ground_truth[df_ground_truth['q_id'] == q_id][\"y_true\"])\n",
    "dcg_max = dcg_at_k(labels, k)\n",
    "dcg_max"
   ]
  },
  {
   "cell_type": "markdown",
   "metadata": {
    "id": "1K3ukg9pZv3K"
   },
   "source": [
    "the 𝑁𝐷𝐶𝐺@10 for query with q_id=1"
   ]
  },
  {
   "cell_type": "code",
   "execution_count": 51,
   "metadata": {
    "id": "jeG1KjGTZv3K",
    "outputId": "d92ce22a-e755-41a0-8127-8b63e4dbdc4e"
   },
   "outputs": [
    {
     "name": "stdout",
     "output_type": "stream",
     "text": [
      "ndcg@10 for query with q_id=1: 0.7718\n"
     ]
    }
   ],
   "source": [
    "q_id = 1\n",
    "k = 10\n",
    "y_score = y_true1.sort(reverse=True)\n",
    "labels = np.array(df_ground_truth[df_ground_truth['q_id'] == q_id][\"y_true\"])\n",
    "scores = np.array(df_ground_truth[df_ground_truth['q_id'] == q_id][\"y_true_ideal\"])\n",
    "ndcg_k = np.round(ndcg_at_k(labels, scores, k),4)\n",
    "print(\"ndcg@{} for query with q_id={}: {}\".format(k,q_id,ndcg_k))"
   ]
  },
  {
   "cell_type": "markdown",
   "metadata": {
    "id": "hKjNvn8fZv3L"
   },
   "source": [
    "the average 𝑁𝐷𝐶𝐺@10 (considering all queries/rankings)."
   ]
  },
  {
   "cell_type": "code",
   "execution_count": 52,
   "metadata": {
    "id": "TQkfY31QZv3L",
    "outputId": "eb04320b-846a-452a-f7dc-4f3f432b8cd9"
   },
   "outputs": [
    {
     "name": "stdout",
     "output_type": "stream",
     "text": [
      "Average ndcg@10: 0.6753\n"
     ]
    }
   ],
   "source": [
    "ndcgs = []\n",
    "k=10\n",
    "for q in df_ground_truth[\"q_id\"].unique(): # loop over all query ids\n",
    "    labels = np.array(df_ground_truth[df_ground_truth[\"q_id\"] == q][\"y_true\"]) ## get labels for current query\n",
    "    scores = np.array(df_ground_truth[df_ground_truth[\"q_id\"] == q][\"y_true_ideal\"]) # get ideal relevance order for current query\n",
    "    ndcgs.append(np.round(ndcg_at_k(labels, scores, k), 4)) # append NDCG for current query\n",
    "\n",
    "avg_ndcg = np.round(float(sum(ndcgs)/len(ndcgs)),4) # Compute average NDCG\n",
    "print(\"Average ndcg@{}: {}\".format(k,avg_ndcg))"
   ]
  },
  {
   "cell_type": "markdown",
   "metadata": {
    "id": "rG5OWmnnUYe4"
   },
   "source": [
    "## 3. Word2Vec representation of the tweets"
   ]
  },
  {
   "cell_type": "code",
   "execution_count": 53,
   "metadata": {
    "id": "lajem585UYe5"
   },
   "outputs": [],
   "source": [
    "# Transforming the text of all tweets in a txt format\n",
    "textfile = open(\"file.txt\", \"w\")\n",
    "for elem in all_tweets:\n",
    "    for element in elem:\n",
    "        textfile.write(element + \" \")\n",
    "textfile.close()"
   ]
  },
  {
   "cell_type": "code",
   "execution_count": 54,
   "metadata": {
    "id": "cyIPfsfTUYe5"
   },
   "outputs": [],
   "source": [
    "# Using the function for preprocessing recommended by towardsdatascience.com\n",
    "def preprocess_text(text):\n",
    "    text = re.sub('[^a-zA-Zа-яА-Я1-9]+', ' ', text)\n",
    "    text = re.sub(' +', ' ', text)\n",
    "    return text.strip()\n",
    "\n",
    "\n",
    "def prepare_for_w2v(filename_from, filename_to, lang):\n",
    "    raw_text = codecs.open(filename_from, \"r\", encoding='windows-1251').read()\n",
    "    with open(filename_to, 'w', encoding='utf-8') as f:\n",
    "        for sentence in nltk.sent_tokenize(raw_text, lang):\n",
    "            print(preprocess_text(sentence.lower()), file=f)"
   ]
  },
  {
   "cell_type": "code",
   "execution_count": 55,
   "metadata": {
    "id": "PVefDV9_UYe5"
   },
   "outputs": [],
   "source": [
    "# Training the model\n",
    "def train_word2vec(filename):\n",
    "    data = gensim.models.word2vec.LineSentence(filename)\n",
    "    return Word2Vec(data, size=200, window=5, min_count=5, workers=multiprocessing.cpu_count())"
   ]
  },
  {
   "cell_type": "code",
   "execution_count": 56,
   "metadata": {},
   "outputs": [
    {
     "name": "stdout",
     "output_type": "stream",
     "text": [
      "Requirement already satisfied: gensim in c:\\users\\kiree\\anaconda3\\lib\\site-packages (3.8.0)\n",
      "Requirement already satisfied: smart-open>=1.7.0 in c:\\users\\kiree\\anaconda3\\lib\\site-packages (from gensim) (3.0.0)\n",
      "Requirement already satisfied: scipy>=0.18.1 in c:\\users\\kiree\\anaconda3\\lib\\site-packages (from gensim) (1.5.2)\n",
      "Requirement already satisfied: numpy>=1.11.3 in c:\\users\\kiree\\anaconda3\\lib\\site-packages (from gensim) (1.19.1)\n",
      "Requirement already satisfied: six>=1.5.0 in c:\\users\\kiree\\anaconda3\\lib\\site-packages (from gensim) (1.15.0)\n",
      "Requirement already satisfied: requests in c:\\users\\kiree\\anaconda3\\lib\\site-packages (from smart-open>=1.7.0->gensim) (2.26.0)\n",
      "Requirement already satisfied: charset-normalizer~=2.0.0; python_version >= \"3\" in c:\\users\\kiree\\anaconda3\\lib\\site-packages (from requests->smart-open>=1.7.0->gensim) (2.0.7)\n",
      "Requirement already satisfied: certifi>=2017.4.17 in c:\\users\\kiree\\anaconda3\\lib\\site-packages (from requests->smart-open>=1.7.0->gensim) (2020.6.20)\n",
      "Requirement already satisfied: urllib3<1.27,>=1.21.1 in c:\\users\\kiree\\anaconda3\\lib\\site-packages (from requests->smart-open>=1.7.0->gensim) (1.22)\n",
      "Requirement already satisfied: idna<4,>=2.5; python_version >= \"3\" in c:\\users\\kiree\\anaconda3\\lib\\site-packages (from requests->smart-open>=1.7.0->gensim) (2.6)\n"
     ]
    }
   ],
   "source": [
    "!pip install gensim"
   ]
  },
  {
   "cell_type": "code",
   "execution_count": 57,
   "metadata": {},
   "outputs": [],
   "source": [
    "import gensim\n",
    "from sklearn.manifold import TSNE"
   ]
  },
  {
   "cell_type": "code",
   "execution_count": 58,
   "metadata": {
    "id": "fAc9gSFsUYe5",
    "outputId": "0e7bc54d-d293-4212-eda7-c678d4196d65"
   },
   "outputs": [
    {
     "name": "stderr",
     "output_type": "stream",
     "text": [
      "C:\\Users\\kiree\\anaconda3\\lib\\site-packages\\sklearn\\manifold\\_t_sne.py:793: FutureWarning: The default learning rate in TSNE will change from 200.0 to 'auto' in 1.2.\n",
      "  FutureWarning,\n",
      "C:\\Users\\kiree\\anaconda3\\lib\\site-packages\\sklearn\\manifold\\_t_sne.py:986: FutureWarning: The PCA initialization in TSNE will change to have the standard deviation of PC1 equal to 1e-4 in 1.2. This will ensure better convergence.\n",
      "  FutureWarning,\n"
     ]
    },
    {
     "data": {
      "image/png": "[encoded data removed]",
      "text/plain": [
       "<Figure size 1152x648 with 1 Axes>"
      ]
     },
     "metadata": {
      "needs_background": "light"
     },
     "output_type": "display_data"
    }
   ],
   "source": [
    "# Creating the tweets 2d scatterplot\n",
    "prepare_for_w2v('file.txt', 'file1.txt', 'english')\n",
    "model_ak = train_word2vec('file1.txt')\n",
    "\n",
    "words_ak = []\n",
    "embeddings_ak = []\n",
    "for word in list(model_ak.wv.vocab):\n",
    "    embeddings_ak.append(model_ak.wv[word])\n",
    "    words_ak.append(word)\n",
    "    \n",
    "tsne_ak_2d = TSNE(perplexity=30, n_components=2, init='pca', n_iter=3500, random_state=32)\n",
    "embeddings_ak_2d = tsne_ak_2d.fit_transform(embeddings_ak)\n",
    "\n",
    "def tsne_plot_2d(label, embeddings, words=[], a=1):\n",
    "    plt.figure(figsize=(16, 9))\n",
    "    colors = cm.rainbow(np.linspace(0, 1, 1))\n",
    "    x = embeddings[:,0]\n",
    "    y = embeddings[:,1]\n",
    "    plt.scatter(x, y, c=colors, alpha=a, label=label)\n",
    "    for i, word in enumerate(words):\n",
    "        plt.annotate(word, alpha=0.3, xy=(x[i], y[i]), xytext=(5, 2), \n",
    "                     textcoords='offset points', ha='right', va='bottom', size=10)\n",
    "    plt.legend(loc=4)\n",
    "    plt.grid(True)\n",
    "    plt.savefig(\"hhh.png\", format='png', dpi=150, bbox_inches='tight')\n",
    "    plt.show()\n",
    "\n",
    "tsne_plot_2d('Tweets 2d Scatterplot', embeddings_ak_2d, a=0.1)"
   ]
  },
  {
   "cell_type": "markdown",
   "metadata": {
    "id": "aeujp17dUYe6"
   },
   "source": [
    "## Part 3: Ranking"
   ]
  },
  {
   "cell_type": "markdown",
   "metadata": {},
   "source": [
    "## 1. TF-IDF and OUR SCORE + cosine similarity ranking"
   ]
  },
  {
   "cell_type": "markdown",
   "metadata": {
    "id": "JwYQ0bwzUYe6"
   },
   "source": [
    "### a. TF-IDF + cosine similarity"
   ]
  },
  {
   "cell_type": "code",
   "execution_count": 59,
   "metadata": {
    "id": "jQy8YzC9UYe6"
   },
   "outputs": [],
   "source": [
    "def create_index_tfidf(lines, num_documents):\n",
    "    \"\"\"\n",
    "    Implement the inverted index and compute tf, df and idf\n",
    "    \n",
    "    Argument:\n",
    "    lines -- collection of Wikipedia articles\n",
    "    num_documents -- total number of documents\n",
    "    \n",
    "    Returns:\n",
    "    index - the inverted index (implemented through a Python dictionary) containing terms as keys and the corresponding\n",
    "    list of document these keys appears in (and the positions) as values.\n",
    "    tf - normalized term frequency for each term in each document\n",
    "    df - number of documents each term appear in\n",
    "    idf - inverse document frequency of each term\n",
    "    \"\"\"\n",
    "\n",
    "    index = defaultdict(list)\n",
    "    tf = defaultdict(list)  #term frequencies of terms in documents (documents in the same order as in the main index)\n",
    "    df = defaultdict(int)  #document frequencies of terms in the corpus\n",
    "    idf = defaultdict(float)\n",
    "\n",
    "    for i in range(len(lines)):  # Remember, lines contain all tweets\n",
    "        page_id = json_data[str(i)]['id']\n",
    "        terms = json_data[str(i)]['full_text']\n",
    "\n",
    "        ## ===============================================================        \n",
    "        ## create the index for the **current page** and store it in current_page_index\n",
    "        ## current_page_index ==> { ‘term1’: [current_doc, [list of positions]], ...,‘term_n’: [current_doc, [list of positions]]}\n",
    "\n",
    "        ## Example: if the curr_doc has id 1 and his text is \n",
    "        ##\"web retrieval information retrieval\":\n",
    "\n",
    "        ## current_page_index ==> { ‘web’: [1, [0]], ‘retrieval’: [1, [1,4]], ‘information’: [1, [2]]}\n",
    "\n",
    "        ## the term ‘web’ appears in document 1 in positions 0, \n",
    "        ## the term ‘retrieval’ appears in document 1 in positions 1 and 4\n",
    "        ## ===============================================================\n",
    "\n",
    "        current_page_index = {}\n",
    "\n",
    "        for position, term in enumerate(terms):  ## terms contains page_title + page_text\n",
    "            try:\n",
    "                # if the term is already in the dict append the position to the corresponding list\n",
    "                current_page_index[term][1].append(position)\n",
    "            except:\n",
    "                # Add the new term as dict key and initialize the array of positions and add the position\n",
    "                current_page_index[term]=[page_id, array('I',[position])] #'I' indicates unsigned int (int in Python)\n",
    "\n",
    "        #normalize term frequencies\n",
    "        # Compute the denominator to normalize term frequencies (formula 2 above)\n",
    "        # norm is the same for all terms of a document.\n",
    "        norm = 0\n",
    "        for term, posting in current_page_index.items():\n",
    "            # posting will contain the list of positions for current term in current document. \n",
    "            # posting ==> [current_doc, [list of positions]] \n",
    "            # you can use it to infer the frequency of current term.\n",
    "            norm += len(posting[1]) ** 2\n",
    "        norm = math.sqrt(norm)\n",
    "\n",
    "        #calculate the tf(dividing the term frequency by the above computed norm) and df weights\n",
    "        for term, posting in current_page_index.items():\n",
    "            # append the tf for current term (tf = term frequency in current doc/norm)\n",
    "            tf[term].append(np.round(len(posting[1])/norm,4)) ## SEE formula (1) above\n",
    "            #increment the document frequency of current term (number of documents containing the current term)\n",
    "            df[term]+=1 # increment DF for current term\n",
    "\n",
    "        #merge the current page index with the main index\n",
    "        for term_page, posting_page in current_page_index.items():\n",
    "            index[term_page].append(posting_page)\n",
    "\n",
    "        # Compute IDF following the formula (3) above. HINT: use np.log\n",
    "        for term in df:\n",
    "            idf[term] = np.round(np.log(float(num_documents/ df[term])), 4)\n",
    "\n",
    "    return index, tf, df, idf\n"
   ]
  },
  {
   "cell_type": "code",
   "execution_count": 60,
   "metadata": {
    "id": "GXge6gp5UYe7",
    "outputId": "3c1aa845-c398-47ab-f161-1ff6593b1d98"
   },
   "outputs": [
    {
     "name": "stdout",
     "output_type": "stream",
     "text": [
      "Total time to create the index: 72.41 seconds\n"
     ]
    }
   ],
   "source": [
    "start_time = time.time()\n",
    "num_documents = len(all_tweets)\n",
    "index, tf, df, idf = create_index_tfidf(all_tweets, num_documents)\n",
    "print(\"Total time to create the index: {} seconds\" .format(np.round(time.time() - start_time, 2)))"
   ]
  },
  {
   "cell_type": "code",
   "execution_count": 61,
   "metadata": {
    "id": "BnY7jMooUYe7"
   },
   "outputs": [],
   "source": [
    "def rank_documents(terms, docs, index, idf, tf):\n",
    "    \"\"\"\n",
    "    Perform the ranking of the results of a search based on the tf-idf weights\n",
    "    \n",
    "    Argument:\n",
    "    terms -- list of query terms\n",
    "    docs -- list of documents, to rank, matching the query\n",
    "    index -- inverted index data structure\n",
    "    idf -- inverted document frequencies\n",
    "    tf -- term frequencies\n",
    "    title_index -- mapping between page id and page title\n",
    "    \n",
    "    Returns:\n",
    "    Print the list of ranked documents\n",
    "    \"\"\"\n",
    "\n",
    "    # We are interested only on the element of the docVector corresponding to the query terms \n",
    "    # The remaining elements would became 0 when multiplied to the query_vector\n",
    "    doc_vectors = defaultdict(lambda: [0] * len(terms)) # We call doc_vectors[k] for a nonexistent key k, the key-value pair (k,[0]*len(terms)) will be automatically added to the dictionary\n",
    "    query_vector = [0] * len(terms)\n",
    "\n",
    "    # compute the norm for the query tf\n",
    "    query_terms_count = collections.Counter(terms)  # get the frequency of each term in the query. \n",
    "    # Example: collections.Counter([\"hello\",\"hello\",\"world\"]) --> Counter({'hello': 2, 'world': 1})\n",
    "    #HINT: use when computing tf for query_vector\n",
    "\n",
    "    query_norm = la.norm(list(query_terms_count.values()))\n",
    "\n",
    "    for termIndex, term in enumerate(terms):  #termIndex is the index of the term in the query\n",
    "        if term not in index:\n",
    "            continue\n",
    "\n",
    "        ## Compute tf*idf(normalize TF as done with documents)\n",
    "        query_vector[termIndex]=query_terms_count[term]/query_norm * idf[term]\n",
    "\n",
    "        # Generate doc_vectors for matching docs\n",
    "        for doc_index, (doc, postings) in enumerate(index[term]):\n",
    "            # Example of [doc_index, (doc, postings)]\n",
    "            # 0 (26, array('I', [1, 4, 12, 15, 22, 28, 32, 43, 51, 68, 333, 337]))\n",
    "            # 1 (33, array('I', [26, 33, 57, 71, 87, 104, 109]))\n",
    "            # term is in doc 26 in positions 1,4, .....\n",
    "            # term is in doc 33 in positions 26,33, .....\n",
    "\n",
    "            #tf[term][0] will contain the tf of the term \"term\" in the doc 26            \n",
    "            if doc in docs:\n",
    "                doc_vectors[doc][termIndex] = tf[term][doc_index] * idf[term]  # TODO: check if multiply for idf\n",
    "\n",
    "    # Calculate the score of each doc \n",
    "    # compute the cosine similarity between queyVector and each docVector:\n",
    "    # HINT: you can use the dot product because in case of normalized vectors it corresponds to the cosine similarity\n",
    "    # see np.dot\n",
    "    \n",
    "    doc_scores=[[np.dot(curDocVec, query_vector), doc] for doc, curDocVec in doc_vectors.items() ]\n",
    "    doc_scores.sort(reverse=True)\n",
    "    result_docs = [x[1] for x in doc_scores]\n",
    "    #print document titles instead if document id's\n",
    "    #result_docs=[ title_index[x] for x in result_docs ]\n",
    "    if len(result_docs) == 0:\n",
    "        print(\"No results found, try again\")\n",
    "        query = input()\n",
    "        docs = search_tf_idf(query, index)\n",
    "    #print ('\\n'.join(result_docs), '\\n')\n",
    "    return result_docs"
   ]
  },
  {
   "cell_type": "code",
   "execution_count": 62,
   "metadata": {
    "id": "aOK37CgrUYe7"
   },
   "outputs": [],
   "source": [
    "def search_tf_idf(query, index):\n",
    "    \"\"\"\n",
    "    output is the list of documents that contain any of the query terms. \n",
    "    So, we will get the list of documents for each query term, and take the union of them.\n",
    "    \"\"\"\n",
    "    query = cleanText(query)\n",
    "    docs = set([posting[0] for posting in index[query[0]]])\n",
    "    for term in query[1:]:\n",
    "        try:\n",
    "            # store in term_docs the ids of the docs that contain \"term\"                        \n",
    "            term_docs=[posting[0] for posting in index[term]]\n",
    "            \n",
    "            # docs = docs Union term_docs\n",
    "            docs = docs.intersection(set(term_docs))\n",
    "        except:\n",
    "            #term is not in index\n",
    "            pass\n",
    "    docs = list(docs)\n",
    "    ranked_docs = rank_documents(query, docs, index, idf, tf)\n",
    "    return ranked_docs"
   ]
  },
  {
   "cell_type": "code",
   "execution_count": 63,
   "metadata": {
    "id": "g_euEnFPUYe8",
    "outputId": "ce2fdf43-35c5-4a22-8785-e09fb5aa955c"
   },
   "outputs": [
    {
     "name": "stdout",
     "output_type": "stream",
     "text": [
      "Insert your query (i.e.: Computer Science):\n",
      "\n",
      "women in health work\n",
      "\n",
      "======================\n",
      "Top 6 results out of 6 for the searched query:\n",
      "\n",
      "Result 1 :\n",
      "\n",
      " @DrTedros @UNICEF @UN @WFP \"I thank the women and men of WHO’s national and international staff who continue to work every day to protect and promote the health of all #Afghanistan’s people\"-@DrTedros | World Health Organization (WHO) | Mon Sep 13 15:23:06 +0000 2021 | #Afghanistan | 93 | 25\n",
      "\n",
      "Result 2 :\n",
      "\n",
      " Women make up 7⃣0⃣ % of the health workforce but only 2⃣5⃣ % at decision-making level. \n",
      "\n",
      "At the #GenerationEquality Forum this week, WHO joins global leaders and activists in advancing decent and safe work conditions for health and care workers everywhere.\n",
      "https://t.co/52NIwTDRdK https://t.co/zk4Dw4JC9A | World Health Organization (WHO) | Thu Jul 01 08:52:13 +0000 2021 | #GenerationEquality | 210 | 78 | https://t.co/zk4Dw4JC9A\n",
      "\n",
      "Result 3 :\n",
      "\n",
      " @DrTedros @WHOEMRO @WHOAfghanistan @UN_News_Centre @UNNewsArabic WHO particularly emphasizes the need for women to maintain access to education, health care, and to the health workforce. With fewer health facilities operational and less female health workers reporting to work, female patients are hesitant to seek care. \n",
      "https://t.co/UeE7W127sX https://t.co/Naj2e13pJM | World Health Organization (WHO) | Wed Sep 22 09:05:14 +0000 2021 | 103 | 26 | https://t.co/Naj2e13pJM\n",
      "\n",
      "Result 4 :\n",
      "\n",
      " We must #ActForEqual to advance #GenderEquality in healthcare. Men continue to lead in global health while women continue to experience barriers like:\n",
      "\n",
      "🔹 disproportionate burdens of unpaid care work, \n",
      "🔹 wage gaps\n",
      "🔹 harassment \n",
      "🔹 less opportunities for career advancement. https://t.co/xPwj8VF50z | World Health Organization (WHO) | Thu Jul 01 06:43:11 +0000 2021 | #ActForEqual | #GenderEquality | 146 | 44 | https://t.co/xPwj8VF50z\n",
      "\n",
      "Result 5 :\n",
      "\n",
      " \"The Gender Equality Forum presents us with the opportunity not just to acknowledge these challenges &amp; ambitions, but to take action. \n",
      "WHO is committed to advocating for decent &amp; safe work conditions for all health &amp; care workers, esp. women.\"-@DrTedros at #GenerationEquality | World Health Organization (WHO) | Thu Jul 01 14:35:42 +0000 2021 | #GenerationEquality | 91 | 26\n",
      "\n",
      "Result 6 :\n",
      "\n",
      " @DrTedros @WHOEMRO @WHOAfghanistan @UN_News_Centre @UNNewsArabic WHO is committed to:\n",
      "1) working with partners to invest in the health education of girls &amp; women, &amp; continue training female health workers\n",
      "2) support an extensive trauma programme that includes training, supplies and equipment for 130 hospitals and 67 blood banks\n",
      "#StayAndDeliver https://t.co/4Iiz9TsFXX | World Health Organization (WHO) | Wed Sep 22 09:05:48 +0000 2021 | #StayAndDeliver | 142 | 33 | https://t.co/4Iiz9TsFXX\n",
      "\n"
     ]
    }
   ],
   "source": [
    "#Output of ranked documents related to the query\n",
    "print(\"Insert your query (i.e.: Computer Science):\\n\")\n",
    "query = input()\n",
    "ranked_docs = search_tf_idf(query, index)\n",
    "if len(docs) < 10:\n",
    "    top = len(docs)\n",
    "else:\n",
    "    top = 10\n",
    "\n",
    "print(\"\\n======================\\nTop {} results out of {} for the searched query:\\n\".format(top, len(ranked_docs)))\n",
    "#for d_id in ranked_docs[:top]:\n",
    "    #print(\"page_id= {} \".format(d_id))\n",
    "formated = retrieve_docs(ranked_docs, top)\n",
    "\n",
    "count = 1\n",
    "for doc in formated:\n",
    "    print('Result', count, ':\\n\\n', doc + '\\n')\n",
    "    count += 1"
   ]
  },
  {
   "cell_type": "markdown",
   "metadata": {
    "id": "TekLNpTMUYe8"
   },
   "source": [
    "### b. Your-Score + cosine similarity"
   ]
  },
  {
   "cell_type": "code",
   "execution_count": 64,
   "metadata": {
    "id": "_1fd-tZZUYe9"
   },
   "outputs": [],
   "source": [
    "def create_index_tfidf_our_score(lines, num_documents):\n",
    "    \"\"\"\n",
    "    Implement the inverted index and compute tf, df and idf\n",
    "    \n",
    "    Argument:\n",
    "    lines -- collection of Wikipedia articles\n",
    "    num_documents -- total number of documents\n",
    "    \n",
    "    Returns:\n",
    "    index - the inverted index (implemented through a Python dictionary) containing terms as keys and the corresponding\n",
    "    list of document these keys appears in (and the positions) as values.\n",
    "    tf - normalized term frequency for each term in each document\n",
    "    df - number of documents each term appear in\n",
    "    idf - inverse document frequency of each term\n",
    "    \"\"\"\n",
    "\n",
    "    index = defaultdict(list)\n",
    "    tf = defaultdict(list)  #term frequencies of terms in documents (documents in the same order as in the main index)\n",
    "    df = defaultdict(int)  #document frequencies of terms in the corpus\n",
    "    idf = defaultdict(float)\n",
    "\n",
    "    for i in range(len(lines)):  # Remember, lines contain all tweets\n",
    "        page_id = json_data[str(i)]['id']\n",
    "        terms = json_data[str(i)]['full_text']\n",
    "\n",
    "        ## ===============================================================        \n",
    "        ## create the index for the **current page** and store it in current_page_index\n",
    "        ## current_page_index ==> { ‘term1’: [current_doc, [list of positions]], ...,‘term_n’: [current_doc, [list of positions]]}\n",
    "\n",
    "        ## Example: if the curr_doc has id 1 and his text is \n",
    "        ##\"web retrieval information retrieval\":\n",
    "\n",
    "        ## current_page_index ==> { ‘web’: [1, [0]], ‘retrieval’: [1, [1,4]], ‘information’: [1, [2]]}\n",
    "\n",
    "        ## the term ‘web’ appears in document 1 in positions 0, \n",
    "        ## the term ‘retrieval’ appears in document 1 in positions 1 and 4\n",
    "        ## ===============================================================\n",
    "\n",
    "        current_page_index = {}\n",
    "\n",
    "        for position, term in enumerate(terms):  ## terms contains page_title + page_text\n",
    "            try:\n",
    "                # if the term is already in the dict append the position to the corresponding list\n",
    "                current_page_index[term][1].append(position)\n",
    "            except:\n",
    "                # Add the new term as dict key and initialize the array of positions and add the position\n",
    "                current_page_index[term]=[page_id, array('I',[position])] #'I' indicates unsigned int (int in Python)\n",
    "\n",
    "        #normalize term frequencies\n",
    "        # Compute the denominator to normalize term frequencies (formula 2 above)\n",
    "        # norm is the same for all terms of a document.\n",
    "        norm = 0\n",
    "        for term, posting in current_page_index.items():\n",
    "            # posting will contain the list of positions for current term in current document. \n",
    "            # posting ==> [current_doc, [list of positions]] \n",
    "            # you can use it to infer the frequency of current term.\n",
    "            norm += len(posting[1]) ** 2\n",
    "        norm = math.sqrt(norm)\n",
    "\n",
    "        #calculate the tf(dividing the term frequency by the above computed norm) and df weights\n",
    "        for term, posting in current_page_index.items():\n",
    "            # append the tf for current term (tf = term frequency in current doc/norm)\n",
    "            tf[term].append(np.round(len(posting[1])/norm,4)) ## SEE formula (1) above\n",
    "            #increment the document frequency of current term (number of documents containing the current term)\n",
    "            df[term]+=1 # increment DF for current term\n",
    "\n",
    "        #merge the current page index with the main index\n",
    "        for term_page, posting_page in current_page_index.items():\n",
    "            index[term_page].append(posting_page)\n",
    "\n",
    "        # Compute IDF following the formula (3) above. HINT: use np.log\n",
    "        for term in df:\n",
    "            idf[term] = np.round(np.log(float(num_documents/ df[term])), 4)\n",
    "            \n",
    "        #Creating the our_score list which will contain the ids of the documents and their authoritative score.\n",
    "        our_score = np.empty([len(json_data),2])\n",
    "        for i in range(len(our_score)):\n",
    "            our_score[i][0] = json_data[str(i)]['id']\n",
    "            if(json_data[str(i)]['user']['followers_count'] == 0):\n",
    "                our_score[i][1] = 0\n",
    "            else:\n",
    "                our_score[i][1] = json_data[str(i)]['favorite_count'] / np.log(json_data[str(i)]['user']['followers_count'])\n",
    "                our_score[i][1] += json_data[str(i)]['retweet_count'] / np.log(json_data[str(i)]['user']['followers_count'])\n",
    "            #if the tweet comes from a verified account\n",
    "            if json_data[str(i)]['user']['verified']:\n",
    "                our_score[i][1] += 0.05\n",
    "            #if the user that retweet the tweet is following the account\n",
    "            if json_data[str(i)]['user']['following']:\n",
    "                our_score[i][1] += 0.05\n",
    "            if json_data[str(i)]['favorited']:\n",
    "                our_score[i][1] += 0.05\n",
    "            if json_data[str(i)]['retweeted']:\n",
    "                our_score[i][1] += 0.05\n",
    "            #if the year is bigger or equal to five years from now\n",
    "            if int(json_data[str(i)]['created_at'][-4:]) >= (datetime.now().year) -5 :\n",
    "                our_score[i][1] += 0.05\n",
    "        \n",
    "        \n",
    "    return index, tf, df, idf, our_score\n"
   ]
  },
  {
   "cell_type": "code",
   "execution_count": 65,
   "metadata": {
    "id": "yxwYOn20UYfA",
    "outputId": "e0fc3251-66bc-4708-e0b2-51a06e31a7cf"
   },
   "outputs": [
    {
     "name": "stdout",
     "output_type": "stream",
     "text": [
      "Total time to create the index: 146.87 seconds\n"
     ]
    }
   ],
   "source": [
    "from datetime import datetime\n",
    "\n",
    "start_time = time.time()\n",
    "num_documents = len(all_tweets)\n",
    "index, tf, df, idf, our_score = create_index_tfidf_our_score(all_tweets, num_documents)\n",
    "print(\"Total time to create the index: {} seconds\" .format(np.round(time.time() - start_time, 2)))"
   ]
  },
  {
   "cell_type": "code",
   "execution_count": 66,
   "metadata": {
    "id": "ZpXTOIoOUYfA"
   },
   "outputs": [],
   "source": [
    "def rank_documents_our_score(terms, docs, index, idf, tf, our_score):\n",
    "    \"\"\"\n",
    "    Perform the ranking of the results of a search based on the tf-idf weights\n",
    "    \n",
    "    Argument:\n",
    "    terms -- list of query terms\n",
    "    docs -- list of documents, to rank, matching the query\n",
    "    index -- inverted index data structure\n",
    "    idf -- inverted document frequencies\n",
    "    tf -- term frequencies\n",
    "    title_index -- mapping between page id and page title\n",
    "    \n",
    "    Returns:\n",
    "    Print the list of ranked documents\n",
    "    \"\"\"\n",
    "\n",
    "    # We are interested only on the element of the docVector corresponding to the query terms \n",
    "    # The remaining elements would became 0 when multiplied to the query_vector\n",
    "    doc_vectors = defaultdict(lambda: [0] * len(terms)) # We call doc_vectors[k] for a nonexistent key k, the key-value pair (k,[0]*len(terms)) will be automatically added to the dictionary\n",
    "    query_vector = [0] * len(terms)\n",
    "\n",
    "    # compute the norm for the query tf\n",
    "    query_terms_count = collections.Counter(terms)  # get the frequency of each term in the query. \n",
    "    # Example: collections.Counter([\"hello\",\"hello\",\"world\"]) --> Counter({'hello': 2, 'world': 1})\n",
    "    #HINT: use when computing tf for query_vector\n",
    "\n",
    "    query_norm = la.norm(list(query_terms_count.values()))\n",
    "\n",
    "    for termIndex, term in enumerate(terms):  #termIndex is the index of the term in the query\n",
    "        if term not in index:\n",
    "            continue\n",
    "\n",
    "        ## Compute tf*idf(normalize TF as done with documents)\n",
    "        query_vector[termIndex]=query_terms_count[term]/query_norm * idf[term]\n",
    "\n",
    "        # Generate doc_vectors for matching docs\n",
    "        for doc_index, (doc, postings) in enumerate(index[term]):\n",
    "            # Example of [doc_index, (doc, postings)]\n",
    "            # 0 (26, array('I', [1, 4, 12, 15, 22, 28, 32, 43, 51, 68, 333, 337]))\n",
    "            # 1 (33, array('I', [26, 33, 57, 71, 87, 104, 109]))\n",
    "            # term is in doc 26 in positions 1,4, .....\n",
    "            # term is in doc 33 in positions 26,33, .....\n",
    "\n",
    "            #tf[term][0] will contain the tf of the term \"term\" in the doc 26            \n",
    "            if doc in docs:\n",
    "                lst2 = [item[0] for item in our_score]\n",
    "                index1 = lst2.index(doc)\n",
    "                #We add the score from the our_score list\n",
    "                doc_vectors[doc][termIndex] = tf[term][doc_index] * idf[term] + our_score[index1][1]  \n",
    "\n",
    "    # Calculate the score of each doc \n",
    "    # compute the cosine similarity between queyVector and each docVector:\n",
    "    # HINT: you can use the dot product because in case of normalized vectors it corresponds to the cosine similarity\n",
    "    # see np.dot\n",
    "    \n",
    "    doc_scores=[[np.dot(curDocVec, query_vector), doc] for doc, curDocVec in doc_vectors.items() ]\n",
    "    doc_scores.sort(reverse=True)\n",
    "    result_docs = [x[1] for x in doc_scores]\n",
    "    #print document titles instead if document id's\n",
    "    #result_docs=[ title_index[x] for x in result_docs ]\n",
    "    if len(result_docs) == 0:\n",
    "        print(\"No results found, try again\")\n",
    "        query = input()\n",
    "        docs = search_tf_idf(query, index)\n",
    "    #print ('\\n'.join(result_docs), '\\n')\n",
    "    return result_docs"
   ]
  },
  {
   "cell_type": "code",
   "execution_count": 67,
   "metadata": {
    "id": "lEQKSgkjUYfA"
   },
   "outputs": [],
   "source": [
    "def search_tf_idf_our_score(query, index, our_score):\n",
    "    \"\"\"\n",
    "    output is the list of documents that contain any of the query terms. \n",
    "    So, we will get the list of documents for each query term, and take the union of them.\n",
    "    \"\"\"\n",
    "    query = cleanText(query)\n",
    "    docs = set([posting[0] for posting in index[query[0]]])\n",
    "    for term in query[1:]:\n",
    "        try:\n",
    "            # store in term_docs the ids of the docs that contain \"term\"                        \n",
    "            term_docs=[posting[0] for posting in index[term]]\n",
    "            \n",
    "            # docs = docs Union term_docs\n",
    "            docs = docs.intersection(set(term_docs))\n",
    "        except:\n",
    "            #term is not in index\n",
    "            pass\n",
    "    docs = list(docs)\n",
    "    ranked_docs = rank_documents_our_score(query, docs, index, idf, tf, our_score)\n",
    "    return ranked_docs"
   ]
  },
  {
   "cell_type": "code",
   "execution_count": 68,
   "metadata": {
    "id": "Bl73CMivUYfA",
    "outputId": "22bd6406-bdfa-4fa0-f1d1-82148cc814a4"
   },
   "outputs": [
    {
     "name": "stdout",
     "output_type": "stream",
     "text": [
      "Insert your query (i.e.: Computer Science):\n",
      "\n",
      "women in health work\n",
      "\n",
      "======================\n",
      "Top 6 results out of 6 for the searched query:\n",
      "\n",
      "Result 1 :\n",
      "\n",
      " Women make up 7⃣0⃣ % of the health workforce but only 2⃣5⃣ % at decision-making level. \n",
      "\n",
      "At the #GenerationEquality Forum this week, WHO joins global leaders and activists in advancing decent and safe work conditions for health and care workers everywhere.\n",
      "https://t.co/52NIwTDRdK https://t.co/zk4Dw4JC9A | World Health Organization (WHO) | Thu Jul 01 08:52:13 +0000 2021 | #GenerationEquality | 210 | 78 | https://t.co/zk4Dw4JC9A\n",
      "\n",
      "Result 2 :\n",
      "\n",
      " We must #ActForEqual to advance #GenderEquality in healthcare. Men continue to lead in global health while women continue to experience barriers like:\n",
      "\n",
      "🔹 disproportionate burdens of unpaid care work, \n",
      "🔹 wage gaps\n",
      "🔹 harassment \n",
      "🔹 less opportunities for career advancement. https://t.co/xPwj8VF50z | World Health Organization (WHO) | Thu Jul 01 06:43:11 +0000 2021 | #ActForEqual | #GenderEquality | 146 | 44 | https://t.co/xPwj8VF50z\n",
      "\n",
      "Result 3 :\n",
      "\n",
      " @DrTedros @WHOEMRO @WHOAfghanistan @UN_News_Centre @UNNewsArabic WHO is committed to:\n",
      "1) working with partners to invest in the health education of girls &amp; women, &amp; continue training female health workers\n",
      "2) support an extensive trauma programme that includes training, supplies and equipment for 130 hospitals and 67 blood banks\n",
      "#StayAndDeliver https://t.co/4Iiz9TsFXX | World Health Organization (WHO) | Wed Sep 22 09:05:48 +0000 2021 | #StayAndDeliver | 142 | 33 | https://t.co/4Iiz9TsFXX\n",
      "\n",
      "Result 4 :\n",
      "\n",
      " @DrTedros @WHOEMRO @WHOAfghanistan @UN_News_Centre @UNNewsArabic WHO particularly emphasizes the need for women to maintain access to education, health care, and to the health workforce. With fewer health facilities operational and less female health workers reporting to work, female patients are hesitant to seek care. \n",
      "https://t.co/UeE7W127sX https://t.co/Naj2e13pJM | World Health Organization (WHO) | Wed Sep 22 09:05:14 +0000 2021 | 103 | 26 | https://t.co/Naj2e13pJM\n",
      "\n",
      "Result 5 :\n",
      "\n",
      " @DrTedros @UNICEF @UN @WFP \"I thank the women and men of WHO’s national and international staff who continue to work every day to protect and promote the health of all #Afghanistan’s people\"-@DrTedros | World Health Organization (WHO) | Mon Sep 13 15:23:06 +0000 2021 | #Afghanistan | 93 | 25\n",
      "\n",
      "Result 6 :\n",
      "\n",
      " \"The Gender Equality Forum presents us with the opportunity not just to acknowledge these challenges &amp; ambitions, but to take action. \n",
      "WHO is committed to advocating for decent &amp; safe work conditions for all health &amp; care workers, esp. women.\"-@DrTedros at #GenerationEquality | World Health Organization (WHO) | Thu Jul 01 14:35:42 +0000 2021 | #GenerationEquality | 91 | 26\n",
      "\n"
     ]
    }
   ],
   "source": [
    "#Output of ranked documents related to the query\n",
    "print(\"Insert your query (i.e.: Computer Science):\\n\")\n",
    "query = input()\n",
    "ranked_docs = search_tf_idf_our_score(query, index, our_score)\n",
    "if len(ranked_docs) < 10:\n",
    "    top = len(ranked_docs)\n",
    "else:\n",
    "    top = 10\n",
    "\n",
    "print(\"\\n======================\\nTop {} results out of {} for the searched query:\\n\".format(top, len(ranked_docs)))\n",
    "#for d_id in ranked_docs[:top]:\n",
    "    #print(\"page_id= {} \".format(d_id))\n",
    "formated = retrieve_docs(ranked_docs, top)\n",
    "\n",
    "count = 1\n",
    "for doc in formated:\n",
    "    print('Result', count, ':\\n\\n', doc + '\\n')\n",
    "    count += 1"
   ]
  },
  {
   "cell_type": "markdown",
   "metadata": {},
   "source": [
    "## Evaluation of our score ranking function"
   ]
  },
  {
   "cell_type": "code",
   "execution_count": 69,
   "metadata": {},
   "outputs": [
    {
     "data": {
      "text/html": [
       "<div>\n",
       "<style scoped>\n",
       "    .dataframe tbody tr th:only-of-type {\n",
       "        vertical-align: middle;\n",
       "    }\n",
       "\n",
       "    .dataframe tbody tr th {\n",
       "        vertical-align: top;\n",
       "    }\n",
       "\n",
       "    .dataframe thead th {\n",
       "        text-align: right;\n",
       "    }\n",
       "</style>\n",
       "<table border=\"1\" class=\"dataframe\">\n",
       "  <thead>\n",
       "    <tr style=\"text-align: right;\">\n",
       "      <th></th>\n",
       "      <th>q_id</th>\n",
       "      <th>doc_id</th>\n",
       "      <th>y_true</th>\n",
       "      <th>y_true_ideal</th>\n",
       "    </tr>\n",
       "  </thead>\n",
       "  <tbody>\n",
       "    <tr>\n",
       "      <th>0</th>\n",
       "      <td>1</td>\n",
       "      <td>1422632749282775050</td>\n",
       "      <td>0</td>\n",
       "      <td>4.0</td>\n",
       "    </tr>\n",
       "    <tr>\n",
       "      <th>1</th>\n",
       "      <td>1</td>\n",
       "      <td>1413230703605600259</td>\n",
       "      <td>0</td>\n",
       "      <td>3.0</td>\n",
       "    </tr>\n",
       "    <tr>\n",
       "      <th>2</th>\n",
       "      <td>1</td>\n",
       "      <td>1417050651419312128</td>\n",
       "      <td>3</td>\n",
       "      <td>3.0</td>\n",
       "    </tr>\n",
       "    <tr>\n",
       "      <th>3</th>\n",
       "      <td>1</td>\n",
       "      <td>1422909337480089601</td>\n",
       "      <td>4</td>\n",
       "      <td>2.0</td>\n",
       "    </tr>\n",
       "    <tr>\n",
       "      <th>4</th>\n",
       "      <td>1</td>\n",
       "      <td>1415394762954321922</td>\n",
       "      <td>1</td>\n",
       "      <td>1.0</td>\n",
       "    </tr>\n",
       "    <tr>\n",
       "      <th>5</th>\n",
       "      <td>1</td>\n",
       "      <td>1437474720736288771</td>\n",
       "      <td>2</td>\n",
       "      <td>1.0</td>\n",
       "    </tr>\n",
       "    <tr>\n",
       "      <th>6</th>\n",
       "      <td>1</td>\n",
       "      <td>1432284372690866186</td>\n",
       "      <td>1</td>\n",
       "      <td>1.0</td>\n",
       "    </tr>\n",
       "    <tr>\n",
       "      <th>7</th>\n",
       "      <td>1</td>\n",
       "      <td>1430162173037359116</td>\n",
       "      <td>1</td>\n",
       "      <td>0.0</td>\n",
       "    </tr>\n",
       "    <tr>\n",
       "      <th>8</th>\n",
       "      <td>1</td>\n",
       "      <td>1408532630698696704</td>\n",
       "      <td>3</td>\n",
       "      <td>0.0</td>\n",
       "    </tr>\n",
       "    <tr>\n",
       "      <th>9</th>\n",
       "      <td>1</td>\n",
       "      <td>1415512673928757255</td>\n",
       "      <td>0</td>\n",
       "      <td>0.0</td>\n",
       "    </tr>\n",
       "    <tr>\n",
       "      <th>10</th>\n",
       "      <td>2</td>\n",
       "      <td>1410200562927288325</td>\n",
       "      <td>1</td>\n",
       "      <td>3.0</td>\n",
       "    </tr>\n",
       "    <tr>\n",
       "      <th>11</th>\n",
       "      <td>2</td>\n",
       "      <td>1426509340744327170</td>\n",
       "      <td>0</td>\n",
       "      <td>3.0</td>\n",
       "    </tr>\n",
       "    <tr>\n",
       "      <th>12</th>\n",
       "      <td>2</td>\n",
       "      <td>1426192442722766854</td>\n",
       "      <td>0</td>\n",
       "      <td>2.0</td>\n",
       "    </tr>\n",
       "    <tr>\n",
       "      <th>13</th>\n",
       "      <td>2</td>\n",
       "      <td>1444751108040232960</td>\n",
       "      <td>0</td>\n",
       "      <td>1.0</td>\n",
       "    </tr>\n",
       "    <tr>\n",
       "      <th>14</th>\n",
       "      <td>2</td>\n",
       "      <td>1414595274652147717</td>\n",
       "      <td>3</td>\n",
       "      <td>0.0</td>\n",
       "    </tr>\n",
       "    <tr>\n",
       "      <th>15</th>\n",
       "      <td>2</td>\n",
       "      <td>1408448204023205895</td>\n",
       "      <td>2</td>\n",
       "      <td>0.0</td>\n",
       "    </tr>\n",
       "    <tr>\n",
       "      <th>16</th>\n",
       "      <td>2</td>\n",
       "      <td>1427990339491598339</td>\n",
       "      <td>0</td>\n",
       "      <td>0.0</td>\n",
       "    </tr>\n",
       "    <tr>\n",
       "      <th>17</th>\n",
       "      <td>2</td>\n",
       "      <td>1435612665725034496</td>\n",
       "      <td>0</td>\n",
       "      <td>0.0</td>\n",
       "    </tr>\n",
       "    <tr>\n",
       "      <th>18</th>\n",
       "      <td>2</td>\n",
       "      <td>1430549732531884033</td>\n",
       "      <td>0</td>\n",
       "      <td>0.0</td>\n",
       "    </tr>\n",
       "    <tr>\n",
       "      <th>19</th>\n",
       "      <td>2</td>\n",
       "      <td>1435612558824775680</td>\n",
       "      <td>3</td>\n",
       "      <td>0.0</td>\n",
       "    </tr>\n",
       "    <tr>\n",
       "      <th>20</th>\n",
       "      <td>3</td>\n",
       "      <td>1447294032179351557</td>\n",
       "      <td>2</td>\n",
       "      <td>3.0</td>\n",
       "    </tr>\n",
       "    <tr>\n",
       "      <th>21</th>\n",
       "      <td>3</td>\n",
       "      <td>1409514036232953856</td>\n",
       "      <td>0</td>\n",
       "      <td>2.0</td>\n",
       "    </tr>\n",
       "    <tr>\n",
       "      <th>22</th>\n",
       "      <td>3</td>\n",
       "      <td>1409892080537776134</td>\n",
       "      <td>3</td>\n",
       "      <td>1.0</td>\n",
       "    </tr>\n",
       "    <tr>\n",
       "      <th>23</th>\n",
       "      <td>3</td>\n",
       "      <td>1447422457837760520</td>\n",
       "      <td>1</td>\n",
       "      <td>0.0</td>\n",
       "    </tr>\n",
       "    <tr>\n",
       "      <th>24</th>\n",
       "      <td>4</td>\n",
       "      <td>1410521611418144771</td>\n",
       "      <td>4</td>\n",
       "      <td>4.0</td>\n",
       "    </tr>\n",
       "    <tr>\n",
       "      <th>25</th>\n",
       "      <td>4</td>\n",
       "      <td>1410489140874035200</td>\n",
       "      <td>4</td>\n",
       "      <td>4.0</td>\n",
       "    </tr>\n",
       "    <tr>\n",
       "      <th>26</th>\n",
       "      <td>4</td>\n",
       "      <td>1440603226257035264</td>\n",
       "      <td>1</td>\n",
       "      <td>3.0</td>\n",
       "    </tr>\n",
       "    <tr>\n",
       "      <th>27</th>\n",
       "      <td>4</td>\n",
       "      <td>1440603081264144389</td>\n",
       "      <td>3</td>\n",
       "      <td>3.0</td>\n",
       "    </tr>\n",
       "    <tr>\n",
       "      <th>28</th>\n",
       "      <td>4</td>\n",
       "      <td>1437436684023615495</td>\n",
       "      <td>3</td>\n",
       "      <td>2.0</td>\n",
       "    </tr>\n",
       "    <tr>\n",
       "      <th>29</th>\n",
       "      <td>4</td>\n",
       "      <td>1410608055016775690</td>\n",
       "      <td>2</td>\n",
       "      <td>1.0</td>\n",
       "    </tr>\n",
       "    <tr>\n",
       "      <th>30</th>\n",
       "      <td>5</td>\n",
       "      <td>1423635686981136389</td>\n",
       "      <td>1</td>\n",
       "      <td>4.0</td>\n",
       "    </tr>\n",
       "    <tr>\n",
       "      <th>31</th>\n",
       "      <td>5</td>\n",
       "      <td>1422159909957869572</td>\n",
       "      <td>0</td>\n",
       "      <td>2.0</td>\n",
       "    </tr>\n",
       "    <tr>\n",
       "      <th>32</th>\n",
       "      <td>5</td>\n",
       "      <td>1446101365558808577</td>\n",
       "      <td>2</td>\n",
       "      <td>2.0</td>\n",
       "    </tr>\n",
       "    <tr>\n",
       "      <th>33</th>\n",
       "      <td>5</td>\n",
       "      <td>1446114372057587712</td>\n",
       "      <td>4</td>\n",
       "      <td>1.0</td>\n",
       "    </tr>\n",
       "    <tr>\n",
       "      <th>34</th>\n",
       "      <td>5</td>\n",
       "      <td>1433748965003038723</td>\n",
       "      <td>0</td>\n",
       "      <td>0.0</td>\n",
       "    </tr>\n",
       "    <tr>\n",
       "      <th>35</th>\n",
       "      <td>5</td>\n",
       "      <td>1446114284778319878</td>\n",
       "      <td>2</td>\n",
       "      <td>0.0</td>\n",
       "    </tr>\n",
       "    <tr>\n",
       "      <th>36</th>\n",
       "      <td>5</td>\n",
       "      <td>1438842873630404609</td>\n",
       "      <td>0</td>\n",
       "      <td>0.0</td>\n",
       "    </tr>\n",
       "  </tbody>\n",
       "</table>\n",
       "</div>"
      ],
      "text/plain": [
       "   q_id               doc_id y_true  y_true_ideal\n",
       "0     1  1422632749282775050      0           4.0\n",
       "1     1  1413230703605600259      0           3.0\n",
       "2     1  1417050651419312128      3           3.0\n",
       "3     1  1422909337480089601      4           2.0\n",
       "4     1  1415394762954321922      1           1.0\n",
       "5     1  1437474720736288771      2           1.0\n",
       "6     1  1432284372690866186      1           1.0\n",
       "7     1  1430162173037359116      1           0.0\n",
       "8     1  1408532630698696704      3           0.0\n",
       "9     1  1415512673928757255      0           0.0\n",
       "10    2  1410200562927288325      1           3.0\n",
       "11    2  1426509340744327170      0           3.0\n",
       "12    2  1426192442722766854      0           2.0\n",
       "13    2  1444751108040232960      0           1.0\n",
       "14    2  1414595274652147717      3           0.0\n",
       "15    2  1408448204023205895      2           0.0\n",
       "16    2  1427990339491598339      0           0.0\n",
       "17    2  1435612665725034496      0           0.0\n",
       "18    2  1430549732531884033      0           0.0\n",
       "19    2  1435612558824775680      3           0.0\n",
       "20    3  1447294032179351557      2           3.0\n",
       "21    3  1409514036232953856      0           2.0\n",
       "22    3  1409892080537776134      3           1.0\n",
       "23    3  1447422457837760520      1           0.0\n",
       "24    4  1410521611418144771      4           4.0\n",
       "25    4  1410489140874035200      4           4.0\n",
       "26    4  1440603226257035264      1           3.0\n",
       "27    4  1440603081264144389      3           3.0\n",
       "28    4  1437436684023615495      3           2.0\n",
       "29    4  1410608055016775690      2           1.0\n",
       "30    5  1423635686981136389      1           4.0\n",
       "31    5  1422159909957869572      0           2.0\n",
       "32    5  1446101365558808577      2           2.0\n",
       "33    5  1446114372057587712      4           1.0\n",
       "34    5  1433748965003038723      0           0.0\n",
       "35    5  1446114284778319878      2           0.0\n",
       "36    5  1438842873630404609      0           0.0"
      ]
     },
     "execution_count": 69,
     "metadata": {},
     "output_type": "execute_result"
    }
   ],
   "source": [
    "#Creating the new ground truth\n",
    "df_ground_truth1 = pd.DataFrame(columns=['q_id', 'doc_id', 'y_true'])\n",
    "\n",
    "#Creating the list of queries ids\n",
    "query1 = 'Vaccine for covid19'\n",
    "query2 = 'Countries with more deaths from covid19'\n",
    "query3 = 'Mental health support'\n",
    "query4 = 'Women in health work'\n",
    "query5 = 'Covid19 symptoms'\n",
    "queries = [1,2,3,4,5]\n",
    "\n",
    "#Creating the list of the top 10 ranked documents for each query\n",
    "ranked_docs11 = search_tf_idf_our_score(query1, index, our_score)[:10]\n",
    "ranked_docs22 = search_tf_idf_our_score(query2, index, our_score)[:10]\n",
    "ranked_docs33 = search_tf_idf_our_score(query3, index, our_score)[:10]\n",
    "ranked_docs44 = search_tf_idf_our_score(query4, index, our_score)[:10]\n",
    "ranked_docs55 = search_tf_idf_our_score(query5, index, our_score)[:10]\n",
    "ranked_docs_all1 = [ranked_docs11, ranked_docs22, ranked_docs33, ranked_docs44, ranked_docs55]\n",
    "\n",
    "#Creating the list of labels indicating the relevance of documents (0 - not relevant, 4 - very relevant)\n",
    "y_true1 = [0,0,3,4,1,2,1,1,3,0]\n",
    "y_true2 = [1,0,0,0,3,2,0,0,0,3]\n",
    "y_true3 = [2,0,3,1]\n",
    "y_true4 = [4,4,1,3,3,2]\n",
    "y_true5 = [1,0,2,4,0,2,0]\n",
    "y_true_all = [y_true1, y_true2, y_true3, y_true4, y_true5]\n",
    "\n",
    "#Creating the list of ranked documents ideally ordered by relevance\n",
    "y_true1_ideal = y_true1.copy()\n",
    "y_true2_ideal = y_true2.copy()\n",
    "y_true3_ideal = y_true3.copy()\n",
    "y_true4_ideal = y_true4.copy()\n",
    "y_true5_ideal = y_true5.copy()\n",
    "\n",
    "y_true1_ideal.sort(reverse=True)\n",
    "y_true2_ideal.sort(reverse=True)\n",
    "y_true3_ideal.sort(reverse=True)\n",
    "y_true4_ideal.sort(reverse=True)\n",
    "y_true5_ideal.sort(reverse=True)\n",
    "y_true_ideal_all = [y_true1_ideal, y_true2_ideal, y_true3_ideal, y_true4_ideal, y_true5_ideal]\n",
    "\n",
    "\n",
    "for i in range(len(queries)):\n",
    "    for row in range(len(ranked_docs_all1[i])):\n",
    "        newRow = {\n",
    "            \"q_id\": queries[i],\n",
    "            \"doc_id\": ranked_docs_all1[i][row] ,\n",
    "            \"y_true\": y_true_all[i][row],\n",
    "            \"y_true_ideal\": y_true_ideal_all[i][row]\n",
    "        }\n",
    "        \n",
    "        df_ground_truth1 = df_ground_truth1.append(newRow, ignore_index=True, sort=False)\n",
    "\n",
    "df_ground_truth1"
   ]
  },
  {
   "cell_type": "code",
   "execution_count": 70,
   "metadata": {},
   "outputs": [
    {
     "data": {
      "text/html": [
       "<div>\n",
       "<style scoped>\n",
       "    .dataframe tbody tr th:only-of-type {\n",
       "        vertical-align: middle;\n",
       "    }\n",
       "\n",
       "    .dataframe tbody tr th {\n",
       "        vertical-align: top;\n",
       "    }\n",
       "\n",
       "    .dataframe thead th {\n",
       "        text-align: right;\n",
       "    }\n",
       "</style>\n",
       "<table border=\"1\" class=\"dataframe\">\n",
       "  <thead>\n",
       "    <tr style=\"text-align: right;\">\n",
       "      <th></th>\n",
       "      <th>q_id</th>\n",
       "      <th>doc_id</th>\n",
       "      <th>y_true</th>\n",
       "      <th>y_true_ideal</th>\n",
       "      <th>bin_y_true</th>\n",
       "    </tr>\n",
       "  </thead>\n",
       "  <tbody>\n",
       "    <tr>\n",
       "      <th>0</th>\n",
       "      <td>1</td>\n",
       "      <td>1422632749282775050</td>\n",
       "      <td>0</td>\n",
       "      <td>4.0</td>\n",
       "      <td>0</td>\n",
       "    </tr>\n",
       "    <tr>\n",
       "      <th>1</th>\n",
       "      <td>1</td>\n",
       "      <td>1413230703605600259</td>\n",
       "      <td>0</td>\n",
       "      <td>3.0</td>\n",
       "      <td>0</td>\n",
       "    </tr>\n",
       "    <tr>\n",
       "      <th>2</th>\n",
       "      <td>1</td>\n",
       "      <td>1417050651419312128</td>\n",
       "      <td>3</td>\n",
       "      <td>3.0</td>\n",
       "      <td>1</td>\n",
       "    </tr>\n",
       "    <tr>\n",
       "      <th>3</th>\n",
       "      <td>1</td>\n",
       "      <td>1422909337480089601</td>\n",
       "      <td>4</td>\n",
       "      <td>2.0</td>\n",
       "      <td>1</td>\n",
       "    </tr>\n",
       "    <tr>\n",
       "      <th>4</th>\n",
       "      <td>1</td>\n",
       "      <td>1415394762954321922</td>\n",
       "      <td>1</td>\n",
       "      <td>1.0</td>\n",
       "      <td>0</td>\n",
       "    </tr>\n",
       "  </tbody>\n",
       "</table>\n",
       "</div>"
      ],
      "text/plain": [
       "  q_id               doc_id y_true  y_true_ideal  bin_y_true\n",
       "0    1  1422632749282775050      0           4.0           0\n",
       "1    1  1413230703605600259      0           3.0           0\n",
       "2    1  1417050651419312128      3           3.0           1\n",
       "3    1  1422909337480089601      4           2.0           1\n",
       "4    1  1415394762954321922      1           1.0           0"
      ]
     },
     "execution_count": 70,
     "metadata": {},
     "output_type": "execute_result"
    }
   ],
   "source": [
    "#Adding a binary value indicating 1 - relevance, 0 - non-relevance\n",
    "df_ground_truth1[\"bin_y_true\"] = df_ground_truth1['y_true'].apply(lambda y: 1 if y >= 2 else 0)\n",
    "df_ground_truth1.head()"
   ]
  },
  {
   "cell_type": "markdown",
   "metadata": {},
   "source": [
    "### Mean Average Precision (MAP)"
   ]
  },
  {
   "cell_type": "code",
   "execution_count": 71,
   "metadata": {},
   "outputs": [
    {
     "data": {
      "text/plain": [
       "0.5753333333333333"
      ]
     },
     "execution_count": 71,
     "metadata": {},
     "output_type": "execute_result"
    }
   ],
   "source": [
    "#Computing mAP@10 for all queries of the dataset\n",
    "map_k = map_at_k(df_ground_truth1, 10)\n",
    "map_k"
   ]
  },
  {
   "cell_type": "markdown",
   "metadata": {},
   "source": [
    "### Mean Reciprocal Rank (MRR)"
   ]
  },
  {
   "cell_type": "code",
   "execution_count": 72,
   "metadata": {},
   "outputs": [],
   "source": [
    "mrr = {}\n",
    "for k in [3,5,10]:\n",
    "    RRs = []\n",
    "    for q in df_ground_truth1[\"q_id\"].unique(): # loop over all query ids\n",
    "        labels = np.array(df_ground_truth1[df_ground_truth1[\"q_id\"] == q][\"bin_y_true\"]) # get labels for current query\n",
    "        RRs.append(rr_at_k(labels, k)) # append RR for current query\n",
    "    mrr[k] = np.round(float(sum(RRs)/len(RRs)),4) # Mean RR at current k"
   ]
  },
  {
   "cell_type": "code",
   "execution_count": 73,
   "metadata": {},
   "outputs": [
    {
     "data": {
      "text/plain": [
       "{3: 0.5333, 5: 0.5733, 10: 0.5733}"
      ]
     },
     "execution_count": 73,
     "metadata": {},
     "output_type": "execute_result"
    }
   ],
   "source": [
    "mrr"
   ]
  },
  {
   "cell_type": "markdown",
   "metadata": {},
   "source": [
    "### Average NDCG - Normalized Discounted Cumulative Gain"
   ]
  },
  {
   "cell_type": "code",
   "execution_count": 74,
   "metadata": {},
   "outputs": [
    {
     "name": "stdout",
     "output_type": "stream",
     "text": [
      "Average ndcg@10: 0.6636\n"
     ]
    }
   ],
   "source": [
    "ndcgs = []\n",
    "k=10\n",
    "for q in df_ground_truth1[\"q_id\"].unique(): # loop over all query ids\n",
    "    labels = np.array(df_ground_truth1[df_ground_truth1[\"q_id\"] == q][\"y_true\"]) ## get labels for current query\n",
    "    scores = np.array(df_ground_truth1[df_ground_truth1[\"q_id\"] == q][\"y_true_ideal\"]) # get ideal relevance order for current query\n",
    "    ndcgs.append(np.round(ndcg_at_k(labels, scores, k), 4)) # append NDCG for current query\n",
    "\n",
    "avg_ndcg = np.round(float(sum(ndcgs)/len(ndcgs)),4) # Compute average NDCG\n",
    "print(\"Average ndcg@{}: {}\".format(k,avg_ndcg))"
   ]
  },
  {
   "cell_type": "markdown",
   "metadata": {
    "id": "QXfpCpS8UYfB"
   },
   "source": [
    "## 2. Return a top-20 list of documents for each of the 5 queries, using word2vec + cosine similarity."
   ]
  },
  {
   "cell_type": "code",
   "execution_count": 75,
   "metadata": {
    "id": "nIamxM_GUYfB"
   },
   "outputs": [
    {
     "name": "stdout",
     "output_type": "stream",
     "text": [
      "Total time to create the index: 0.27 seconds\n"
     ]
    }
   ],
   "source": [
    "#We use the index creation function made before (Part 2)\n",
    "start_time = time.time()\n",
    "index = create_index(all_tweets)\n",
    "print(\"Total time to create the index: {} seconds\".format(np.round(time.time() - start_time, 2)))"
   ]
  },
  {
   "cell_type": "code",
   "execution_count": 76,
   "metadata": {},
   "outputs": [],
   "source": [
    "#This function transforms the words of a query or document in the averaged vector\n",
    "def get_embedding_w2v(doc_tokens):\n",
    "    embeddings = []\n",
    "    for tok in doc_tokens:\n",
    "        if tok in model_ak.wv.vocab:\n",
    "            embeddings.append(model_ak.wv.word_vec(tok))\n",
    "        else:\n",
    "            embeddings.append(np.random.rand(200))\n",
    "    # mean the vectors of individual words to get the vector of the document\n",
    "    return np.mean(embeddings, axis=0)"
   ]
  },
  {
   "cell_type": "code",
   "execution_count": 77,
   "metadata": {},
   "outputs": [
    {
     "name": "stderr",
     "output_type": "stream",
     "text": [
      "C:\\Users\\kiree\\anaconda3\\lib\\site-packages\\numpy\\core\\fromnumeric.py:3373: RuntimeWarning: Mean of empty slice.\n",
      "  out=out, **kwargs)\n",
      "C:\\Users\\kiree\\anaconda3\\lib\\site-packages\\numpy\\core\\_methods.py:170: RuntimeWarning: invalid value encountered in double_scalars\n",
      "  ret = ret.dtype.type(ret / rcount)\n"
     ]
    }
   ],
   "source": [
    "#We create a list with documents ids and their averaged vectors\n",
    "average_vector = []\n",
    "for i in range(len(all_tweets)):\n",
    "    lista = []\n",
    "    ids = json_data[str(i)]['id']\n",
    "    tweet = get_embedding_w2v(all_tweets[i])\n",
    "    lista.extend([ids, tweet])\n",
    "    average_vector.append(lista)"
   ]
  },
  {
   "cell_type": "code",
   "execution_count": 78,
   "metadata": {},
   "outputs": [],
   "source": [
    "def rank_documents_w2v(terms, docs, index):\n",
    "    \"\"\"\n",
    "    Perform the ranking of the results of a search based on the tf-idf weights\n",
    "    \n",
    "    Argument:\n",
    "    terms -- list of query terms\n",
    "    docs -- list of documents, to rank, matching the query\n",
    "    index -- inverted index data structure\n",
    "    \n",
    "    Returns:\n",
    "    Print the list of ranked documents\n",
    "    \"\"\"\n",
    "\n",
    "    # We are interested only on the element of the docVector corresponding to the query terms \n",
    "    # The remaining elements would became 0 when multiplied to the query_vector\n",
    "    doc_vectors = defaultdict(lambda: [0] * len(terms)) # We call doc_vectors[k] for a nonexistent key k, the key-value pair (k,[0]*len(terms)) will be automatically added to the dictionary\n",
    "\n",
    "    query_vector = np.asarray(get_embedding_w2v(terms))\n",
    "\n",
    "\n",
    "    query_terms_count = collections.Counter(terms)  # get the frequency of each term in the query. \n",
    "    # Example: collections.Counter([\"hello\",\"hello\",\"world\"]) --> Counter({'hello': 2, 'world': 1})\n",
    " \n",
    "\n",
    "    for termIndex, term in enumerate(terms):  #termIndex is the index of the term in the query\n",
    "        if term not in index:\n",
    "            continue\n",
    "\n",
    "        # Generate doc_vectors for matching docs\n",
    "        for doc_index, (doc, postings) in enumerate(index[term]):\n",
    "            # Example of [doc_index, (doc, postings)]\n",
    "            # 0 (26, array('I', [1, 4, 12, 15, 22, 28, 32, 43, 51, 68, 333, 337]))\n",
    "            # 1 (33, array('I', [26, 33, 57, 71, 87, 104, 109]))\n",
    "            # term is in doc 26 in positions 1,4, .....\n",
    "            # term is in doc 33 in positions 26,33, .....\n",
    "\n",
    "            #tf[term][0] will contain the tf of the term \"term\" in the doc 26            \n",
    "            if doc in docs:\n",
    "                lst2 = [item[0] for item in average_vector]\n",
    "                index1 = lst2.index(doc)\n",
    "                doc_vectors[doc] = average_vector[index1][1]\n",
    "\n",
    "    # Calculate the score of each doc \n",
    "    # compute the cosine similarity between queyVector and each docVector:\n",
    "    # HINT: you can use the dot product because in case of normalized vectors it corresponds to the cosine similarity\n",
    "    # see np.dot\n",
    "    \n",
    "    doc_scores=[[np.dot(curDocVec, query_vector), doc] for doc, curDocVec in doc_vectors.items() ]\n",
    "    doc_scores.sort(reverse=True)\n",
    "    result_docs = [x[1] for x in doc_scores]\n",
    "\n",
    "    if len(result_docs) == 0:\n",
    "        print(\"No results found, try again\")\n",
    "        query = input()\n",
    "        docs = search_w2v(query, index)\n",
    "\n",
    "    return result_docs"
   ]
  },
  {
   "cell_type": "code",
   "execution_count": 79,
   "metadata": {},
   "outputs": [],
   "source": [
    "def search_w2v(query, index):\n",
    "    \"\"\"\n",
    "    output is the list of documents that contain any of the query terms. \n",
    "    So, we will get the list of documents for each query term, and take the union of them.\n",
    "    \"\"\"\n",
    "    query = cleanText(query)\n",
    "    docs = set([posting[0] for posting in index[query[0]]])\n",
    "    for term in query[1:]:\n",
    "        try:\n",
    "            # store in term_docs the ids of the docs that contain \"term\"                        \n",
    "            term_docs=[posting[0] for posting in index[term]]\n",
    "            \n",
    "            # docs = docs Union term_docs\n",
    "            docs = docs.intersection(set(term_docs))\n",
    "        except:\n",
    "            #term is not in index\n",
    "            pass\n",
    "    docs = list(docs)\n",
    "    ranked_docs = rank_documents_w2v(query, docs, index)\n",
    "    return ranked_docs"
   ]
  },
  {
   "cell_type": "code",
   "execution_count": 80,
   "metadata": {},
   "outputs": [
    {
     "name": "stdout",
     "output_type": "stream",
     "text": [
      "\n",
      "======================\n",
      "Top 20 results out of 290 for the searched query:\n",
      "\n",
      "Result 1 :\n",
      "\n",
      " Getting vaccinated 💉 can help protect you and those around you from #COVID19 ⬇️ https://t.co/3GrojOAWT6 | World Health Organization (WHO) | Fri Aug 06 10:29:12 +0000 2021 | #COVID19 | 253 | 117 | https://t.co/3GrojOAWT6\n",
      "\n",
      "Result 2 :\n",
      "\n",
      " Here is why you should get vaccinated even if you have had #COVID19 👇 | World Health Organization (WHO) | Fri Jun 25 13:27:47 +0000 2021 | #COVID19 | 432 | 221\n",
      "\n",
      "Result 3 :\n",
      "\n",
      " RT @WHO: LIVE Q&amp;A on #COVID19 variants and vaccines with @doctorsoumya. #AskWHO https://t.co/RFfQvz1kmp | World Health Organization (WHO) | Sun Jun 27 20:15:54 +0000 2021 | #COVID19 | #AskWHO | 0 | 239\n",
      "\n",
      "Result 4 :\n",
      "\n",
      " Getting vaccinated 💉 against #COVID19 helps protect you from getting sick. https://t.co/9Ad3uW0NsN | World Health Organization (WHO) | Wed Jul 21 15:14:10 +0000 2021 | #COVID19 | 366 | 155 | https://t.co/9Ad3uW0NsN\n",
      "\n",
      "Result 5 :\n",
      "\n",
      " LIVE Q&amp;A on #COVID19 variants and vaccines with @doctorsoumya. #AskWHO https://t.co/RFfQvz1kmp | World Health Organization (WHO) | Thu Jun 24 15:38:09 +0000 2021 | #COVID19 | #AskWHO | 508 | 239\n",
      "\n",
      "Result 6 :\n",
      "\n",
      " @DrTedros \"We thank those countries that recognize all vaccines with WHO Emergency Use Listing, and we call on all countries to do the same\"-@DrTedros #COVID19 https://t.co/SxVrUSmtqw | World Health Organization (WHO) | Wed Sep 08 14:37:06 +0000 2021 | #COVID19 | 51 | 25\n",
      "\n",
      "Result 7 :\n",
      "\n",
      " RT @DrTedros: A year ago, we were still hoping a safe &amp; effective #COVID19 vaccine would be developed &amp; that it would be shared equitably i… | World Health Organization (WHO) | Tue Sep 14 13:12:16 +0000 2021 | #COVID19 | 0 | 85\n",
      "\n",
      "Result 8 :\n",
      "\n",
      " RT @WHOAFRO: @WHOAFRO #COVID19 press briefing on the pandemic &amp; the impact of #COVAX vaccine supply challenges. Speakers include: Dr @Moeti… | World Health Organization (WHO) | Thu Sep 16 15:41:56 +0000 2021 | #COVID19 | #COVAX | 0 | 30\n",
      "\n",
      "Result 9 :\n",
      "\n",
      " RT @DrTedros: #HealthWorkers, older people &amp; other at-risk groups need #COVID19 vaccines now. @WHO is calling for a moratorium on boosters… | World Health Organization (WHO) | Wed Aug 04 21:05:19 +0000 2021 | #HealthWorkers | #COVID19 | 0 | 370\n",
      "\n",
      "Result 10 :\n",
      "\n",
      " RT @DrTedros: We are calling on #G20 countries to share more #COVID19 vaccine doses now, including by ensuring at least 1 billion doses are… | World Health Organization (WHO) | Wed Jun 30 22:21:44 +0000 2021 | #G20 | #COVID19 | 0 | 77\n",
      "\n",
      "Result 11 :\n",
      "\n",
      " Vaccines 💉 give us a high level of protection from serious illness &amp; death from #COVID19 variants, including Delta.\n",
      "\n",
      "The more people are vaccinated, the less opportunity the virus has to spread &amp; develop new variants. | World Health Organization (WHO) | Sat Sep 04 17:05:05 +0000 2021 | #COVID19 | 425 | 220\n",
      "\n",
      "Result 12 :\n",
      "\n",
      " The mRNA #COVID19 vaccines are as safe as other vaccines ✅.\n",
      "\n",
      "Read more 👉https://t.co/y9lNOaCjgx https://t.co/J9H7mkGGdM | World Health Organization (WHO) | Fri Jul 23 08:32:05 +0000 2021 | #COVID19 | 419 | 240 | https://t.co/J9H7mkGGdM\n",
      "\n",
      "Result 13 :\n",
      "\n",
      " To stop the spread of #COVID19, all prevention measures, including vaccination, must be available to people with disabilities.\n",
      "\n",
      "👉https://t.co/nHE5btCzIl\n",
      "\n",
      "No one is safe until everyone is safe! #VaccinEquity\n",
      "\n",
      "https://t.co/EbIGOjNbny | World Health Organization (WHO) | Tue Aug 24 13:53:14 +0000 2021 | #COVID19 | #VaccinEquity | 248 | 78 | https://t.co/EbIGOjNbny\n",
      "\n",
      "Result 14 :\n",
      "\n",
      " RT @DrTedros: Countries with high coverage are seeing a decoupling of #COVID19 cases &amp; deaths, whereas countries that can't access vaccines… | World Health Organization (WHO) | Sat Aug 14 11:41:44 +0000 2021 | #COVID19 | 0 | 182\n",
      "\n",
      "Result 15 :\n",
      "\n",
      " @DrTedros \"We need more research and development to ensure that tests, treatments, vaccines and other tools remain effective against the Delta variant and other emerging variants;\n",
      "\n",
      "And of course, we need more vaccines\"-@DrTedros #COVID19 #VaccinEquity | World Health Organization (WHO) | Fri Jul 30 14:30:37 +0000 2021 | #COVID19 | #VaccinEquity | 92 | 27\n",
      "\n",
      "Result 16 :\n",
      "\n",
      " Many countries around the 🌎🌍🌏 still face steep increases in #COVID19 cases &amp; deaths.\n",
      "\n",
      "WHO continues to provide critical support from improving regional #COVID19 vaccine production to delivering medical supplies to the vulnerable.\n",
      "\n",
      "👉https://t.co/9hp1lPg1ZY #WHOImpact https://t.co/Xp0ZAEjMbW | World Health Organization (WHO) | Sun Oct 03 19:48:00 +0000 2021 | #COVID19 | #COVID19 | #WHOImpact | 122 | 49 | https://t.co/Xp0ZAEjMbW\n",
      "\n",
      "Result 17 :\n",
      "\n",
      " RT @WHOAFRO: 📺 LIVE: @WHOAFRO media briefing on the #COVID19 pandemic &amp; the global 10% COVID-19 vaccination milestones reached by countries… | World Health Organization (WHO) | Thu Sep 30 10:07:43 +0000 2021 | #COVID19 | 0 | 27\n",
      "\n",
      "Result 18 :\n",
      "\n",
      " Take all recommended doses of your #COVID19 vaccine to get the maximum level of protection.\n",
      "\n",
      "Read more 👉https://t.co/y9lNOaCjgx https://t.co/mlAK9m5iPe | World Health Organization (WHO) | Mon Jul 19 11:38:38 +0000 2021 | #COVID19 | 636 | 319 | https://t.co/mlAK9m5iPe\n",
      "\n",
      "Result 19 :\n",
      "\n",
      " Vaccines 💉 are highly effective against severe illness and death caused by #COVID19 virus variants, including Delta ⬇\n",
      "\n",
      "https://t.co/Nz3YRwvHfb | World Health Organization (WHO) | Sat Aug 14 09:04:44 +0000 2021 | #COVID19 | 434 | 215\n",
      "\n",
      "Result 20 :\n",
      "\n",
      " Vaccines 💉 are highly effective against severe illness and death caused by the #COVID19 variants, including Delta ⬇️ https://t.co/07RsaQLsM6 | World Health Organization (WHO) | Fri Aug 06 12:31:41 +0000 2021 | #COVID19 | 388 | 191 | https://t.co/07RsaQLsM6\n",
      "\n"
     ]
    }
   ],
   "source": [
    "#Query 1\n",
    "\n",
    "query1 = 'Vaccine for covid19'\n",
    "ranked_docs = search_w2v(query1, index)\n",
    "if len(ranked_docs) < 20:\n",
    "    top = len(ranked_docs)\n",
    "else:\n",
    "    top = 20\n",
    "\n",
    "print(\"\\n======================\\nTop {} results out of {} for the searched query:\\n\".format(top, len(ranked_docs)))\n",
    "#for d_id in ranked_docs[:top]:\n",
    "    #print(\"page_id= {} \".format(d_id))\n",
    "formated = retrieve_docs(ranked_docs, top)\n",
    "\n",
    "count = 1\n",
    "for doc in formated:\n",
    "    print('Result', count, ':\\n\\n', doc + '\\n')\n",
    "    count += 1"
   ]
  },
  {
   "cell_type": "code",
   "execution_count": 81,
   "metadata": {},
   "outputs": [
    {
     "name": "stdout",
     "output_type": "stream",
     "text": [
      "\n",
      "======================\n",
      "Top 12 results out of 12 for the searched query:\n",
      "\n",
      "Result 1 :\n",
      "\n",
      " RT @DrTedros: Countries with high coverage are seeing a decoupling of #COVID19 cases &amp; deaths, whereas countries that can't access vaccines… | World Health Organization (WHO) | Sat Aug 14 11:41:44 +0000 2021 | #COVID19 | 0 | 182\n",
      "\n",
      "Result 2 :\n",
      "\n",
      " Many countries around the 🌎🌍🌏 still face steep increases in #COVID19 cases &amp; deaths.\n",
      "\n",
      "WHO continues to provide critical support from improving regional #COVID19 vaccine production to delivering medical supplies to the vulnerable.\n",
      "\n",
      "👉https://t.co/9hp1lPg1ZY #WHOImpact https://t.co/Xp0ZAEjMbW | World Health Organization (WHO) | Sun Oct 03 19:48:00 +0000 2021 | #COVID19 | #COVID19 | #WHOImpact | 122 | 49 | https://t.co/Xp0ZAEjMbW\n",
      "\n",
      "Result 3 :\n",
      "\n",
      " @DrTedros \"As some countries ease public health and social measures, we are starting to see increases in #COVID19 transmission around the world. More cases means more hospitalizations, further stretching health workers and health systems, which increases the risk of death\"-@DrTedros | World Health Organization (WHO) | Fri Jun 25 15:33:14 +0000 2021 | #COVID19 | 69 | 33\n",
      "\n",
      "Result 4 :\n",
      "\n",
      " @DrTedros \"Last week, the number of #COVID19 cases &amp; deaths reported to WHO declined for the first time in more than 2 months. This is obviously very welcome, but it doesn’t mean much. Around the 🌍, many countries are still seeing steep increases in cases &amp; deaths, incl in 🇩🇪\"-@DrTedros | World Health Organization (WHO) | Wed Sep 01 15:07:02 +0000 2021 | #COVID19 | 49 | 13\n",
      "\n",
      "Result 5 :\n",
      "\n",
      " @DrTedros \"While #COVID19 cases in some of these countries are increasing among unvaccinated people, hospitalizations and deaths have remained relatively low, thanks to vaccines and earlier clinical care\"-@DrTedros | World Health Organization (WHO) | Wed Sep 08 14:35:06 +0000 2021 | #COVID19 | 54 | 23\n",
      "\n",
      "Result 6 :\n",
      "\n",
      " Some countries only report #COVID19 deaths occurring in hospitals or of people who have tested positive. Many countries cannot accurately measure or report cause of death due to inadequate or under-resourced health information systems. \n",
      "\n",
      "👉https://t.co/yAXB5bzx1g #HealthData https://t.co/b4otw3gHjQ | World Health Organization (WHO) | Wed Jun 30 11:36:29 +0000 2021 | #COVID19 | #HealthData | 149 | 49 | https://t.co/b4otw3gHjQ\n",
      "\n",
      "Result 7 :\n",
      "\n",
      " RT @DrTedros: Gross #COVID19 vaccine inequity is a matter of life or death for our brothers &amp; sisters in lower income countries. My piece i… | World Health Organization (WHO) | Fri Aug 13 14:42:30 +0000 2021 | #COVID19 | 0 | 183\n",
      "\n",
      "Result 8 :\n",
      "\n",
      " New data from over 90 countries highlights that the progress made in the fight against #tuberculosis is at risk with #COVID19 disruptions leading to 1.4 million additional people missing out on access to TB care in 2020 alone &amp; over half a million deaths. https://t.co/2CFqV8NQek | World Health Organization (WHO) | Fri Sep 24 17:40:38 +0000 2021 | #tuberculosis | #COVID19 | 48 | 17\n",
      "\n",
      "Result 9 :\n",
      "\n",
      " @DrTedros \"Some countries with the highest vaccine coverage are now seeing a decoupling of #COVID19 cases and deaths, which is allowing them to reopen their societies without their health systems being overwhelmed\"-@DrTedros \n",
      "\n",
      "https://t.co/WcUsrmxW2M | World Health Organization (WHO) | Wed Sep 08 14:34:41 +0000 2021 | #COVID19 | 49 | 26\n",
      "\n",
      "Result 10 :\n",
      "\n",
      " @DrTedros \"Delta continues to outpace our collective #COVID19 response, and within each country, hot spots of hospitalisation and death are where there are low levels of vaccination and limited public health measures\"-@DrTedros #ACTogether | World Health Organization (WHO) | Wed Aug 18 13:46:42 +0000 2021 | #COVID19 | #ACTogether | 54 | 24\n",
      "\n",
      "Result 11 :\n",
      "\n",
      " \"However, the situation is very different from region to region, country to country, province to province and town to town.\n",
      "Some regions and countries continue to see steep increases in [#COVID19] cases and deaths, while others are declining.\"-@DrTedros \n",
      "https://t.co/diNImSPnL9 | World Health Organization (WHO) | Wed Aug 25 15:16:49 +0000 2021 | #COVID19 | 52 | 24\n",
      "\n",
      "Result 12 :\n",
      "\n",
      " @DrTedros \"In countries with low vaccine coverage, the situation is particularly bad. Delta and other highly transmissible variants are driving catastrophic waves of #COVID19 cases, which are translating into high numbers of hospitalisations and death\"-@DrTedros \n",
      "https://t.co/AAY6DONlAx | World Health Organization (WHO) | Mon Jul 12 14:39:30 +0000 2021 | #COVID19 | 67 | 53\n",
      "\n"
     ]
    }
   ],
   "source": [
    "#Query 2\n",
    "\n",
    "query2 = 'Countries with more deaths from covid19'\n",
    "ranked_docs = search_w2v(query2, index)\n",
    "if len(ranked_docs) < 20:\n",
    "    top = len(ranked_docs)\n",
    "else:\n",
    "    top = 20\n",
    "\n",
    "print(\"\\n======================\\nTop {} results out of {} for the searched query:\\n\".format(top, len(ranked_docs)))\n",
    "#for d_id in ranked_docs[:top]:\n",
    "    #print(\"page_id= {} \".format(d_id))\n",
    "formated = retrieve_docs(ranked_docs, top)\n",
    "\n",
    "count = 1\n",
    "for doc in formated:\n",
    "    print('Result', count, ':\\n\\n', doc + '\\n')\n",
    "    count += 1"
   ]
  },
  {
   "cell_type": "code",
   "execution_count": 82,
   "metadata": {},
   "outputs": [
    {
     "name": "stdout",
     "output_type": "stream",
     "text": [
      "\n",
      "======================\n",
      "Top 4 results out of 4 for the searched query:\n",
      "\n",
      "Result 1 :\n",
      "\n",
      " RT @WHOMalawi: Living with or caring for someone with a mental health condition can be difficult, but your support is valuable.\n",
      " \n",
      "Here are… | World Health Organization (WHO) | Mon Oct 11 04:43:00 +0000 2021 | 0 | 38\n",
      "\n",
      "Result 2 :\n",
      "\n",
      " To #BeatNCDs in SIDS, WHO calls for:\n",
      "- an Action Centre to effectively address noncommunicable diseases &amp; mental health\n",
      "-more resources to support health services\n",
      "-integration of mental health considerations into health system strengthening https://t.co/ctYiSQo2Ez https://t.co/ZcgWs1oHNS | World Health Organization (WHO) | Mon Jun 28 14:08:28 +0000 2021 | #BeatNCDs | 119 | 34 | https://t.co/ZcgWs1oHNS\n",
      "\n",
      "Result 3 :\n",
      "\n",
      " Jordan, 🇫🇯, lost his job during the #COVID19 pandemic. He is not the only one. But he was lucky to have found #mentalhealth support to get through this difficult time.\n",
      " \n",
      "We need mental health care for everyone, everywhere!\n",
      "#WorldMentalHealthDay https://t.co/1jOcBbSTwm | World Health Organization (WHO) | Sun Oct 10 20:12:41 +0000 2021 | #COVID19 | #mentalhealth | #WorldMentalHealthDay | 132 | 34 | https://t.co/1jOcBbSTwm\n",
      "\n",
      "Result 4 :\n",
      "\n",
      " @DrTedros @GlobalGoalsUN @FoodSystems \"Our support also continues for scaling-up integrated services to prevent and fight obesity, diabetes, hypertension, and tobacco use, as well as for the silent epidemic of mental health\"-@DrTedros | World Health Organization (WHO) | Tue Jun 29 15:10:41 +0000 2021 | 59 | 13\n",
      "\n"
     ]
    }
   ],
   "source": [
    "#Query 3\n",
    "\n",
    "query3 = 'Mental health support'\n",
    "ranked_docs = search_w2v(query3, index)\n",
    "if len(ranked_docs) < 20:\n",
    "    top = len(ranked_docs)\n",
    "else:\n",
    "    top = 20\n",
    "\n",
    "print(\"\\n======================\\nTop {} results out of {} for the searched query:\\n\".format(top, len(ranked_docs)))\n",
    "#for d_id in ranked_docs[:top]:\n",
    "    #print(\"page_id= {} \".format(d_id))\n",
    "formated = retrieve_docs(ranked_docs, top)\n",
    "\n",
    "count = 1\n",
    "for doc in formated:\n",
    "    print('Result', count, ':\\n\\n', doc + '\\n')\n",
    "    count += 1"
   ]
  },
  {
   "cell_type": "code",
   "execution_count": 83,
   "metadata": {},
   "outputs": [
    {
     "name": "stdout",
     "output_type": "stream",
     "text": [
      "\n",
      "======================\n",
      "Top 6 results out of 6 for the searched query:\n",
      "\n",
      "Result 1 :\n",
      "\n",
      " @DrTedros @UNICEF @UN @WFP \"I thank the women and men of WHO’s national and international staff who continue to work every day to protect and promote the health of all #Afghanistan’s people\"-@DrTedros | World Health Organization (WHO) | Mon Sep 13 15:23:06 +0000 2021 | #Afghanistan | 93 | 25\n",
      "\n",
      "Result 2 :\n",
      "\n",
      " \"The Gender Equality Forum presents us with the opportunity not just to acknowledge these challenges &amp; ambitions, but to take action. \n",
      "WHO is committed to advocating for decent &amp; safe work conditions for all health &amp; care workers, esp. women.\"-@DrTedros at #GenerationEquality | World Health Organization (WHO) | Thu Jul 01 14:35:42 +0000 2021 | #GenerationEquality | 91 | 26\n",
      "\n",
      "Result 3 :\n",
      "\n",
      " Women make up 7⃣0⃣ % of the health workforce but only 2⃣5⃣ % at decision-making level. \n",
      "\n",
      "At the #GenerationEquality Forum this week, WHO joins global leaders and activists in advancing decent and safe work conditions for health and care workers everywhere.\n",
      "https://t.co/52NIwTDRdK https://t.co/zk4Dw4JC9A | World Health Organization (WHO) | Thu Jul 01 08:52:13 +0000 2021 | #GenerationEquality | 210 | 78 | https://t.co/zk4Dw4JC9A\n",
      "\n",
      "Result 4 :\n",
      "\n",
      " @DrTedros @WHOEMRO @WHOAfghanistan @UN_News_Centre @UNNewsArabic WHO is committed to:\n",
      "1) working with partners to invest in the health education of girls &amp; women, &amp; continue training female health workers\n",
      "2) support an extensive trauma programme that includes training, supplies and equipment for 130 hospitals and 67 blood banks\n",
      "#StayAndDeliver https://t.co/4Iiz9TsFXX | World Health Organization (WHO) | Wed Sep 22 09:05:48 +0000 2021 | #StayAndDeliver | 142 | 33 | https://t.co/4Iiz9TsFXX\n",
      "\n",
      "Result 5 :\n",
      "\n",
      " @DrTedros @WHOEMRO @WHOAfghanistan @UN_News_Centre @UNNewsArabic WHO particularly emphasizes the need for women to maintain access to education, health care, and to the health workforce. With fewer health facilities operational and less female health workers reporting to work, female patients are hesitant to seek care. \n",
      "https://t.co/UeE7W127sX https://t.co/Naj2e13pJM | World Health Organization (WHO) | Wed Sep 22 09:05:14 +0000 2021 | 103 | 26 | https://t.co/Naj2e13pJM\n",
      "\n",
      "Result 6 :\n",
      "\n",
      " We must #ActForEqual to advance #GenderEquality in healthcare. Men continue to lead in global health while women continue to experience barriers like:\n",
      "\n",
      "🔹 disproportionate burdens of unpaid care work, \n",
      "🔹 wage gaps\n",
      "🔹 harassment \n",
      "🔹 less opportunities for career advancement. https://t.co/xPwj8VF50z | World Health Organization (WHO) | Thu Jul 01 06:43:11 +0000 2021 | #ActForEqual | #GenderEquality | 146 | 44 | https://t.co/xPwj8VF50z\n",
      "\n"
     ]
    }
   ],
   "source": [
    "#Query 4\n",
    "\n",
    "query4 = 'Women in health work'\n",
    "ranked_docs = search_w2v(query4, index)\n",
    "if len(ranked_docs) < 20:\n",
    "    top = len(ranked_docs)\n",
    "else:\n",
    "    top = 20\n",
    "\n",
    "print(\"\\n======================\\nTop {} results out of {} for the searched query:\\n\".format(top, len(ranked_docs)))\n",
    "#for d_id in ranked_docs[:top]:\n",
    "    #print(\"page_id= {} \".format(d_id))\n",
    "formated = retrieve_docs(ranked_docs, top)\n",
    "\n",
    "count = 1\n",
    "for doc in formated:\n",
    "    print('Result', count, ':\\n\\n', doc + '\\n')\n",
    "    count += 1"
   ]
  },
  {
   "cell_type": "code",
   "execution_count": 84,
   "metadata": {},
   "outputs": [
    {
     "name": "stdout",
     "output_type": "stream",
     "text": [
      "\n",
      "======================\n",
      "Top 7 results out of 7 for the searched query:\n",
      "\n",
      "Result 1 :\n",
      "\n",
      " Getting ill with #COVID19 after you are vaccinated is possible, but rare. Your symptoms are more likely to be mild.\n",
      "\n",
      "Read more 👉https://t.co/y9lNOaCjgx https://t.co/EXquBtkg2v | World Health Organization (WHO) | Fri Aug 06 13:22:52 +0000 2021 | #COVID19 | 421 | 218 | https://t.co/EXquBtkg2v\n",
      "\n",
      "Result 2 :\n",
      "\n",
      " If you are pregnant &amp; #COVID19 positive:\n",
      " \n",
      "⏳ Seek medical care early\n",
      "📞 Ask your health worker for advice on managing symptoms\n",
      "🏥 Know where to go if your symptoms worsen\n",
      "🗓️ Isolate yourself https://t.co/8Yq1BrmJ9l | World Health Organization (WHO) | Fri Sep 17 12:30:48 +0000 2021 | #COVID19 | 110 | 51 | https://t.co/8Yq1BrmJ9l\n",
      "\n",
      "Result 3 :\n",
      "\n",
      " Most patients with #COVID19 will only get mild or moderate disease &amp; will not need supplemental oxygen.\n",
      "It is important for them to be isolated from others, whether in a health facility or at home, but their symptoms can be managed with over-the-counter medicines like paracetamol https://t.co/BE9tp9PuME | World Health Organization (WHO) | Fri Sep 03 11:09:25 +0000 2021 | #COVID19 | 201 | 63 | https://t.co/BE9tp9PuME\n",
      "\n",
      "Result 4 :\n",
      "\n",
      " People with post #COVID19 condition can experience lingering symptoms for months after recovery.\n",
      "The symptoms may begin right after being sick with COVID-19 or later, and may come and go https://t.co/WoiLcwsgJX https://t.co/JrABQL2EFx | World Health Organization (WHO) | Thu Oct 07 13:13:27 +0000 2021 | #COVID19 | 237 | 122\n",
      "\n",
      "Result 5 :\n",
      "\n",
      " @DrTedros \"The definition says that post #COVID19 condition usually occurs 3 months from the onset of COVID-19, with symptoms that last for at least 2 months, &amp; which cannot be explained by an alternative diagnosis\"-@DrTedros https://t.co/YqU7LcXHpo | World Health Organization (WHO) | Thu Oct 07 14:04:47 +0000 2021 | #COVID19 | 146 | 48\n",
      "\n",
      "Result 6 :\n",
      "\n",
      " If you have recovered from #COVID19 but are still experiencing certain symptoms you could have post COVID-19 condition or \"long COVID\". What are these symptoms? How long do they last and are there any treatment options? Dr @diazjv explains in #ScienceIn5 ⬇️ https://t.co/vtDiBhZsJE | World Health Organization (WHO) | Mon Aug 02 11:38:39 +0000 2021 | #COVID19 | #ScienceIn5 | 277 | 154 | https://t.co/vtDiBhZsJE\n",
      "\n",
      "Result 7 :\n",
      "\n",
      " @DrTedros \"Some patients have reported symptoms of post #COVID19 condition for much longer than 2 months.\n",
      "\n",
      "Common symptoms include fatigue, shortness of breath, cognitive dysfunction, and others that have an impact on everyday functioning\"-@DrTedros | World Health Organization (WHO) | Thu Oct 07 14:05:08 +0000 2021 | #COVID19 | 231 | 57\n",
      "\n"
     ]
    }
   ],
   "source": [
    "#Query 5\n",
    "\n",
    "query5 = 'Covid19 symptoms'\n",
    "ranked_docs = search_w2v(query5, index)\n",
    "if len(ranked_docs) < 20:\n",
    "    top = len(ranked_docs)\n",
    "else:\n",
    "    top = 20\n",
    "\n",
    "print(\"\\n======================\\nTop {} results out of {} for the searched query:\\n\".format(top, len(ranked_docs)))\n",
    "#for d_id in ranked_docs[:top]:\n",
    "    #print(\"page_id= {} \".format(d_id))\n",
    "formated = retrieve_docs(ranked_docs, top)\n",
    "\n",
    "count = 1\n",
    "for doc in formated:\n",
    "    print('Result', count, ':\\n\\n', doc + '\\n')\n",
    "    count += 1"
   ]
  },
  {
   "cell_type": "markdown",
   "metadata": {},
   "source": [
    "## Evaluation of the word2vec ranking function"
   ]
  },
  {
   "cell_type": "code",
   "execution_count": 85,
   "metadata": {
    "scrolled": true
   },
   "outputs": [
    {
     "data": {
      "text/html": [
       "<div>\n",
       "<style scoped>\n",
       "    .dataframe tbody tr th:only-of-type {\n",
       "        vertical-align: middle;\n",
       "    }\n",
       "\n",
       "    .dataframe tbody tr th {\n",
       "        vertical-align: top;\n",
       "    }\n",
       "\n",
       "    .dataframe thead th {\n",
       "        text-align: right;\n",
       "    }\n",
       "</style>\n",
       "<table border=\"1\" class=\"dataframe\">\n",
       "  <thead>\n",
       "    <tr style=\"text-align: right;\">\n",
       "      <th></th>\n",
       "      <th>q_id</th>\n",
       "      <th>doc_id</th>\n",
       "      <th>y_true</th>\n",
       "      <th>y_true_ideal</th>\n",
       "    </tr>\n",
       "  </thead>\n",
       "  <tbody>\n",
       "    <tr>\n",
       "      <th>0</th>\n",
       "      <td>1</td>\n",
       "      <td>1423591981456838656</td>\n",
       "      <td>1</td>\n",
       "      <td>3.0</td>\n",
       "    </tr>\n",
       "    <tr>\n",
       "      <th>1</th>\n",
       "      <td>1</td>\n",
       "      <td>1408416636084707335</td>\n",
       "      <td>0</td>\n",
       "      <td>3.0</td>\n",
       "    </tr>\n",
       "    <tr>\n",
       "      <th>2</th>\n",
       "      <td>1</td>\n",
       "      <td>1409244114411982855</td>\n",
       "      <td>0</td>\n",
       "      <td>2.0</td>\n",
       "    </tr>\n",
       "    <tr>\n",
       "      <th>3</th>\n",
       "      <td>1</td>\n",
       "      <td>1417865492333621253</td>\n",
       "      <td>2</td>\n",
       "      <td>2.0</td>\n",
       "    </tr>\n",
       "    <tr>\n",
       "      <th>4</th>\n",
       "      <td>1</td>\n",
       "      <td>1408087054634799106</td>\n",
       "      <td>3</td>\n",
       "      <td>1.0</td>\n",
       "    </tr>\n",
       "    <tr>\n",
       "      <th>5</th>\n",
       "      <td>1</td>\n",
       "      <td>1435613167107952640</td>\n",
       "      <td>0</td>\n",
       "      <td>1.0</td>\n",
       "    </tr>\n",
       "    <tr>\n",
       "      <th>6</th>\n",
       "      <td>1</td>\n",
       "      <td>1437766148708343808</td>\n",
       "      <td>1</td>\n",
       "      <td>0.0</td>\n",
       "    </tr>\n",
       "    <tr>\n",
       "      <th>7</th>\n",
       "      <td>1</td>\n",
       "      <td>1438528587783495686</td>\n",
       "      <td>0</td>\n",
       "      <td>0.0</td>\n",
       "    </tr>\n",
       "    <tr>\n",
       "      <th>8</th>\n",
       "      <td>1</td>\n",
       "      <td>1423027293119729668</td>\n",
       "      <td>2</td>\n",
       "      <td>0.0</td>\n",
       "    </tr>\n",
       "    <tr>\n",
       "      <th>9</th>\n",
       "      <td>1</td>\n",
       "      <td>1410362947046682625</td>\n",
       "      <td>3</td>\n",
       "      <td>0.0</td>\n",
       "    </tr>\n",
       "    <tr>\n",
       "      <th>10</th>\n",
       "      <td>2</td>\n",
       "      <td>1426509340744327170</td>\n",
       "      <td>0</td>\n",
       "      <td>3.0</td>\n",
       "    </tr>\n",
       "    <tr>\n",
       "      <th>11</th>\n",
       "      <td>2</td>\n",
       "      <td>1444751108040232960</td>\n",
       "      <td>0</td>\n",
       "      <td>3.0</td>\n",
       "    </tr>\n",
       "    <tr>\n",
       "      <th>12</th>\n",
       "      <td>2</td>\n",
       "      <td>1408448204023205895</td>\n",
       "      <td>3</td>\n",
       "      <td>1.0</td>\n",
       "    </tr>\n",
       "    <tr>\n",
       "      <th>13</th>\n",
       "      <td>2</td>\n",
       "      <td>1433083987405287425</td>\n",
       "      <td>1</td>\n",
       "      <td>1.0</td>\n",
       "    </tr>\n",
       "    <tr>\n",
       "      <th>14</th>\n",
       "      <td>2</td>\n",
       "      <td>1435612665725034496</td>\n",
       "      <td>0</td>\n",
       "      <td>0.0</td>\n",
       "    </tr>\n",
       "    <tr>\n",
       "      <th>15</th>\n",
       "      <td>2</td>\n",
       "      <td>1410200562927288325</td>\n",
       "      <td>1</td>\n",
       "      <td>0.0</td>\n",
       "    </tr>\n",
       "    <tr>\n",
       "      <th>16</th>\n",
       "      <td>2</td>\n",
       "      <td>1426192442722766854</td>\n",
       "      <td>0</td>\n",
       "      <td>0.0</td>\n",
       "    </tr>\n",
       "    <tr>\n",
       "      <th>17</th>\n",
       "      <td>2</td>\n",
       "      <td>1441457563665526788</td>\n",
       "      <td>0</td>\n",
       "      <td>0.0</td>\n",
       "    </tr>\n",
       "    <tr>\n",
       "      <th>18</th>\n",
       "      <td>2</td>\n",
       "      <td>1435612558824775680</td>\n",
       "      <td>3</td>\n",
       "      <td>0.0</td>\n",
       "    </tr>\n",
       "    <tr>\n",
       "      <th>19</th>\n",
       "      <td>2</td>\n",
       "      <td>1427990339491598339</td>\n",
       "      <td>0</td>\n",
       "      <td>0.0</td>\n",
       "    </tr>\n",
       "    <tr>\n",
       "      <th>20</th>\n",
       "      <td>3</td>\n",
       "      <td>1447422457837760520</td>\n",
       "      <td>1</td>\n",
       "      <td>3.0</td>\n",
       "    </tr>\n",
       "    <tr>\n",
       "      <th>21</th>\n",
       "      <td>3</td>\n",
       "      <td>1409514036232953856</td>\n",
       "      <td>0</td>\n",
       "      <td>2.0</td>\n",
       "    </tr>\n",
       "    <tr>\n",
       "      <th>22</th>\n",
       "      <td>3</td>\n",
       "      <td>1447294032179351557</td>\n",
       "      <td>2</td>\n",
       "      <td>1.0</td>\n",
       "    </tr>\n",
       "    <tr>\n",
       "      <th>23</th>\n",
       "      <td>3</td>\n",
       "      <td>1409892080537776134</td>\n",
       "      <td>3</td>\n",
       "      <td>0.0</td>\n",
       "    </tr>\n",
       "    <tr>\n",
       "      <th>24</th>\n",
       "      <td>4</td>\n",
       "      <td>1437436684023615495</td>\n",
       "      <td>3</td>\n",
       "      <td>4.0</td>\n",
       "    </tr>\n",
       "    <tr>\n",
       "      <th>25</th>\n",
       "      <td>4</td>\n",
       "      <td>1410608055016775690</td>\n",
       "      <td>2</td>\n",
       "      <td>4.0</td>\n",
       "    </tr>\n",
       "    <tr>\n",
       "      <th>26</th>\n",
       "      <td>4</td>\n",
       "      <td>1410521611418144771</td>\n",
       "      <td>4</td>\n",
       "      <td>3.0</td>\n",
       "    </tr>\n",
       "    <tr>\n",
       "      <th>27</th>\n",
       "      <td>4</td>\n",
       "      <td>1440603226257035264</td>\n",
       "      <td>1</td>\n",
       "      <td>3.0</td>\n",
       "    </tr>\n",
       "    <tr>\n",
       "      <th>28</th>\n",
       "      <td>4</td>\n",
       "      <td>1440603081264144389</td>\n",
       "      <td>3</td>\n",
       "      <td>2.0</td>\n",
       "    </tr>\n",
       "    <tr>\n",
       "      <th>29</th>\n",
       "      <td>4</td>\n",
       "      <td>1410489140874035200</td>\n",
       "      <td>4</td>\n",
       "      <td>1.0</td>\n",
       "    </tr>\n",
       "    <tr>\n",
       "      <th>30</th>\n",
       "      <td>5</td>\n",
       "      <td>1423635686981136389</td>\n",
       "      <td>1</td>\n",
       "      <td>4.0</td>\n",
       "    </tr>\n",
       "    <tr>\n",
       "      <th>31</th>\n",
       "      <td>5</td>\n",
       "      <td>1438842873630404609</td>\n",
       "      <td>0</td>\n",
       "      <td>2.0</td>\n",
       "    </tr>\n",
       "    <tr>\n",
       "      <th>32</th>\n",
       "      <td>5</td>\n",
       "      <td>1433748965003038723</td>\n",
       "      <td>0</td>\n",
       "      <td>2.0</td>\n",
       "    </tr>\n",
       "    <tr>\n",
       "      <th>33</th>\n",
       "      <td>5</td>\n",
       "      <td>1446101365558808577</td>\n",
       "      <td>2</td>\n",
       "      <td>1.0</td>\n",
       "    </tr>\n",
       "    <tr>\n",
       "      <th>34</th>\n",
       "      <td>5</td>\n",
       "      <td>1446114284778319878</td>\n",
       "      <td>0</td>\n",
       "      <td>0.0</td>\n",
       "    </tr>\n",
       "    <tr>\n",
       "      <th>35</th>\n",
       "      <td>5</td>\n",
       "      <td>1422159909957869572</td>\n",
       "      <td>2</td>\n",
       "      <td>0.0</td>\n",
       "    </tr>\n",
       "    <tr>\n",
       "      <th>36</th>\n",
       "      <td>5</td>\n",
       "      <td>1446114372057587712</td>\n",
       "      <td>4</td>\n",
       "      <td>0.0</td>\n",
       "    </tr>\n",
       "  </tbody>\n",
       "</table>\n",
       "</div>"
      ],
      "text/plain": [
       "   q_id               doc_id y_true  y_true_ideal\n",
       "0     1  1423591981456838656      1           3.0\n",
       "1     1  1408416636084707335      0           3.0\n",
       "2     1  1409244114411982855      0           2.0\n",
       "3     1  1417865492333621253      2           2.0\n",
       "4     1  1408087054634799106      3           1.0\n",
       "5     1  1435613167107952640      0           1.0\n",
       "6     1  1437766148708343808      1           0.0\n",
       "7     1  1438528587783495686      0           0.0\n",
       "8     1  1423027293119729668      2           0.0\n",
       "9     1  1410362947046682625      3           0.0\n",
       "10    2  1426509340744327170      0           3.0\n",
       "11    2  1444751108040232960      0           3.0\n",
       "12    2  1408448204023205895      3           1.0\n",
       "13    2  1433083987405287425      1           1.0\n",
       "14    2  1435612665725034496      0           0.0\n",
       "15    2  1410200562927288325      1           0.0\n",
       "16    2  1426192442722766854      0           0.0\n",
       "17    2  1441457563665526788      0           0.0\n",
       "18    2  1435612558824775680      3           0.0\n",
       "19    2  1427990339491598339      0           0.0\n",
       "20    3  1447422457837760520      1           3.0\n",
       "21    3  1409514036232953856      0           2.0\n",
       "22    3  1447294032179351557      2           1.0\n",
       "23    3  1409892080537776134      3           0.0\n",
       "24    4  1437436684023615495      3           4.0\n",
       "25    4  1410608055016775690      2           4.0\n",
       "26    4  1410521611418144771      4           3.0\n",
       "27    4  1440603226257035264      1           3.0\n",
       "28    4  1440603081264144389      3           2.0\n",
       "29    4  1410489140874035200      4           1.0\n",
       "30    5  1423635686981136389      1           4.0\n",
       "31    5  1438842873630404609      0           2.0\n",
       "32    5  1433748965003038723      0           2.0\n",
       "33    5  1446101365558808577      2           1.0\n",
       "34    5  1446114284778319878      0           0.0\n",
       "35    5  1422159909957869572      2           0.0\n",
       "36    5  1446114372057587712      4           0.0"
      ]
     },
     "execution_count": 85,
     "metadata": {},
     "output_type": "execute_result"
    }
   ],
   "source": [
    "#Creating the new ground truth\n",
    "df_ground_truth1 = pd.DataFrame(columns=['q_id', 'doc_id', 'y_true'])\n",
    "\n",
    "#Creating the list of queries ids\n",
    "query1 = 'Vaccine for covid19'\n",
    "query2 = 'Countries with more deaths from covid19'\n",
    "query3 = 'Mental health support'\n",
    "query4 = 'Women in health work'\n",
    "query5 = 'Covid19 symptoms'\n",
    "queries = [1,2,3,4,5]\n",
    "\n",
    "#Creating the list of the top 10 ranked documents for each query\n",
    "ranked_docs111 = search_w2v(query1, index)[:10]\n",
    "ranked_docs222 = search_w2v(query2, index)[:10]\n",
    "ranked_docs333 = search_w2v(query3, index)[:10]\n",
    "ranked_docs444 = search_w2v(query4, index)[:10]\n",
    "ranked_docs555 = search_w2v(query5, index)[:10]\n",
    "ranked_docs_all1 = [ranked_docs111, ranked_docs222, ranked_docs333, ranked_docs444, ranked_docs555]\n",
    "\n",
    "#Creating the list of labels indicating the relevance of documents (0 - not relevant, 4 - very relevant)\n",
    "y_true1 = [1,0,0,2,3,0,1,0,2,3]\n",
    "y_true2 = [0,0,3,1,0,1,0,0,3,0]\n",
    "y_true3 = [1,0,2,3]\n",
    "y_true4 = [3,2,4,1,3,4]\n",
    "y_true5 = [1,0,0,2,0,2,4]\n",
    "y_true_all = [y_true1, y_true2, y_true3, y_true4, y_true5]\n",
    "\n",
    "#Creating the list of ranked documents ideally ordered by relevance\n",
    "y_true1_ideal = y_true1.copy()\n",
    "y_true2_ideal = y_true2.copy()\n",
    "y_true3_ideal = y_true3.copy()\n",
    "y_true4_ideal = y_true4.copy()\n",
    "y_true5_ideal = y_true5.copy()\n",
    "\n",
    "y_true1_ideal.sort(reverse=True)\n",
    "y_true2_ideal.sort(reverse=True)\n",
    "y_true3_ideal.sort(reverse=True)\n",
    "y_true4_ideal.sort(reverse=True)\n",
    "y_true5_ideal.sort(reverse=True)\n",
    "y_true_ideal_all = [y_true1_ideal, y_true2_ideal, y_true3_ideal, y_true4_ideal, y_true5_ideal]\n",
    "\n",
    "\n",
    "for i in range(len(queries)):\n",
    "    for row in range(len(ranked_docs_all1[i])):\n",
    "        newRow = {\n",
    "            \"q_id\": queries[i],\n",
    "            \"doc_id\": ranked_docs_all1[i][row] ,\n",
    "            \"y_true\": y_true_all[i][row],\n",
    "            \"y_true_ideal\": y_true_ideal_all[i][row]\n",
    "        }\n",
    "        \n",
    "        df_ground_truth1 = df_ground_truth1.append(newRow, ignore_index=True, sort=False)\n",
    "\n",
    "df_ground_truth1"
   ]
  },
  {
   "cell_type": "code",
   "execution_count": 86,
   "metadata": {},
   "outputs": [
    {
     "data": {
      "text/html": [
       "<div>\n",
       "<style scoped>\n",
       "    .dataframe tbody tr th:only-of-type {\n",
       "        vertical-align: middle;\n",
       "    }\n",
       "\n",
       "    .dataframe tbody tr th {\n",
       "        vertical-align: top;\n",
       "    }\n",
       "\n",
       "    .dataframe thead th {\n",
       "        text-align: right;\n",
       "    }\n",
       "</style>\n",
       "<table border=\"1\" class=\"dataframe\">\n",
       "  <thead>\n",
       "    <tr style=\"text-align: right;\">\n",
       "      <th></th>\n",
       "      <th>q_id</th>\n",
       "      <th>doc_id</th>\n",
       "      <th>y_true</th>\n",
       "      <th>y_true_ideal</th>\n",
       "      <th>bin_y_true</th>\n",
       "    </tr>\n",
       "  </thead>\n",
       "  <tbody>\n",
       "    <tr>\n",
       "      <th>0</th>\n",
       "      <td>1</td>\n",
       "      <td>1423591981456838656</td>\n",
       "      <td>1</td>\n",
       "      <td>3.0</td>\n",
       "      <td>0</td>\n",
       "    </tr>\n",
       "    <tr>\n",
       "      <th>1</th>\n",
       "      <td>1</td>\n",
       "      <td>1408416636084707335</td>\n",
       "      <td>0</td>\n",
       "      <td>3.0</td>\n",
       "      <td>0</td>\n",
       "    </tr>\n",
       "    <tr>\n",
       "      <th>2</th>\n",
       "      <td>1</td>\n",
       "      <td>1409244114411982855</td>\n",
       "      <td>0</td>\n",
       "      <td>2.0</td>\n",
       "      <td>0</td>\n",
       "    </tr>\n",
       "    <tr>\n",
       "      <th>3</th>\n",
       "      <td>1</td>\n",
       "      <td>1417865492333621253</td>\n",
       "      <td>2</td>\n",
       "      <td>2.0</td>\n",
       "      <td>1</td>\n",
       "    </tr>\n",
       "    <tr>\n",
       "      <th>4</th>\n",
       "      <td>1</td>\n",
       "      <td>1408087054634799106</td>\n",
       "      <td>3</td>\n",
       "      <td>1.0</td>\n",
       "      <td>1</td>\n",
       "    </tr>\n",
       "  </tbody>\n",
       "</table>\n",
       "</div>"
      ],
      "text/plain": [
       "  q_id               doc_id y_true  y_true_ideal  bin_y_true\n",
       "0    1  1423591981456838656      1           3.0           0\n",
       "1    1  1408416636084707335      0           3.0           0\n",
       "2    1  1409244114411982855      0           2.0           0\n",
       "3    1  1417865492333621253      2           2.0           1\n",
       "4    1  1408087054634799106      3           1.0           1"
      ]
     },
     "execution_count": 86,
     "metadata": {},
     "output_type": "execute_result"
    }
   ],
   "source": [
    "#Adding a binary value indicating 1 - relevance, 0 - non-relevance\n",
    "df_ground_truth1[\"bin_y_true\"] = df_ground_truth1['y_true'].apply(lambda y: 1 if y >= 2 else 0)\n",
    "df_ground_truth1.head()"
   ]
  },
  {
   "cell_type": "markdown",
   "metadata": {},
   "source": [
    "### Mean Average Precision - MAP"
   ]
  },
  {
   "cell_type": "code",
   "execution_count": 87,
   "metadata": {},
   "outputs": [
    {
     "data": {
      "text/plain": [
       "0.46084920634920634"
      ]
     },
     "execution_count": 87,
     "metadata": {},
     "output_type": "execute_result"
    }
   ],
   "source": [
    "#Computing mAP@10 for all queries of the dataset\n",
    "map_k = map_at_k(df_ground_truth1, 10)\n",
    "map_k"
   ]
  },
  {
   "cell_type": "markdown",
   "metadata": {},
   "source": [
    "### Mean Reciprocal Rank - MRR"
   ]
  },
  {
   "cell_type": "code",
   "execution_count": 88,
   "metadata": {},
   "outputs": [],
   "source": [
    "mrr = {}\n",
    "for k in [3,5,10]:\n",
    "    RRs = []\n",
    "    for q in df_ground_truth1[\"q_id\"].unique(): # loop over all query ids\n",
    "        labels = np.array(df_ground_truth1[df_ground_truth1[\"q_id\"] == q][\"bin_y_true\"]) # get labels for current query\n",
    "        RRs.append(rr_at_k(labels, k)) # append RR for current query\n",
    "    mrr[k] = np.round(float(sum(RRs)/len(RRs)),4) # Mean RR at current k"
   ]
  },
  {
   "cell_type": "code",
   "execution_count": 89,
   "metadata": {},
   "outputs": [
    {
     "data": {
      "text/plain": [
       "{3: 0.3333, 5: 0.4333, 10: 0.4333}"
      ]
     },
     "execution_count": 89,
     "metadata": {},
     "output_type": "execute_result"
    }
   ],
   "source": [
    "mrr"
   ]
  },
  {
   "cell_type": "markdown",
   "metadata": {},
   "source": [
    "### Average NDCG - Normalized Discounted Cumulative Gain"
   ]
  },
  {
   "cell_type": "code",
   "execution_count": 90,
   "metadata": {},
   "outputs": [
    {
     "name": "stdout",
     "output_type": "stream",
     "text": [
      "Average ndcg@10: 0.5734\n"
     ]
    }
   ],
   "source": [
    "ndcgs = []\n",
    "k=10\n",
    "for q in df_ground_truth1[\"q_id\"].unique(): # loop over all query ids\n",
    "    labels = np.array(df_ground_truth1[df_ground_truth1[\"q_id\"] == q][\"y_true\"]) ## get labels for current query\n",
    "    scores = np.array(df_ground_truth1[df_ground_truth1[\"q_id\"] == q][\"y_true_ideal\"]) # get ideal relevance order for current query\n",
    "    ndcgs.append(np.round(ndcg_at_k(labels, scores, k), 4)) # append NDCG for current query\n",
    "\n",
    "avg_ndcg = np.round(float(sum(ndcgs)/len(ndcgs)),4) # Compute average NDCG\n",
    "print(\"Average ndcg@{}: {}\".format(k,avg_ndcg))"
   ]
  }
 ],
 "metadata": {
  "colab": {
   "name": "IRWA_2021_final_project_part_3.ipynb",
   "provenance": []
  },
  "kernelspec": {
   "display_name": "Python 3",
   "language": "python",
   "name": "python3"
  },
  "language_info": {
   "codemirror_mode": {
    "name": "ipython",
    "version": 3
   },
   "file_extension": ".py",
   "mimetype": "text/x-python",
   "name": "python",
   "nbconvert_exporter": "python",
   "pygments_lexer": "ipython3",
   "version": "3.7.9"
  }
 },
 "nbformat": 4,
 "nbformat_minor": 1
}
